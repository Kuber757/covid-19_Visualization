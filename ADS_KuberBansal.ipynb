{
  "nbformat": 4,
  "nbformat_minor": 0,
  "metadata": {
    "colab": {
      "name": "ADS_KuberBansal.ipynb",
      "provenance": [],
      "collapsed_sections": [],
      "toc_visible": true
    },
    "kernelspec": {
      "name": "python3",
      "display_name": "Python 3"
    }
  },
  "cells": [
    {
      "cell_type": "markdown",
      "metadata": {
        "id": "0BlVqhQylCzR"
      },
      "source": [
        "# **COVID-19 Data-processing and visualization**\n",
        "Visualization of COVID-19 data. Data was scrapped from online running site and some data is taken from kaggle."
      ]
    },
    {
      "cell_type": "markdown",
      "metadata": {
        "id": "TX7m186allYa"
      },
      "source": [
        "Importing essential liberaries"
      ]
    },
    {
      "cell_type": "code",
      "metadata": {
        "id": "6y39nnOUqPUP"
      },
      "source": [
        "import pandas as pd\n",
        "import matplotlib.pyplot as plt\n",
        "import plotly.express as px"
      ],
      "execution_count": 1,
      "outputs": []
    },
    {
      "cell_type": "markdown",
      "metadata": {
        "id": "61jPEcohqcph"
      },
      "source": [
        "Importing the AGeGroup detail file, which shows the trend of the cases divided on the basis of age."
      ]
    },
    {
      "cell_type": "code",
      "metadata": {
        "id": "91dgv7_nqVbX",
        "outputId": "549cb271-c0e8-4ceb-8973-94cc9cd7bc34",
        "colab": {
          "base_uri": "https://localhost:8080/",
          "height": 191
        }
      },
      "source": [
        "age_data = pd.read_csv(\"AgeGroupDetails.csv\")\n",
        "age_data.head()"
      ],
      "execution_count": 2,
      "outputs": [
        {
          "output_type": "execute_result",
          "data": {
            "text/html": [
              "<div>\n",
              "<style scoped>\n",
              "    .dataframe tbody tr th:only-of-type {\n",
              "        vertical-align: middle;\n",
              "    }\n",
              "\n",
              "    .dataframe tbody tr th {\n",
              "        vertical-align: top;\n",
              "    }\n",
              "\n",
              "    .dataframe thead th {\n",
              "        text-align: right;\n",
              "    }\n",
              "</style>\n",
              "<table border=\"1\" class=\"dataframe\">\n",
              "  <thead>\n",
              "    <tr style=\"text-align: right;\">\n",
              "      <th></th>\n",
              "      <th>Sno</th>\n",
              "      <th>AgeGroup</th>\n",
              "      <th>TotalCases</th>\n",
              "      <th>Percentage</th>\n",
              "    </tr>\n",
              "  </thead>\n",
              "  <tbody>\n",
              "    <tr>\n",
              "      <th>0</th>\n",
              "      <td>1</td>\n",
              "      <td>0-9</td>\n",
              "      <td>22</td>\n",
              "      <td>3.18%</td>\n",
              "    </tr>\n",
              "    <tr>\n",
              "      <th>1</th>\n",
              "      <td>2</td>\n",
              "      <td>10-19</td>\n",
              "      <td>27</td>\n",
              "      <td>3.90%</td>\n",
              "    </tr>\n",
              "    <tr>\n",
              "      <th>2</th>\n",
              "      <td>3</td>\n",
              "      <td>20-29</td>\n",
              "      <td>172</td>\n",
              "      <td>24.86%</td>\n",
              "    </tr>\n",
              "    <tr>\n",
              "      <th>3</th>\n",
              "      <td>4</td>\n",
              "      <td>30-39</td>\n",
              "      <td>146</td>\n",
              "      <td>21.10%</td>\n",
              "    </tr>\n",
              "    <tr>\n",
              "      <th>4</th>\n",
              "      <td>5</td>\n",
              "      <td>40-49</td>\n",
              "      <td>112</td>\n",
              "      <td>16.18%</td>\n",
              "    </tr>\n",
              "  </tbody>\n",
              "</table>\n",
              "</div>"
            ],
            "text/plain": [
              "   Sno AgeGroup  TotalCases Percentage\n",
              "0    1      0-9          22      3.18%\n",
              "1    2    10-19          27      3.90%\n",
              "2    3    20-29         172     24.86%\n",
              "3    4    30-39         146     21.10%\n",
              "4    5    40-49         112     16.18%"
            ]
          },
          "metadata": {
            "tags": []
          },
          "execution_count": 2
        }
      ]
    },
    {
      "cell_type": "markdown",
      "metadata": {
        "id": "PYiY8k0Oqr2L"
      },
      "source": [
        "Adding mean age for each group"
      ]
    },
    {
      "cell_type": "code",
      "metadata": {
        "id": "FikBstMlqq9V"
      },
      "source": [
        "age_data[\"meanAge\"] = age_data[\"Sno\"]*10 - 5"
      ],
      "execution_count": 3,
      "outputs": []
    },
    {
      "cell_type": "code",
      "metadata": {
        "id": "8hqD--R8qxUk",
        "outputId": "26efd682-ac1e-4ae9-eda3-168038930928",
        "colab": {
          "base_uri": "https://localhost:8080/",
          "height": 191
        }
      },
      "source": [
        "age_data.head()"
      ],
      "execution_count": 4,
      "outputs": [
        {
          "output_type": "execute_result",
          "data": {
            "text/html": [
              "<div>\n",
              "<style scoped>\n",
              "    .dataframe tbody tr th:only-of-type {\n",
              "        vertical-align: middle;\n",
              "    }\n",
              "\n",
              "    .dataframe tbody tr th {\n",
              "        vertical-align: top;\n",
              "    }\n",
              "\n",
              "    .dataframe thead th {\n",
              "        text-align: right;\n",
              "    }\n",
              "</style>\n",
              "<table border=\"1\" class=\"dataframe\">\n",
              "  <thead>\n",
              "    <tr style=\"text-align: right;\">\n",
              "      <th></th>\n",
              "      <th>Sno</th>\n",
              "      <th>AgeGroup</th>\n",
              "      <th>TotalCases</th>\n",
              "      <th>Percentage</th>\n",
              "      <th>meanAge</th>\n",
              "    </tr>\n",
              "  </thead>\n",
              "  <tbody>\n",
              "    <tr>\n",
              "      <th>0</th>\n",
              "      <td>1</td>\n",
              "      <td>0-9</td>\n",
              "      <td>22</td>\n",
              "      <td>3.18%</td>\n",
              "      <td>5</td>\n",
              "    </tr>\n",
              "    <tr>\n",
              "      <th>1</th>\n",
              "      <td>2</td>\n",
              "      <td>10-19</td>\n",
              "      <td>27</td>\n",
              "      <td>3.90%</td>\n",
              "      <td>15</td>\n",
              "    </tr>\n",
              "    <tr>\n",
              "      <th>2</th>\n",
              "      <td>3</td>\n",
              "      <td>20-29</td>\n",
              "      <td>172</td>\n",
              "      <td>24.86%</td>\n",
              "      <td>25</td>\n",
              "    </tr>\n",
              "    <tr>\n",
              "      <th>3</th>\n",
              "      <td>4</td>\n",
              "      <td>30-39</td>\n",
              "      <td>146</td>\n",
              "      <td>21.10%</td>\n",
              "      <td>35</td>\n",
              "    </tr>\n",
              "    <tr>\n",
              "      <th>4</th>\n",
              "      <td>5</td>\n",
              "      <td>40-49</td>\n",
              "      <td>112</td>\n",
              "      <td>16.18%</td>\n",
              "      <td>45</td>\n",
              "    </tr>\n",
              "  </tbody>\n",
              "</table>\n",
              "</div>"
            ],
            "text/plain": [
              "   Sno AgeGroup  TotalCases Percentage  meanAge\n",
              "0    1      0-9          22      3.18%        5\n",
              "1    2    10-19          27      3.90%       15\n",
              "2    3    20-29         172     24.86%       25\n",
              "3    4    30-39         146     21.10%       35\n",
              "4    5    40-49         112     16.18%       45"
            ]
          },
          "metadata": {
            "tags": []
          },
          "execution_count": 4
        }
      ]
    },
    {
      "cell_type": "code",
      "metadata": {
        "id": "U8MNSmhvq0RN",
        "outputId": "8c797f06-4071-400a-d2ea-f03826ddf45c",
        "colab": {
          "base_uri": "https://localhost:8080/",
          "height": 163
        }
      },
      "source": [
        "age_data[\"TotalCases\"].describe()"
      ],
      "execution_count": 5,
      "outputs": [
        {
          "output_type": "execute_result",
          "data": {
            "text/plain": [
              "count     10.000000\n",
              "mean      69.200000\n",
              "std       59.241127\n",
              "min        9.000000\n",
              "25%       23.250000\n",
              "50%       52.500000\n",
              "75%      106.250000\n",
              "max      172.000000\n",
              "Name: TotalCases, dtype: float64"
            ]
          },
          "metadata": {
            "tags": []
          },
          "execution_count": 5
        }
      ]
    },
    {
      "cell_type": "code",
      "metadata": {
        "id": "SK01fFXgq3CZ",
        "outputId": "0548c4fc-d78d-4268-b5a9-b1aca68acf3b",
        "colab": {
          "base_uri": "https://localhost:8080/",
          "height": 313
        }
      },
      "source": [
        "age_data.plot(x=\"meanAge\", y=\"TotalCases\", kind=\"bar\", title = \"Number of cases with respeeect to age.\")"
      ],
      "execution_count": 6,
      "outputs": [
        {
          "output_type": "execute_result",
          "data": {
            "text/plain": [
              "<matplotlib.axes._subplots.AxesSubplot at 0x7fcf3fee6208>"
            ]
          },
          "metadata": {
            "tags": []
          },
          "execution_count": 6
        },
        {
          "output_type": "display_data",
          "data": {
            "image/png": "[encoded data removed]",
            "text/plain": [
              "<Figure size 432x288 with 1 Axes>"
            ]
          },
          "metadata": {
            "tags": [],
            "needs_background": "light"
          }
        }
      ]
    },
    {
      "cell_type": "markdown",
      "metadata": {
        "id": "nr8zmOgHq5f1"
      },
      "source": [
        "**Citizen in the age group of 20-30 were worst hit by the total cases. This is the data from initial 30-40 days, when India was hit by COVID-19. The possible reason would have been the movement of this age group. They were most exposed to the virus**"
      ]
    },
    {
      "cell_type": "code",
      "metadata": {
        "id": "jq4T5_NsrWgq",
        "outputId": "2e3d0a16-b912-4848-9b6b-134ca10ac7ea",
        "colab": {
          "base_uri": "https://localhost:8080/",
          "height": 191
        }
      },
      "source": [
        "india_data = pd.read_csv(\"covid_19_india.csv\")\n",
        "india_data.head()"
      ],
      "execution_count": 7,
      "outputs": [
        {
          "output_type": "execute_result",
          "data": {
            "text/html": [
              "<div>\n",
              "<style scoped>\n",
              "    .dataframe tbody tr th:only-of-type {\n",
              "        vertical-align: middle;\n",
              "    }\n",
              "\n",
              "    .dataframe tbody tr th {\n",
              "        vertical-align: top;\n",
              "    }\n",
              "\n",
              "    .dataframe thead th {\n",
              "        text-align: right;\n",
              "    }\n",
              "</style>\n",
              "<table border=\"1\" class=\"dataframe\">\n",
              "  <thead>\n",
              "    <tr style=\"text-align: right;\">\n",
              "      <th></th>\n",
              "      <th>Sno</th>\n",
              "      <th>Date</th>\n",
              "      <th>Time</th>\n",
              "      <th>State/UnionTerritory</th>\n",
              "      <th>ConfirmedIndianNational</th>\n",
              "      <th>ConfirmedForeignNational</th>\n",
              "      <th>Cured</th>\n",
              "      <th>Deaths</th>\n",
              "      <th>Confirmed</th>\n",
              "    </tr>\n",
              "  </thead>\n",
              "  <tbody>\n",
              "    <tr>\n",
              "      <th>0</th>\n",
              "      <td>1</td>\n",
              "      <td>30/01/20</td>\n",
              "      <td>6:00 PM</td>\n",
              "      <td>Kerala</td>\n",
              "      <td>1</td>\n",
              "      <td>0</td>\n",
              "      <td>0</td>\n",
              "      <td>0</td>\n",
              "      <td>1</td>\n",
              "    </tr>\n",
              "    <tr>\n",
              "      <th>1</th>\n",
              "      <td>2</td>\n",
              "      <td>31/01/20</td>\n",
              "      <td>6:00 PM</td>\n",
              "      <td>Kerala</td>\n",
              "      <td>1</td>\n",
              "      <td>0</td>\n",
              "      <td>0</td>\n",
              "      <td>0</td>\n",
              "      <td>1</td>\n",
              "    </tr>\n",
              "    <tr>\n",
              "      <th>2</th>\n",
              "      <td>3</td>\n",
              "      <td>1/2/2020</td>\n",
              "      <td>6:00 PM</td>\n",
              "      <td>Kerala</td>\n",
              "      <td>2</td>\n",
              "      <td>0</td>\n",
              "      <td>0</td>\n",
              "      <td>0</td>\n",
              "      <td>2</td>\n",
              "    </tr>\n",
              "    <tr>\n",
              "      <th>3</th>\n",
              "      <td>4</td>\n",
              "      <td>2/2/2020</td>\n",
              "      <td>6:00 PM</td>\n",
              "      <td>Kerala</td>\n",
              "      <td>3</td>\n",
              "      <td>0</td>\n",
              "      <td>0</td>\n",
              "      <td>0</td>\n",
              "      <td>3</td>\n",
              "    </tr>\n",
              "    <tr>\n",
              "      <th>4</th>\n",
              "      <td>5</td>\n",
              "      <td>3/2/2020</td>\n",
              "      <td>6:00 PM</td>\n",
              "      <td>Kerala</td>\n",
              "      <td>3</td>\n",
              "      <td>0</td>\n",
              "      <td>0</td>\n",
              "      <td>0</td>\n",
              "      <td>3</td>\n",
              "    </tr>\n",
              "  </tbody>\n",
              "</table>\n",
              "</div>"
            ],
            "text/plain": [
              "   Sno      Date     Time  ... Cured Deaths Confirmed\n",
              "0    1  30/01/20  6:00 PM  ...     0      0         1\n",
              "1    2  31/01/20  6:00 PM  ...     0      0         1\n",
              "2    3  1/2/2020  6:00 PM  ...     0      0         2\n",
              "3    4  2/2/2020  6:00 PM  ...     0      0         3\n",
              "4    5  3/2/2020  6:00 PM  ...     0      0         3\n",
              "\n",
              "[5 rows x 9 columns]"
            ]
          },
          "metadata": {
            "tags": []
          },
          "execution_count": 7
        }
      ]
    },
    {
      "cell_type": "markdown",
      "metadata": {
        "id": "8tahcgZtraEF"
      },
      "source": [
        "Checking Null values"
      ]
    },
    {
      "cell_type": "code",
      "metadata": {
        "id": "qMypV0eJrcLI",
        "outputId": "07d1f39f-51f3-413c-a123-d03f70907aff",
        "colab": {
          "base_uri": "https://localhost:8080/",
          "height": 180
        }
      },
      "source": [
        "india_data.isnull().sum()"
      ],
      "execution_count": 8,
      "outputs": [
        {
          "output_type": "execute_result",
          "data": {
            "text/plain": [
              "Sno                         0\n",
              "Date                        0\n",
              "Time                        0\n",
              "State/UnionTerritory        0\n",
              "ConfirmedIndianNational     0\n",
              "ConfirmedForeignNational    0\n",
              "Cured                       0\n",
              "Deaths                      0\n",
              "Confirmed                   0\n",
              "dtype: int64"
            ]
          },
          "metadata": {
            "tags": []
          },
          "execution_count": 8
        }
      ]
    },
    {
      "cell_type": "code",
      "metadata": {
        "id": "kkVv_Hzdre2M",
        "outputId": "f3f128b1-8ca9-4b5a-d109-cb366dfe9de7",
        "colab": {
          "base_uri": "https://localhost:8080/",
          "height": 277
        }
      },
      "source": [
        "india_data.describe()"
      ],
      "execution_count": 9,
      "outputs": [
        {
          "output_type": "execute_result",
          "data": {
            "text/html": [
              "<div>\n",
              "<style scoped>\n",
              "    .dataframe tbody tr th:only-of-type {\n",
              "        vertical-align: middle;\n",
              "    }\n",
              "\n",
              "    .dataframe tbody tr th {\n",
              "        vertical-align: top;\n",
              "    }\n",
              "\n",
              "    .dataframe thead th {\n",
              "        text-align: right;\n",
              "    }\n",
              "</style>\n",
              "<table border=\"1\" class=\"dataframe\">\n",
              "  <thead>\n",
              "    <tr style=\"text-align: right;\">\n",
              "      <th></th>\n",
              "      <th>Sno</th>\n",
              "      <th>Cured</th>\n",
              "      <th>Deaths</th>\n",
              "      <th>Confirmed</th>\n",
              "    </tr>\n",
              "  </thead>\n",
              "  <tbody>\n",
              "    <tr>\n",
              "      <th>count</th>\n",
              "      <td>3351.000000</td>\n",
              "      <td>3351.000000</td>\n",
              "      <td>3351.000000</td>\n",
              "      <td>3351.000000</td>\n",
              "    </tr>\n",
              "    <tr>\n",
              "      <th>mean</th>\n",
              "      <td>1676.000000</td>\n",
              "      <td>1432.521635</td>\n",
              "      <td>93.457774</td>\n",
              "      <td>3090.470307</td>\n",
              "    </tr>\n",
              "    <tr>\n",
              "      <th>std</th>\n",
              "      <td>967.494703</td>\n",
              "      <td>5085.838368</td>\n",
              "      <td>407.541084</td>\n",
              "      <td>10470.065534</td>\n",
              "    </tr>\n",
              "    <tr>\n",
              "      <th>min</th>\n",
              "      <td>1.000000</td>\n",
              "      <td>0.000000</td>\n",
              "      <td>0.000000</td>\n",
              "      <td>0.000000</td>\n",
              "    </tr>\n",
              "    <tr>\n",
              "      <th>25%</th>\n",
              "      <td>838.500000</td>\n",
              "      <td>1.000000</td>\n",
              "      <td>0.000000</td>\n",
              "      <td>15.000000</td>\n",
              "    </tr>\n",
              "    <tr>\n",
              "      <th>50%</th>\n",
              "      <td>1676.000000</td>\n",
              "      <td>33.000000</td>\n",
              "      <td>1.000000</td>\n",
              "      <td>156.000000</td>\n",
              "    </tr>\n",
              "    <tr>\n",
              "      <th>75%</th>\n",
              "      <td>2513.500000</td>\n",
              "      <td>568.000000</td>\n",
              "      <td>24.000000</td>\n",
              "      <td>1810.000000</td>\n",
              "    </tr>\n",
              "    <tr>\n",
              "      <th>max</th>\n",
              "      <td>3351.000000</td>\n",
              "      <td>67706.000000</td>\n",
              "      <td>6283.000000</td>\n",
              "      <td>135796.000000</td>\n",
              "    </tr>\n",
              "  </tbody>\n",
              "</table>\n",
              "</div>"
            ],
            "text/plain": [
              "               Sno         Cured       Deaths      Confirmed\n",
              "count  3351.000000   3351.000000  3351.000000    3351.000000\n",
              "mean   1676.000000   1432.521635    93.457774    3090.470307\n",
              "std     967.494703   5085.838368   407.541084   10470.065534\n",
              "min       1.000000      0.000000     0.000000       0.000000\n",
              "25%     838.500000      1.000000     0.000000      15.000000\n",
              "50%    1676.000000     33.000000     1.000000     156.000000\n",
              "75%    2513.500000    568.000000    24.000000    1810.000000\n",
              "max    3351.000000  67706.000000  6283.000000  135796.000000"
            ]
          },
          "metadata": {
            "tags": []
          },
          "execution_count": 9
        }
      ]
    },
    {
      "cell_type": "code",
      "metadata": {
        "id": "AHm9QydZrhQ3"
      },
      "source": [
        "india_data = india_data.drop([\"ConfirmedIndianNational\" , \"ConfirmedForeignNational\", \"Time\",\"Sno\"],axis=1)"
      ],
      "execution_count": 10,
      "outputs": []
    },
    {
      "cell_type": "code",
      "metadata": {
        "id": "D32-JWSArkUt",
        "outputId": "4f2e2667-fe72-4189-ff5c-e48e8d14f0bf",
        "colab": {
          "base_uri": "https://localhost:8080/",
          "height": 191
        }
      },
      "source": [
        "india_data.tail()"
      ],
      "execution_count": 11,
      "outputs": [
        {
          "output_type": "execute_result",
          "data": {
            "text/html": [
              "<div>\n",
              "<style scoped>\n",
              "    .dataframe tbody tr th:only-of-type {\n",
              "        vertical-align: middle;\n",
              "    }\n",
              "\n",
              "    .dataframe tbody tr th {\n",
              "        vertical-align: top;\n",
              "    }\n",
              "\n",
              "    .dataframe thead th {\n",
              "        text-align: right;\n",
              "    }\n",
              "</style>\n",
              "<table border=\"1\" class=\"dataframe\">\n",
              "  <thead>\n",
              "    <tr style=\"text-align: right;\">\n",
              "      <th></th>\n",
              "      <th>Date</th>\n",
              "      <th>State/UnionTerritory</th>\n",
              "      <th>Cured</th>\n",
              "      <th>Deaths</th>\n",
              "      <th>Confirmed</th>\n",
              "    </tr>\n",
              "  </thead>\n",
              "  <tbody>\n",
              "    <tr>\n",
              "      <th>3346</th>\n",
              "      <td>22/06/20</td>\n",
              "      <td>Tripura</td>\n",
              "      <td>782</td>\n",
              "      <td>1</td>\n",
              "      <td>1237</td>\n",
              "    </tr>\n",
              "    <tr>\n",
              "      <th>3347</th>\n",
              "      <td>22/06/20</td>\n",
              "      <td>Uttarakhand</td>\n",
              "      <td>1521</td>\n",
              "      <td>28</td>\n",
              "      <td>2402</td>\n",
              "    </tr>\n",
              "    <tr>\n",
              "      <th>3348</th>\n",
              "      <td>22/06/20</td>\n",
              "      <td>Uttar Pradesh</td>\n",
              "      <td>11601</td>\n",
              "      <td>569</td>\n",
              "      <td>18322</td>\n",
              "    </tr>\n",
              "    <tr>\n",
              "      <th>3349</th>\n",
              "      <td>22/06/20</td>\n",
              "      <td>West Bengal</td>\n",
              "      <td>8687</td>\n",
              "      <td>569</td>\n",
              "      <td>14358</td>\n",
              "    </tr>\n",
              "    <tr>\n",
              "      <th>3350</th>\n",
              "      <td>22/06/20</td>\n",
              "      <td>Cases being reassigned to states</td>\n",
              "      <td>0</td>\n",
              "      <td>0</td>\n",
              "      <td>8015</td>\n",
              "    </tr>\n",
              "  </tbody>\n",
              "</table>\n",
              "</div>"
            ],
            "text/plain": [
              "          Date              State/UnionTerritory  Cured  Deaths  Confirmed\n",
              "3346  22/06/20                           Tripura    782       1       1237\n",
              "3347  22/06/20                       Uttarakhand   1521      28       2402\n",
              "3348  22/06/20                     Uttar Pradesh  11601     569      18322\n",
              "3349  22/06/20                       West Bengal   8687     569      14358\n",
              "3350  22/06/20  Cases being reassigned to states      0       0       8015"
            ]
          },
          "metadata": {
            "tags": []
          },
          "execution_count": 11
        }
      ]
    },
    {
      "cell_type": "markdown",
      "metadata": {
        "id": "Talzz9QIrn5g"
      },
      "source": [
        "Creating a new data base, to big the information of till date total cases for each state in India."
      ]
    },
    {
      "cell_type": "code",
      "metadata": {
        "id": "aLe18DsurmmL",
        "outputId": "6dc91390-8d61-4309-8c54-63ee33353d51",
        "colab": {
          "base_uri": "https://localhost:8080/",
          "height": 191
        }
      },
      "source": [
        "states_data = india_data.groupby(\"State/UnionTerritory\").sum()\n",
        "states_data.reset_index(level=0, inplace=True)\n",
        "states_data.head()"
      ],
      "execution_count": 12,
      "outputs": [
        {
          "output_type": "execute_result",
          "data": {
            "text/html": [
              "<div>\n",
              "<style scoped>\n",
              "    .dataframe tbody tr th:only-of-type {\n",
              "        vertical-align: middle;\n",
              "    }\n",
              "\n",
              "    .dataframe tbody tr th {\n",
              "        vertical-align: top;\n",
              "    }\n",
              "\n",
              "    .dataframe thead th {\n",
              "        text-align: right;\n",
              "    }\n",
              "</style>\n",
              "<table border=\"1\" class=\"dataframe\">\n",
              "  <thead>\n",
              "    <tr style=\"text-align: right;\">\n",
              "      <th></th>\n",
              "      <th>State/UnionTerritory</th>\n",
              "      <th>Cured</th>\n",
              "      <th>Deaths</th>\n",
              "      <th>Confirmed</th>\n",
              "    </tr>\n",
              "  </thead>\n",
              "  <tbody>\n",
              "    <tr>\n",
              "      <th>0</th>\n",
              "      <td>Andaman and Nicobar Islands</td>\n",
              "      <td>1952</td>\n",
              "      <td>0</td>\n",
              "      <td>2421</td>\n",
              "    </tr>\n",
              "    <tr>\n",
              "      <th>1</th>\n",
              "      <td>Andhra Pradesh</td>\n",
              "      <td>114717</td>\n",
              "      <td>3774</td>\n",
              "      <td>225342</td>\n",
              "    </tr>\n",
              "    <tr>\n",
              "      <th>2</th>\n",
              "      <td>Arunachal Pradesh</td>\n",
              "      <td>164</td>\n",
              "      <td>0</td>\n",
              "      <td>1711</td>\n",
              "    </tr>\n",
              "    <tr>\n",
              "      <th>3</th>\n",
              "      <td>Assam</td>\n",
              "      <td>37254</td>\n",
              "      <td>240</td>\n",
              "      <td>85578</td>\n",
              "    </tr>\n",
              "    <tr>\n",
              "      <th>4</th>\n",
              "      <td>Bihar</td>\n",
              "      <td>98190</td>\n",
              "      <td>1149</td>\n",
              "      <td>183404</td>\n",
              "    </tr>\n",
              "  </tbody>\n",
              "</table>\n",
              "</div>"
            ],
            "text/plain": [
              "          State/UnionTerritory   Cured  Deaths  Confirmed\n",
              "0  Andaman and Nicobar Islands    1952       0       2421\n",
              "1               Andhra Pradesh  114717    3774     225342\n",
              "2            Arunachal Pradesh     164       0       1711\n",
              "3                        Assam   37254     240      85578\n",
              "4                        Bihar   98190    1149     183404"
            ]
          },
          "metadata": {
            "tags": []
          },
          "execution_count": 12
        }
      ]
    },
    {
      "cell_type": "code",
      "metadata": {
        "id": "XqIGi85urvXi"
      },
      "source": [
        "from matplotlib.pyplot import figure"
      ],
      "execution_count": 13,
      "outputs": []
    },
    {
      "cell_type": "code",
      "metadata": {
        "id": "QZdUnVlUrxTz",
        "outputId": "e447cc0b-a0ab-474c-d093-2b55dbea06f5",
        "colab": {
          "base_uri": "https://localhost:8080/",
          "height": 835
        }
      },
      "source": [
        "states_data.plot(x=\"State/UnionTerritory\", y=\"Cured\", kind=\"bar\", title = \".\",figsize = (14,10))\n",
        "plt.tick_params(axis='x', which='major', labelsize=10)"
      ],
      "execution_count": 14,
      "outputs": [
        {
          "output_type": "display_data",
          "data": {
            "image/png": "[encoded data removed]",
            "text/plain": [
              "<Figure size 1008x720 with 1 Axes>"
            ]
          },
          "metadata": {
            "tags": [],
            "needs_background": "light"
          }
        }
      ]
    },
    {
      "cell_type": "markdown",
      "metadata": {
        "id": "JvJodxnnr1dx"
      },
      "source": [
        "**Maharastra was worst hit by the COVID-19 in India, while Union territories were quite safe.**"
      ]
    },
    {
      "cell_type": "markdown",
      "metadata": {
        "id": "Au2ZkPWfsCth"
      },
      "source": [
        "\n",
        "\n",
        "---\n",
        "Graph showing deaths per state and UT.\n"
      ]
    },
    {
      "cell_type": "code",
      "metadata": {
        "id": "CehRHfq0r_n7",
        "outputId": "a5ca0f86-b942-4807-d0d7-e5ad3730bd90",
        "colab": {
          "base_uri": "https://localhost:8080/",
          "height": 835
        }
      },
      "source": [
        "states_data.plot(x=\"State/UnionTerritory\", y=\"Deaths\", kind=\"bar\", title = \".\",figsize = (14,10))\n",
        "plt.tick_params(axis='x', which='major', labelsize=10)"
      ],
      "execution_count": 15,
      "outputs": [
        {
          "output_type": "display_data",
          "data": {
            "image/png": "[encoded data removed]",
            "text/plain": [
              "<Figure size 1008x720 with 1 Axes>"
            ]
          },
          "metadata": {
            "tags": [],
            "needs_background": "light"
          }
        }
      ]
    },
    {
      "cell_type": "code",
      "metadata": {
        "id": "xI3iVBX7sIjs",
        "outputId": "791d7fa6-d712-4001-fb56-33c3eb76722d",
        "colab": {
          "base_uri": "https://localhost:8080/",
          "height": 835
        }
      },
      "source": [
        "states_data.plot(x=\"State/UnionTerritory\", y=\"Confirmed\", kind=\"bar\", title = \".\",figsize = (14,10))\n",
        "plt.tick_params(axis='x', which='major', labelsize=10)"
      ],
      "execution_count": 16,
      "outputs": [
        {
          "output_type": "display_data",
          "data": {
            "image/png": "[encoded data removed]",
            "text/plain": [
              "<Figure size 1008x720 with 1 Axes>"
            ]
          },
          "metadata": {
            "tags": [],
            "needs_background": "light"
          }
        }
      ]
    },
    {
      "cell_type": "markdown",
      "metadata": {
        "id": "rSrlqtZ4sO6Q"
      },
      "source": [
        "Creating a date-wise data for India."
      ]
    },
    {
      "cell_type": "code",
      "metadata": {
        "id": "n-60yP3fsM0V",
        "outputId": "4ebbb7ba-417c-449d-cd6b-5c92cb4da603",
        "colab": {
          "base_uri": "https://localhost:8080/",
          "height": 191
        }
      },
      "source": [
        "date_wise = india_data.groupby(\"Date\").sum()\n",
        "date_wise.reset_index(level=0, inplace=True)\n",
        "date_wise.head()"
      ],
      "execution_count": 17,
      "outputs": [
        {
          "output_type": "execute_result",
          "data": {
            "text/html": [
              "<div>\n",
              "<style scoped>\n",
              "    .dataframe tbody tr th:only-of-type {\n",
              "        vertical-align: middle;\n",
              "    }\n",
              "\n",
              "    .dataframe tbody tr th {\n",
              "        vertical-align: top;\n",
              "    }\n",
              "\n",
              "    .dataframe thead th {\n",
              "        text-align: right;\n",
              "    }\n",
              "</style>\n",
              "<table border=\"1\" class=\"dataframe\">\n",
              "  <thead>\n",
              "    <tr style=\"text-align: right;\">\n",
              "      <th></th>\n",
              "      <th>Date</th>\n",
              "      <th>Cured</th>\n",
              "      <th>Deaths</th>\n",
              "      <th>Confirmed</th>\n",
              "    </tr>\n",
              "  </thead>\n",
              "  <tbody>\n",
              "    <tr>\n",
              "      <th>0</th>\n",
              "      <td>1/2/2020</td>\n",
              "      <td>0</td>\n",
              "      <td>0</td>\n",
              "      <td>2</td>\n",
              "    </tr>\n",
              "    <tr>\n",
              "      <th>1</th>\n",
              "      <td>1/3/2020</td>\n",
              "      <td>0</td>\n",
              "      <td>0</td>\n",
              "      <td>3</td>\n",
              "    </tr>\n",
              "    <tr>\n",
              "      <th>2</th>\n",
              "      <td>1/4/2020</td>\n",
              "      <td>144</td>\n",
              "      <td>41</td>\n",
              "      <td>1834</td>\n",
              "    </tr>\n",
              "    <tr>\n",
              "      <th>3</th>\n",
              "      <td>1/5/2020</td>\n",
              "      <td>9065</td>\n",
              "      <td>1152</td>\n",
              "      <td>34972</td>\n",
              "    </tr>\n",
              "    <tr>\n",
              "      <th>4</th>\n",
              "      <td>1/6/2020</td>\n",
              "      <td>91819</td>\n",
              "      <td>5394</td>\n",
              "      <td>190535</td>\n",
              "    </tr>\n",
              "  </tbody>\n",
              "</table>\n",
              "</div>"
            ],
            "text/plain": [
              "       Date  Cured  Deaths  Confirmed\n",
              "0  1/2/2020      0       0          2\n",
              "1  1/3/2020      0       0          3\n",
              "2  1/4/2020    144      41       1834\n",
              "3  1/5/2020   9065    1152      34972\n",
              "4  1/6/2020  91819    5394     190535"
            ]
          },
          "metadata": {
            "tags": []
          },
          "execution_count": 17
        }
      ]
    },
    {
      "cell_type": "code",
      "metadata": {
        "id": "gYCEAE79sVH0"
      },
      "source": [
        "Adding active cases column."
      ],
      "execution_count": null,
      "outputs": []
    },
    {
      "cell_type": "code",
      "metadata": {
        "id": "1gjrYHxhsSjf",
        "outputId": "710e120e-6622-4836-a955-29bf7c10b7c1",
        "colab": {
          "base_uri": "https://localhost:8080/",
          "height": 191
        }
      },
      "source": [
        "date_wise['Active Cases'] = date_wise['Confirmed'] - date_wise['Cured'] - date_wise['Deaths']\n",
        "date_wise.head()"
      ],
      "execution_count": 18,
      "outputs": [
        {
          "output_type": "execute_result",
          "data": {
            "text/html": [
              "<div>\n",
              "<style scoped>\n",
              "    .dataframe tbody tr th:only-of-type {\n",
              "        vertical-align: middle;\n",
              "    }\n",
              "\n",
              "    .dataframe tbody tr th {\n",
              "        vertical-align: top;\n",
              "    }\n",
              "\n",
              "    .dataframe thead th {\n",
              "        text-align: right;\n",
              "    }\n",
              "</style>\n",
              "<table border=\"1\" class=\"dataframe\">\n",
              "  <thead>\n",
              "    <tr style=\"text-align: right;\">\n",
              "      <th></th>\n",
              "      <th>Date</th>\n",
              "      <th>Cured</th>\n",
              "      <th>Deaths</th>\n",
              "      <th>Confirmed</th>\n",
              "      <th>Active Cases</th>\n",
              "    </tr>\n",
              "  </thead>\n",
              "  <tbody>\n",
              "    <tr>\n",
              "      <th>0</th>\n",
              "      <td>1/2/2020</td>\n",
              "      <td>0</td>\n",
              "      <td>0</td>\n",
              "      <td>2</td>\n",
              "      <td>2</td>\n",
              "    </tr>\n",
              "    <tr>\n",
              "      <th>1</th>\n",
              "      <td>1/3/2020</td>\n",
              "      <td>0</td>\n",
              "      <td>0</td>\n",
              "      <td>3</td>\n",
              "      <td>3</td>\n",
              "    </tr>\n",
              "    <tr>\n",
              "      <th>2</th>\n",
              "      <td>1/4/2020</td>\n",
              "      <td>144</td>\n",
              "      <td>41</td>\n",
              "      <td>1834</td>\n",
              "      <td>1649</td>\n",
              "    </tr>\n",
              "    <tr>\n",
              "      <th>3</th>\n",
              "      <td>1/5/2020</td>\n",
              "      <td>9065</td>\n",
              "      <td>1152</td>\n",
              "      <td>34972</td>\n",
              "      <td>24755</td>\n",
              "    </tr>\n",
              "    <tr>\n",
              "      <th>4</th>\n",
              "      <td>1/6/2020</td>\n",
              "      <td>91819</td>\n",
              "      <td>5394</td>\n",
              "      <td>190535</td>\n",
              "      <td>93322</td>\n",
              "    </tr>\n",
              "  </tbody>\n",
              "</table>\n",
              "</div>"
            ],
            "text/plain": [
              "       Date  Cured  Deaths  Confirmed  Active Cases\n",
              "0  1/2/2020      0       0          2             2\n",
              "1  1/3/2020      0       0          3             3\n",
              "2  1/4/2020    144      41       1834          1649\n",
              "3  1/5/2020   9065    1152      34972         24755\n",
              "4  1/6/2020  91819    5394     190535         93322"
            ]
          },
          "metadata": {
            "tags": []
          },
          "execution_count": 18
        }
      ]
    },
    {
      "cell_type": "code",
      "metadata": {
        "id": "nKAKNjhzsXqI"
      },
      "source": [
        "india = date_wise.copy()\n",
        "date_wise = date_wise.sort_values(by=['Active Cases'])\n",
        "# date_wise.tail()\n",
        "# india.head()"
      ],
      "execution_count": 20,
      "outputs": []
    },
    {
      "cell_type": "code",
      "metadata": {
        "id": "A-RLcdipsefv"
      },
      "source": [
        "cnf = '#393e46' # confirmed - grey\n",
        "dth = '#ff2e63' # death - red\n",
        "rec = '#21bf73' # recovered - cyan\n",
        "act = '#fe9801' # active case - yellow"
      ],
      "execution_count": 21,
      "outputs": []
    },
    {
      "cell_type": "code",
      "metadata": {
        "id": "mGBRfb8PsfQx",
        "outputId": "1836251b-70bd-47ad-9431-3e223e2b7638",
        "colab": {
          "base_uri": "https://localhost:8080/",
          "height": 698
        }
      },
      "source": [
        "ax = date_wise.plot(x=\"Date\", y=\"Cured\", kind=\"bar\", color = cnf)\n",
        "date_wise.plot(x=\"Date\", y=\"Active Cases\", kind=\"bar\", ax=ax, color=act)\n",
        "date_wise.plot(x=\"Date\", y=\"Deaths\", kind=\"bar\", ax=ax, color=dth, figsize = (20,10))\n",
        "plt.tick_params(axis='x', which='major', labelsize=20)\n",
        "plt.show()"
      ],
      "execution_count": 22,
      "outputs": [
        {
          "output_type": "display_data",
          "data": {
            "image/png": "[encoded data removed]",
            "text/plain": [
              "<Figure size 1440x720 with 1 Axes>"
            ]
          },
          "metadata": {
            "tags": [],
            "needs_background": "light"
          }
        }
      ]
    },
    {
      "cell_type": "markdown",
      "metadata": {
        "id": "ksAsOBiMstlp"
      },
      "source": [
        "**Date-wise representation of deaths, active cases and cured in one graph**"
      ]
    },
    {
      "cell_type": "code",
      "metadata": {
        "id": "3c39IlLNs9oJ",
        "outputId": "0511bc27-9323-4480-d560-bd6e416519b2",
        "colab": {
          "base_uri": "https://localhost:8080/",
          "height": 1417
        }
      },
      "source": [
        "from plotly.subplots import make_subplots\n",
        "\n",
        "fig_c = px.bar(date_wise, x=\"Date\", y=\"Confirmed\", color_discrete_sequence=['#000000'])\n",
        "fig_d = px.bar(date_wise, x=\"Date\", y=\"Deaths\", color_discrete_sequence=['#ff677d'])\n",
        "fig_r = px.bar(date_wise, x=\"Date\", y=\"Cured\", color_discrete_sequence=['#649d66'])\n",
        "\n",
        "fig = make_subplots(rows=3, cols=1, shared_xaxes=False, \n",
        "                    horizontal_spacing=0.14, vertical_spacing=0.1,\n",
        "                    subplot_titles=('Confirmed cases', \n",
        "                                    'Deaths reported',  \n",
        "                                    'Cured'))\n",
        "\n",
        "fig.add_trace(fig_c['data'][0], row=1, col=1)\n",
        "fig.add_trace(fig_d['data'][0], row=2, col=1)\n",
        "fig.add_trace(fig_r['data'][0], row=3, col=1)\n",
        "\n",
        "fig.update_layout(height=1400)"
      ],
      "execution_count": 23,
      "outputs": [
        {
          "output_type": "display_data",
          "data": {
            "text/html": [
              "<html>\n",
              "<head><meta charset=\"utf-8\" /></head>\n",
              "<body>\n",
              "    <div>\n",
              "            <script src=\"https://cdnjs.cloudflare.com/ajax/libs/mathjax/2.7.5/MathJax.js?config=TeX-AMS-MML_SVG\"></script><script type=\"text/javascript\">if (window.MathJax) {MathJax.Hub.Config({SVG: {font: \"STIX-Web\"}});}</script>\n",
              "                <script type=\"text/javascript\">window.PlotlyConfig = {MathJaxConfig: 'local'};</script>\n",
              "        <script src=\"https://cdn.plot.ly/plotly-latest.min.js\"></script>    \n",
              "            <div id=\"ce319c41-d4c3-4bfb-b9d5-3dcac578a7c0\" class=\"plotly-graph-div\" style=\"height:1400px; width:100%;\"></div>\n",
              "            <script type=\"text/javascript\">\n",
              "                \n",
              "                    window.PLOTLYENV=window.PLOTLYENV || {};\n",
              "                    \n",
              "                if (document.getElementById(\"ce319c41-d4c3-4bfb-b9d5-3dcac578a7c0\")) {\n",
              "                    Plotly.newPlot(\n",
              "                        'ce319c41-d4c3-4bfb-b9d5-3dcac578a7c0',\n",
              "                        [{\"alignmentgroup\": \"True\", \"hoverlabel\": {\"namelength\": 0}, \"hovertemplate\": \"Date=%{x}<br>Confirmed=%{y}\", \"legendgroup\": \"\", \"marker\": {\"color\": \"#000000\"}, \"name\": \"\", \"offsetgroup\": \"\", \"orientation\": \"v\", \"showlegend\": false, \"textposition\": \"auto\", \"type\": \"bar\", \"x\": [\"31/01/20\", \"30/01/20\", \"1/2/2020\", \"15/02/20\", \"16/02/20\", \"5/2/2020\", \"17/02/20\", \"4/2/2020\", \"18/02/20\", \"19/02/20\", \"2/2/2020\", \"3/3/2020\", \"20/02/20\", \"3/2/2020\", \"21/02/20\", \"29/02/20\", \"22/02/20\", \"28/02/20\", \"27/02/20\", \"23/02/20\", \"26/02/20\", \"24/02/20\", \"6/2/2020\", \"14/02/20\", \"25/02/20\", \"7/2/2020\", \"8/2/2020\", \"11/2/2020\", \"9/2/2020\", \"10/2/2020\", \"13/02/20\", \"1/3/2020\", \"12/2/2020\", \"2/3/2020\", \"4/3/2020\", \"5/3/2020\", \"6/3/2020\", \"7/3/2020\", \"8/3/2020\", \"9/3/2020\", \"10/3/2020\", \"11/3/2020\", \"12/3/2020\", \"14/03/20\", \"13/03/20\", \"15/03/20\", \"16/03/20\", \"17/03/20\", \"18/03/20\", \"19/03/20\", \"20/03/20\", \"21/03/20\", \"22/03/20\", \"23/03/20\", \"24/03/20\", \"25/03/20\", \"26/03/20\", \"27/03/20\", \"28/03/20\", \"29/03/20\", \"30/03/20\", \"31/03/20\", \"1/4/2020\", \"2/4/2020\", \"3/4/2020\", \"4/4/2020\", \"5/4/2020\", \"6/4/2020\", \"7/4/2020\", \"8/4/2020\", \"9/4/2020\", \"10/4/2020\", \"11/4/2020\", \"12/4/2020\", \"13/04/20\", \"14/04/20\", \"15/04/20\", \"16/04/20\", \"17/04/20\", \"18/04/20\", \"19/04/20\", \"20/04/20\", \"21/04/20\", \"22/04/20\", \"23/04/20\", \"24/04/20\", \"25/04/20\", \"26/04/20\", \"27/04/20\", \"28/04/20\", \"29/04/20\", \"30/04/20\", \"1/5/2020\", \"2/5/2020\", \"3/5/2020\", \"4/5/2020\", \"5/5/2020\", \"6/5/2020\", \"7/5/2020\", \"8/5/2020\", \"9/5/2020\", \"10/5/2020\", \"11/5/2020\", \"12/5/2020\", \"13/05/20\", \"14/05/20\", \"15/05/20\", \"16/05/20\", \"17/05/20\", \"18/05/20\", \"19/05/20\", \"20/05/20\", \"21/05/20\", \"22/05/20\", \"23/05/20\", \"24/05/20\", \"25/05/20\", \"26/05/20\", \"27/05/20\", \"28/05/20\", \"30/05/20\", \"29/05/20\", \"31/05/20\", \"1/6/2020\", \"2/6/2020\", \"3/6/2020\", \"4/6/2020\", \"5/6/2020\", \"6/6/2020\", \"7/6/2020\", \"8/6/2020\", \"9/6/2020\", \"10/6/2020\", \"11/6/2020\", \"12/6/2020\", \"13/06/20\", \"14/06/20\", \"15/06/20\", \"16/06/20\", \"17/06/20\", \"18/06/20\", \"19/06/20\", \"20/06/20\", \"22/06/20\", \"21/06/20\"], \"xaxis\": \"x\", \"y\": [1, 1, 2, 3, 3, 3, 3, 3, 3, 3, 3, 6, 3, 3, 3, 3, 3, 3, 3, 3, 3, 3, 3, 3, 3, 3, 3, 3, 3, 3, 3, 3, 3, 5, 28, 30, 31, 34, 39, 46, 58, 60, 74, 84, 81, 110, 114, 137, 151, 173, 223, 283, 360, 433, 519, 606, 694, 724, 909, 1024, 1251, 1397, 1834, 2069, 2547, 3072, 3577, 4281, 4789, 5274, 5865, 6761, 7529, 8447, 9352, 10815, 11933, 12759, 13835, 14792, 16116, 17656, 18985, 20471, 21700, 23452, 24893, 26605, 28160, 29834, 31709, 33330, 34972, 37157, 40124, 42836, 46711, 49391, 52952, 56342, 59662, 62939, 67152, 70756, 74281, 78003, 81970, 85710, 90637, 95759, 100325, 106750, 112359, 118447, 125101, 131868, 138845, 145380, 151767, 158333, 173763, 165799, 182143, 190535, 198706, 207615, 216919, 226770, 236657, 246628, 256611, 266598, 276583, 286579, 297535, 308993, 320922, 332424, 343091, 354065, 366946, 380532, 395048, 440215, 835743], \"yaxis\": \"y\"}, {\"alignmentgroup\": \"True\", \"hoverlabel\": {\"namelength\": 0}, \"hovertemplate\": \"Date=%{x}<br>Deaths=%{y}\", \"legendgroup\": \"\", \"marker\": {\"color\": \"#ff677d\"}, \"name\": \"\", \"offsetgroup\": \"\", \"orientation\": \"v\", \"showlegend\": false, \"textposition\": \"auto\", \"type\": \"bar\", \"x\": [\"31/01/20\", \"30/01/20\", \"1/2/2020\", \"15/02/20\", \"16/02/20\", \"5/2/2020\", \"17/02/20\", \"4/2/2020\", \"18/02/20\", \"19/02/20\", \"2/2/2020\", \"3/3/2020\", \"20/02/20\", \"3/2/2020\", \"21/02/20\", \"29/02/20\", \"22/02/20\", \"28/02/20\", \"27/02/20\", \"23/02/20\", \"26/02/20\", \"24/02/20\", \"6/2/2020\", \"14/02/20\", \"25/02/20\", \"7/2/2020\", \"8/2/2020\", \"11/2/2020\", \"9/2/2020\", \"10/2/2020\", \"13/02/20\", \"1/3/2020\", \"12/2/2020\", \"2/3/2020\", \"4/3/2020\", \"5/3/2020\", \"6/3/2020\", \"7/3/2020\", \"8/3/2020\", \"9/3/2020\", \"10/3/2020\", \"11/3/2020\", \"12/3/2020\", \"14/03/20\", \"13/03/20\", \"15/03/20\", \"16/03/20\", \"17/03/20\", \"18/03/20\", \"19/03/20\", \"20/03/20\", \"21/03/20\", \"22/03/20\", \"23/03/20\", \"24/03/20\", \"25/03/20\", \"26/03/20\", \"27/03/20\", \"28/03/20\", \"29/03/20\", \"30/03/20\", \"31/03/20\", \"1/4/2020\", \"2/4/2020\", \"3/4/2020\", \"4/4/2020\", \"5/4/2020\", \"6/4/2020\", \"7/4/2020\", \"8/4/2020\", \"9/4/2020\", \"10/4/2020\", \"11/4/2020\", \"12/4/2020\", \"13/04/20\", \"14/04/20\", \"15/04/20\", \"16/04/20\", \"17/04/20\", \"18/04/20\", \"19/04/20\", \"20/04/20\", \"21/04/20\", \"22/04/20\", \"23/04/20\", \"24/04/20\", \"25/04/20\", \"26/04/20\", \"27/04/20\", \"28/04/20\", \"29/04/20\", \"30/04/20\", \"1/5/2020\", \"2/5/2020\", \"3/5/2020\", \"4/5/2020\", \"5/5/2020\", \"6/5/2020\", \"7/5/2020\", \"8/5/2020\", \"9/5/2020\", \"10/5/2020\", \"11/5/2020\", \"12/5/2020\", \"13/05/20\", \"14/05/20\", \"15/05/20\", \"16/05/20\", \"17/05/20\", \"18/05/20\", \"19/05/20\", \"20/05/20\", \"21/05/20\", \"22/05/20\", \"23/05/20\", \"24/05/20\", \"25/05/20\", \"26/05/20\", \"27/05/20\", \"28/05/20\", \"30/05/20\", \"29/05/20\", \"31/05/20\", \"1/6/2020\", \"2/6/2020\", \"3/6/2020\", \"4/6/2020\", \"5/6/2020\", \"6/6/2020\", \"7/6/2020\", \"8/6/2020\", \"9/6/2020\", \"10/6/2020\", \"11/6/2020\", \"12/6/2020\", \"13/06/20\", \"14/06/20\", \"15/06/20\", \"16/06/20\", \"17/06/20\", \"18/06/20\", \"19/06/20\", \"20/06/20\", \"22/06/20\", \"21/06/20\"], \"xaxis\": \"x2\", \"y\": [0, 0, 0, 0, 0, 0, 0, 0, 0, 0, 0, 0, 0, 0, 0, 0, 0, 0, 0, 0, 0, 0, 0, 0, 0, 0, 0, 0, 0, 0, 0, 0, 0, 0, 0, 0, 0, 0, 0, 0, 0, 0, 0, 2, 1, 2, 2, 3, 3, 4, 4, 4, 7, 7, 9, 10, 15, 17, 19, 27, 31, 35, 41, 53, 62, 75, 83, 111, 124, 149, 169, 206, 242, 273, 324, 353, 392, 420, 452, 488, 519, 559, 603, 652, 686, 723, 779, 826, 886, 937, 1008, 1075, 1152, 1218, 1306, 1389, 1583, 1694, 1783, 1886, 1981, 2109, 2206, 2293, 2415, 2549, 2649, 2752, 2872, 3029, 3163, 3303, 3435, 3583, 3720, 3867, 4021, 4167, 4337, 4531, 4971, 4706, 5164, 5394, 5598, 5815, 6075, 6348, 6642, 6929, 7135, 7466, 7745, 8102, 8498, 8884, 9195, 9520, 9900, 11903, 12237, 12573, 12948, 14011, 26953], \"yaxis\": \"y2\"}, {\"alignmentgroup\": \"True\", \"hoverlabel\": {\"namelength\": 0}, \"hovertemplate\": \"Date=%{x}<br>Cured=%{y}\", \"legendgroup\": \"\", \"marker\": {\"color\": \"#649d66\"}, \"name\": \"\", \"offsetgroup\": \"\", \"orientation\": \"v\", \"showlegend\": false, \"textposition\": \"auto\", \"type\": \"bar\", \"x\": [\"31/01/20\", \"30/01/20\", \"1/2/2020\", \"15/02/20\", \"16/02/20\", \"5/2/2020\", \"17/02/20\", \"4/2/2020\", \"18/02/20\", \"19/02/20\", \"2/2/2020\", \"3/3/2020\", \"20/02/20\", \"3/2/2020\", \"21/02/20\", \"29/02/20\", \"22/02/20\", \"28/02/20\", \"27/02/20\", \"23/02/20\", \"26/02/20\", \"24/02/20\", \"6/2/2020\", \"14/02/20\", \"25/02/20\", \"7/2/2020\", \"8/2/2020\", \"11/2/2020\", \"9/2/2020\", \"10/2/2020\", \"13/02/20\", \"1/3/2020\", \"12/2/2020\", \"2/3/2020\", \"4/3/2020\", \"5/3/2020\", \"6/3/2020\", \"7/3/2020\", \"8/3/2020\", \"9/3/2020\", \"10/3/2020\", \"11/3/2020\", \"12/3/2020\", \"14/03/20\", \"13/03/20\", \"15/03/20\", \"16/03/20\", \"17/03/20\", \"18/03/20\", \"19/03/20\", \"20/03/20\", \"21/03/20\", \"22/03/20\", \"23/03/20\", \"24/03/20\", \"25/03/20\", \"26/03/20\", \"27/03/20\", \"28/03/20\", \"29/03/20\", \"30/03/20\", \"31/03/20\", \"1/4/2020\", \"2/4/2020\", \"3/4/2020\", \"4/4/2020\", \"5/4/2020\", \"6/4/2020\", \"7/4/2020\", \"8/4/2020\", \"9/4/2020\", \"10/4/2020\", \"11/4/2020\", \"12/4/2020\", \"13/04/20\", \"14/04/20\", \"15/04/20\", \"16/04/20\", \"17/04/20\", \"18/04/20\", \"19/04/20\", \"20/04/20\", \"21/04/20\", \"22/04/20\", \"23/04/20\", \"24/04/20\", \"25/04/20\", \"26/04/20\", \"27/04/20\", \"28/04/20\", \"29/04/20\", \"30/04/20\", \"1/5/2020\", \"2/5/2020\", \"3/5/2020\", \"4/5/2020\", \"5/5/2020\", \"6/5/2020\", \"7/5/2020\", \"8/5/2020\", \"9/5/2020\", \"10/5/2020\", \"11/5/2020\", \"12/5/2020\", \"13/05/20\", \"14/05/20\", \"15/05/20\", \"16/05/20\", \"17/05/20\", \"18/05/20\", \"19/05/20\", \"20/05/20\", \"21/05/20\", \"22/05/20\", \"23/05/20\", \"24/05/20\", \"25/05/20\", \"26/05/20\", \"27/05/20\", \"28/05/20\", \"30/05/20\", \"29/05/20\", \"31/05/20\", \"1/6/2020\", \"2/6/2020\", \"3/6/2020\", \"4/6/2020\", \"5/6/2020\", \"6/6/2020\", \"7/6/2020\", \"8/6/2020\", \"9/6/2020\", \"10/6/2020\", \"11/6/2020\", \"12/6/2020\", \"13/06/20\", \"14/06/20\", \"15/06/20\", \"16/06/20\", \"17/06/20\", \"18/06/20\", \"19/06/20\", \"20/06/20\", \"22/06/20\", \"21/06/20\"], \"xaxis\": \"x3\", \"y\": [0, 0, 0, 0, 0, 0, 0, 0, 0, 0, 0, 3, 0, 0, 0, 0, 0, 0, 0, 0, 0, 0, 0, 0, 0, 0, 0, 0, 0, 0, 0, 0, 0, 0, 3, 3, 3, 3, 3, 3, 3, 3, 3, 10, 3, 13, 13, 14, 14, 20, 23, 23, 24, 24, 40, 43, 45, 67, 80, 96, 102, 124, 144, 156, 163, 213, 275, 319, 353, 411, 478, 516, 653, 765, 980, 1190, 1344, 1515, 1767, 2015, 2302, 2842, 3260, 3960, 4325, 4814, 5210, 5914, 6362, 7027, 7797, 8373, 9065, 9951, 10887, 11762, 13161, 14183, 15267, 16540, 17847, 19358, 20917, 22455, 24386, 26235, 27920, 30153, 34109, 36824, 39174, 42298, 45300, 48534, 51784, 54441, 57721, 60491, 64426, 67692, 82370, 71106, 86984, 91819, 95527, 100303, 104107, 109462, 114073, 119293, 124095, 129215, 135206, 141029, 147195, 154330, 162379, 169798, 180013, 186935, 194325, 204711, 213831, 248190, 464952], \"yaxis\": \"y3\"}],\n",
              "                        {\"annotations\": [{\"font\": {\"size\": 16}, \"showarrow\": false, \"text\": \"Confirmed cases\", \"x\": 0.5, \"xanchor\": \"center\", \"xref\": \"paper\", \"y\": 1.0, \"yanchor\": \"bottom\", \"yref\": \"paper\"}, {\"font\": {\"size\": 16}, \"showarrow\": false, \"text\": \"Deaths reported\", \"x\": 0.5, \"xanchor\": \"center\", \"xref\": \"paper\", \"y\": 0.6333333333333333, \"yanchor\": \"bottom\", \"yref\": \"paper\"}, {\"font\": {\"size\": 16}, \"showarrow\": false, \"text\": \"Cured\", \"x\": 0.5, \"xanchor\": \"center\", \"xref\": \"paper\", \"y\": 0.26666666666666666, \"yanchor\": \"bottom\", \"yref\": \"paper\"}], \"height\": 1400, \"template\": {\"data\": {\"bar\": [{\"error_x\": {\"color\": \"#2a3f5f\"}, \"error_y\": {\"color\": \"#2a3f5f\"}, \"marker\": {\"line\": {\"color\": \"#E5ECF6\", \"width\": 0.5}}, \"type\": \"bar\"}], \"barpolar\": [{\"marker\": {\"line\": {\"color\": \"#E5ECF6\", \"width\": 0.5}}, \"type\": \"barpolar\"}], \"carpet\": [{\"aaxis\": {\"endlinecolor\": \"#2a3f5f\", \"gridcolor\": \"white\", \"linecolor\": \"white\", \"minorgridcolor\": \"white\", \"startlinecolor\": \"#2a3f5f\"}, \"baxis\": {\"endlinecolor\": \"#2a3f5f\", \"gridcolor\": \"white\", \"linecolor\": \"white\", \"minorgridcolor\": \"white\", \"startlinecolor\": \"#2a3f5f\"}, \"type\": \"carpet\"}], \"choropleth\": [{\"colorbar\": {\"outlinewidth\": 0, \"ticks\": \"\"}, \"type\": \"choropleth\"}], \"contour\": [{\"colorbar\": {\"outlinewidth\": 0, \"ticks\": \"\"}, \"colorscale\": [[0.0, \"#0d0887\"], [0.1111111111111111, \"#46039f\"], [0.2222222222222222, \"#7201a8\"], [0.3333333333333333, \"#9c179e\"], [0.4444444444444444, \"#bd3786\"], [0.5555555555555556, \"#d8576b\"], [0.6666666666666666, \"#ed7953\"], [0.7777777777777778, \"#fb9f3a\"], [0.8888888888888888, \"#fdca26\"], [1.0, \"#f0f921\"]], \"type\": \"contour\"}], \"contourcarpet\": [{\"colorbar\": {\"outlinewidth\": 0, \"ticks\": \"\"}, \"type\": \"contourcarpet\"}], \"heatmap\": [{\"colorbar\": {\"outlinewidth\": 0, \"ticks\": \"\"}, \"colorscale\": [[0.0, \"#0d0887\"], [0.1111111111111111, \"#46039f\"], [0.2222222222222222, \"#7201a8\"], [0.3333333333333333, \"#9c179e\"], [0.4444444444444444, \"#bd3786\"], [0.5555555555555556, \"#d8576b\"], [0.6666666666666666, \"#ed7953\"], [0.7777777777777778, \"#fb9f3a\"], [0.8888888888888888, \"#fdca26\"], [1.0, \"#f0f921\"]], \"type\": \"heatmap\"}], \"heatmapgl\": [{\"colorbar\": {\"outlinewidth\": 0, \"ticks\": \"\"}, \"colorscale\": [[0.0, \"#0d0887\"], [0.1111111111111111, \"#46039f\"], [0.2222222222222222, \"#7201a8\"], [0.3333333333333333, \"#9c179e\"], [0.4444444444444444, \"#bd3786\"], [0.5555555555555556, \"#d8576b\"], [0.6666666666666666, \"#ed7953\"], [0.7777777777777778, \"#fb9f3a\"], [0.8888888888888888, \"#fdca26\"], [1.0, \"#f0f921\"]], \"type\": \"heatmapgl\"}], \"histogram\": [{\"marker\": {\"colorbar\": {\"outlinewidth\": 0, \"ticks\": \"\"}}, \"type\": \"histogram\"}], \"histogram2d\": [{\"colorbar\": {\"outlinewidth\": 0, \"ticks\": \"\"}, \"colorscale\": [[0.0, \"#0d0887\"], [0.1111111111111111, \"#46039f\"], [0.2222222222222222, \"#7201a8\"], [0.3333333333333333, \"#9c179e\"], [0.4444444444444444, \"#bd3786\"], [0.5555555555555556, \"#d8576b\"], [0.6666666666666666, \"#ed7953\"], [0.7777777777777778, \"#fb9f3a\"], [0.8888888888888888, \"#fdca26\"], [1.0, \"#f0f921\"]], \"type\": \"histogram2d\"}], \"histogram2dcontour\": [{\"colorbar\": {\"outlinewidth\": 0, \"ticks\": \"\"}, \"colorscale\": [[0.0, \"#0d0887\"], [0.1111111111111111, \"#46039f\"], [0.2222222222222222, \"#7201a8\"], [0.3333333333333333, \"#9c179e\"], [0.4444444444444444, \"#bd3786\"], [0.5555555555555556, \"#d8576b\"], [0.6666666666666666, \"#ed7953\"], [0.7777777777777778, \"#fb9f3a\"], [0.8888888888888888, \"#fdca26\"], [1.0, \"#f0f921\"]], \"type\": \"histogram2dcontour\"}], \"mesh3d\": [{\"colorbar\": {\"outlinewidth\": 0, \"ticks\": \"\"}, \"type\": \"mesh3d\"}], \"parcoords\": [{\"line\": {\"colorbar\": {\"outlinewidth\": 0, \"ticks\": \"\"}}, \"type\": \"parcoords\"}], \"pie\": [{\"automargin\": true, \"type\": \"pie\"}], \"scatter\": [{\"marker\": {\"colorbar\": {\"outlinewidth\": 0, \"ticks\": \"\"}}, \"type\": \"scatter\"}], \"scatter3d\": [{\"line\": {\"colorbar\": {\"outlinewidth\": 0, \"ticks\": \"\"}}, \"marker\": {\"colorbar\": {\"outlinewidth\": 0, \"ticks\": \"\"}}, \"type\": \"scatter3d\"}], \"scattercarpet\": [{\"marker\": {\"colorbar\": {\"outlinewidth\": 0, \"ticks\": \"\"}}, \"type\": \"scattercarpet\"}], \"scattergeo\": [{\"marker\": {\"colorbar\": {\"outlinewidth\": 0, \"ticks\": \"\"}}, \"type\": \"scattergeo\"}], \"scattergl\": [{\"marker\": {\"colorbar\": {\"outlinewidth\": 0, \"ticks\": \"\"}}, \"type\": \"scattergl\"}], \"scattermapbox\": [{\"marker\": {\"colorbar\": {\"outlinewidth\": 0, \"ticks\": \"\"}}, \"type\": \"scattermapbox\"}], \"scatterpolar\": [{\"marker\": {\"colorbar\": {\"outlinewidth\": 0, \"ticks\": \"\"}}, \"type\": \"scatterpolar\"}], \"scatterpolargl\": [{\"marker\": {\"colorbar\": {\"outlinewidth\": 0, \"ticks\": \"\"}}, \"type\": \"scatterpolargl\"}], \"scatterternary\": [{\"marker\": {\"colorbar\": {\"outlinewidth\": 0, \"ticks\": \"\"}}, \"type\": \"scatterternary\"}], \"surface\": [{\"colorbar\": {\"outlinewidth\": 0, \"ticks\": \"\"}, \"colorscale\": [[0.0, \"#0d0887\"], [0.1111111111111111, \"#46039f\"], [0.2222222222222222, \"#7201a8\"], [0.3333333333333333, \"#9c179e\"], [0.4444444444444444, \"#bd3786\"], [0.5555555555555556, \"#d8576b\"], [0.6666666666666666, \"#ed7953\"], [0.7777777777777778, \"#fb9f3a\"], [0.8888888888888888, \"#fdca26\"], [1.0, \"#f0f921\"]], \"type\": \"surface\"}], \"table\": [{\"cells\": {\"fill\": {\"color\": \"#EBF0F8\"}, \"line\": {\"color\": \"white\"}}, \"header\": {\"fill\": {\"color\": \"#C8D4E3\"}, \"line\": {\"color\": \"white\"}}, \"type\": \"table\"}]}, \"layout\": {\"annotationdefaults\": {\"arrowcolor\": \"#2a3f5f\", \"arrowhead\": 0, \"arrowwidth\": 1}, \"coloraxis\": {\"colorbar\": {\"outlinewidth\": 0, \"ticks\": \"\"}}, \"colorscale\": {\"diverging\": [[0, \"#8e0152\"], [0.1, \"#c51b7d\"], [0.2, \"#de77ae\"], [0.3, \"#f1b6da\"], [0.4, \"#fde0ef\"], [0.5, \"#f7f7f7\"], [0.6, \"#e6f5d0\"], [0.7, \"#b8e186\"], [0.8, \"#7fbc41\"], [0.9, \"#4d9221\"], [1, \"#276419\"]], \"sequential\": [[0.0, \"#0d0887\"], [0.1111111111111111, \"#46039f\"], [0.2222222222222222, \"#7201a8\"], [0.3333333333333333, \"#9c179e\"], [0.4444444444444444, \"#bd3786\"], [0.5555555555555556, \"#d8576b\"], [0.6666666666666666, \"#ed7953\"], [0.7777777777777778, \"#fb9f3a\"], [0.8888888888888888, \"#fdca26\"], [1.0, \"#f0f921\"]], \"sequentialminus\": [[0.0, \"#0d0887\"], [0.1111111111111111, \"#46039f\"], [0.2222222222222222, \"#7201a8\"], [0.3333333333333333, \"#9c179e\"], [0.4444444444444444, \"#bd3786\"], [0.5555555555555556, \"#d8576b\"], [0.6666666666666666, \"#ed7953\"], [0.7777777777777778, \"#fb9f3a\"], [0.8888888888888888, \"#fdca26\"], [1.0, \"#f0f921\"]]}, \"colorway\": [\"#636efa\", \"#EF553B\", \"#00cc96\", \"#ab63fa\", \"#FFA15A\", \"#19d3f3\", \"#FF6692\", \"#B6E880\", \"#FF97FF\", \"#FECB52\"], \"font\": {\"color\": \"#2a3f5f\"}, \"geo\": {\"bgcolor\": \"white\", \"lakecolor\": \"white\", \"landcolor\": \"#E5ECF6\", \"showlakes\": true, \"showland\": true, \"subunitcolor\": \"white\"}, \"hoverlabel\": {\"align\": \"left\"}, \"hovermode\": \"closest\", \"mapbox\": {\"style\": \"light\"}, \"paper_bgcolor\": \"white\", \"plot_bgcolor\": \"#E5ECF6\", \"polar\": {\"angularaxis\": {\"gridcolor\": \"white\", \"linecolor\": \"white\", \"ticks\": \"\"}, \"bgcolor\": \"#E5ECF6\", \"radialaxis\": {\"gridcolor\": \"white\", \"linecolor\": \"white\", \"ticks\": \"\"}}, \"scene\": {\"xaxis\": {\"backgroundcolor\": \"#E5ECF6\", \"gridcolor\": \"white\", \"gridwidth\": 2, \"linecolor\": \"white\", \"showbackground\": true, \"ticks\": \"\", \"zerolinecolor\": \"white\"}, \"yaxis\": {\"backgroundcolor\": \"#E5ECF6\", \"gridcolor\": \"white\", \"gridwidth\": 2, \"linecolor\": \"white\", \"showbackground\": true, \"ticks\": \"\", \"zerolinecolor\": \"white\"}, \"zaxis\": {\"backgroundcolor\": \"#E5ECF6\", \"gridcolor\": \"white\", \"gridwidth\": 2, \"linecolor\": \"white\", \"showbackground\": true, \"ticks\": \"\", \"zerolinecolor\": \"white\"}}, \"shapedefaults\": {\"line\": {\"color\": \"#2a3f5f\"}}, \"ternary\": {\"aaxis\": {\"gridcolor\": \"white\", \"linecolor\": \"white\", \"ticks\": \"\"}, \"baxis\": {\"gridcolor\": \"white\", \"linecolor\": \"white\", \"ticks\": \"\"}, \"bgcolor\": \"#E5ECF6\", \"caxis\": {\"gridcolor\": \"white\", \"linecolor\": \"white\", \"ticks\": \"\"}}, \"title\": {\"x\": 0.05}, \"xaxis\": {\"automargin\": true, \"gridcolor\": \"white\", \"linecolor\": \"white\", \"ticks\": \"\", \"title\": {\"standoff\": 15}, \"zerolinecolor\": \"white\", \"zerolinewidth\": 2}, \"yaxis\": {\"automargin\": true, \"gridcolor\": \"white\", \"linecolor\": \"white\", \"ticks\": \"\", \"title\": {\"standoff\": 15}, \"zerolinecolor\": \"white\", \"zerolinewidth\": 2}}}, \"xaxis\": {\"anchor\": \"y\", \"domain\": [0.0, 1.0]}, \"xaxis2\": {\"anchor\": \"y2\", \"domain\": [0.0, 1.0]}, \"xaxis3\": {\"anchor\": \"y3\", \"domain\": [0.0, 1.0]}, \"yaxis\": {\"anchor\": \"x\", \"domain\": [0.7333333333333334, 1.0]}, \"yaxis2\": {\"anchor\": \"x2\", \"domain\": [0.3666666666666667, 0.6333333333333333]}, \"yaxis3\": {\"anchor\": \"x3\", \"domain\": [0.0, 0.26666666666666666]}},\n",
              "                        {\"responsive\": true}\n",
              "                    ).then(function(){\n",
              "                            \n",
              "var gd = document.getElementById('ce319c41-d4c3-4bfb-b9d5-3dcac578a7c0');\n",
              "var x = new MutationObserver(function (mutations, observer) {{\n",
              "        var display = window.getComputedStyle(gd).display;\n",
              "        if (!display || display === 'none') {{\n",
              "            console.log([gd, 'removed!']);\n",
              "            Plotly.purge(gd);\n",
              "            observer.disconnect();\n",
              "        }}\n",
              "}});\n",
              "\n",
              "// Listen for the removal of the full notebook cells\n",
              "var notebookContainer = gd.closest('#notebook-container');\n",
              "if (notebookContainer) {{\n",
              "    x.observe(notebookContainer, {childList: true});\n",
              "}}\n",
              "\n",
              "// Listen for the clearing of the current output cell\n",
              "var outputEl = gd.closest('.output');\n",
              "if (outputEl) {{\n",
              "    x.observe(outputEl, {childList: true});\n",
              "}}\n",
              "\n",
              "                        })\n",
              "                };\n",
              "                \n",
              "            </script>\n",
              "        </div>\n",
              "</body>\n",
              "</html>"
            ]
          },
          "metadata": {
            "tags": []
          }
        }
      ]
    },
    {
      "cell_type": "markdown",
      "metadata": {
        "id": "o09TafRFtBp0"
      },
      "source": [
        "**All three graphs shows the trend of deaths,recovered and active cases in India. All suggesting that India is getting worst and worst in term of COVID-19 cases**"
      ]
    },
    {
      "cell_type": "code",
      "metadata": {
        "id": "1LD6AKsJtWSa"
      },
      "source": [
        "beds = pd.read_csv(\"HospitalBedsIndia.csv\")\n",
        "population = pd.read_csv(\"population_india_census2011 - population_india_census2011.csv\")"
      ],
      "execution_count": 24,
      "outputs": []
    },
    {
      "cell_type": "code",
      "metadata": {
        "id": "ZtChK9I2tah4",
        "outputId": "98971a73-a209-4fd8-a8f9-76d045467e77",
        "colab": {
          "base_uri": "https://localhost:8080/",
          "height": 276
        }
      },
      "source": [
        "beds.head()"
      ],
      "execution_count": 25,
      "outputs": [
        {
          "output_type": "execute_result",
          "data": {
            "text/html": [
              "<div>\n",
              "<style scoped>\n",
              "    .dataframe tbody tr th:only-of-type {\n",
              "        vertical-align: middle;\n",
              "    }\n",
              "\n",
              "    .dataframe tbody tr th {\n",
              "        vertical-align: top;\n",
              "    }\n",
              "\n",
              "    .dataframe thead th {\n",
              "        text-align: right;\n",
              "    }\n",
              "</style>\n",
              "<table border=\"1\" class=\"dataframe\">\n",
              "  <thead>\n",
              "    <tr style=\"text-align: right;\">\n",
              "      <th></th>\n",
              "      <th>Sno</th>\n",
              "      <th>State/UT</th>\n",
              "      <th>NumPrimaryHealthCenters_HMIS</th>\n",
              "      <th>NumCommunityHealthCenters_HMIS</th>\n",
              "      <th>NumSubDistrictHospitals_HMIS</th>\n",
              "      <th>NumDistrictHospitals_HMIS</th>\n",
              "      <th>TotalPublicHealthFacilities_HMIS</th>\n",
              "      <th>NumPublicBeds_HMIS</th>\n",
              "      <th>NumRuralHospitals_NHP18</th>\n",
              "      <th>NumRuralBeds_NHP18</th>\n",
              "      <th>NumUrbanHospitals_NHP18</th>\n",
              "      <th>NumUrbanBeds_NHP18</th>\n",
              "    </tr>\n",
              "  </thead>\n",
              "  <tbody>\n",
              "    <tr>\n",
              "      <th>0</th>\n",
              "      <td>1</td>\n",
              "      <td>Andaman &amp; Nicobar Islands</td>\n",
              "      <td>27</td>\n",
              "      <td>4</td>\n",
              "      <td>NaN</td>\n",
              "      <td>3</td>\n",
              "      <td>34</td>\n",
              "      <td>1246</td>\n",
              "      <td>27</td>\n",
              "      <td>575</td>\n",
              "      <td>3</td>\n",
              "      <td>500</td>\n",
              "    </tr>\n",
              "    <tr>\n",
              "      <th>1</th>\n",
              "      <td>2</td>\n",
              "      <td>Andhra Pradesh</td>\n",
              "      <td>1417</td>\n",
              "      <td>198</td>\n",
              "      <td>31.0</td>\n",
              "      <td>20</td>\n",
              "      <td>1666</td>\n",
              "      <td>60799</td>\n",
              "      <td>193</td>\n",
              "      <td>6480</td>\n",
              "      <td>65</td>\n",
              "      <td>16658</td>\n",
              "    </tr>\n",
              "    <tr>\n",
              "      <th>2</th>\n",
              "      <td>3</td>\n",
              "      <td>Arunachal Pradesh</td>\n",
              "      <td>122</td>\n",
              "      <td>62</td>\n",
              "      <td>NaN</td>\n",
              "      <td>15</td>\n",
              "      <td>199</td>\n",
              "      <td>2320</td>\n",
              "      <td>208</td>\n",
              "      <td>2136</td>\n",
              "      <td>10</td>\n",
              "      <td>268</td>\n",
              "    </tr>\n",
              "    <tr>\n",
              "      <th>3</th>\n",
              "      <td>4</td>\n",
              "      <td>Assam</td>\n",
              "      <td>1007</td>\n",
              "      <td>166</td>\n",
              "      <td>14.0</td>\n",
              "      <td>33</td>\n",
              "      <td>1220</td>\n",
              "      <td>19115</td>\n",
              "      <td>1176</td>\n",
              "      <td>10944</td>\n",
              "      <td>50</td>\n",
              "      <td>6198</td>\n",
              "    </tr>\n",
              "    <tr>\n",
              "      <th>4</th>\n",
              "      <td>5</td>\n",
              "      <td>Bihar</td>\n",
              "      <td>2007</td>\n",
              "      <td>63</td>\n",
              "      <td>33.0</td>\n",
              "      <td>43</td>\n",
              "      <td>2146</td>\n",
              "      <td>17796</td>\n",
              "      <td>930</td>\n",
              "      <td>6083</td>\n",
              "      <td>103</td>\n",
              "      <td>5936</td>\n",
              "    </tr>\n",
              "  </tbody>\n",
              "</table>\n",
              "</div>"
            ],
            "text/plain": [
              "   Sno                   State/UT  ... NumUrbanHospitals_NHP18  NumUrbanBeds_NHP18\n",
              "0    1  Andaman & Nicobar Islands  ...                       3                 500\n",
              "1    2             Andhra Pradesh  ...                      65               16658\n",
              "2    3          Arunachal Pradesh  ...                      10                 268\n",
              "3    4                      Assam  ...                      50                6198\n",
              "4    5                      Bihar  ...                     103                5936\n",
              "\n",
              "[5 rows x 12 columns]"
            ]
          },
          "metadata": {
            "tags": []
          },
          "execution_count": 25
        }
      ]
    },
    {
      "cell_type": "markdown",
      "metadata": {
        "id": "qh8ziY2DteV5"
      },
      "source": [
        "Checking for null values."
      ]
    },
    {
      "cell_type": "code",
      "metadata": {
        "id": "MMTZGgDmtb9W",
        "outputId": "4076779e-3719-4322-eec3-9e74bb8a4b06",
        "colab": {
          "base_uri": "https://localhost:8080/",
          "height": 228
        }
      },
      "source": [
        "beds.isnull().sum()"
      ],
      "execution_count": 26,
      "outputs": [
        {
          "output_type": "execute_result",
          "data": {
            "text/plain": [
              "Sno                                 0\n",
              "State/UT                            0\n",
              "NumPrimaryHealthCenters_HMIS        0\n",
              "NumCommunityHealthCenters_HMIS      0\n",
              "NumSubDistrictHospitals_HMIS        7\n",
              "NumDistrictHospitals_HMIS           0\n",
              "TotalPublicHealthFacilities_HMIS    0\n",
              "NumPublicBeds_HMIS                  0\n",
              "NumRuralHospitals_NHP18             0\n",
              "NumRuralBeds_NHP18                  0\n",
              "NumUrbanHospitals_NHP18             0\n",
              "NumUrbanBeds_NHP18                  0\n",
              "dtype: int64"
            ]
          },
          "metadata": {
            "tags": []
          },
          "execution_count": 26
        }
      ]
    },
    {
      "cell_type": "code",
      "metadata": {
        "id": "K7mEvsuIthRh",
        "outputId": "a7811fdf-684d-465e-8ded-5364043a78cd",
        "colab": {
          "base_uri": "https://localhost:8080/",
          "height": 387
        }
      },
      "source": [
        "beds.fillna(0,inplace = True)\n",
        "beds.tail(10)"
      ],
      "execution_count": 27,
      "outputs": [
        {
          "output_type": "execute_result",
          "data": {
            "text/html": [
              "<div>\n",
              "<style scoped>\n",
              "    .dataframe tbody tr th:only-of-type {\n",
              "        vertical-align: middle;\n",
              "    }\n",
              "\n",
              "    .dataframe tbody tr th {\n",
              "        vertical-align: top;\n",
              "    }\n",
              "\n",
              "    .dataframe thead th {\n",
              "        text-align: right;\n",
              "    }\n",
              "</style>\n",
              "<table border=\"1\" class=\"dataframe\">\n",
              "  <thead>\n",
              "    <tr style=\"text-align: right;\">\n",
              "      <th></th>\n",
              "      <th>Sno</th>\n",
              "      <th>State/UT</th>\n",
              "      <th>NumPrimaryHealthCenters_HMIS</th>\n",
              "      <th>NumCommunityHealthCenters_HMIS</th>\n",
              "      <th>NumSubDistrictHospitals_HMIS</th>\n",
              "      <th>NumDistrictHospitals_HMIS</th>\n",
              "      <th>TotalPublicHealthFacilities_HMIS</th>\n",
              "      <th>NumPublicBeds_HMIS</th>\n",
              "      <th>NumRuralHospitals_NHP18</th>\n",
              "      <th>NumRuralBeds_NHP18</th>\n",
              "      <th>NumUrbanHospitals_NHP18</th>\n",
              "      <th>NumUrbanBeds_NHP18</th>\n",
              "    </tr>\n",
              "  </thead>\n",
              "  <tbody>\n",
              "    <tr>\n",
              "      <th>27</th>\n",
              "      <td>28</td>\n",
              "      <td>Punjab</td>\n",
              "      <td>521</td>\n",
              "      <td>146</td>\n",
              "      <td>47.0</td>\n",
              "      <td>28</td>\n",
              "      <td>742</td>\n",
              "      <td>13527</td>\n",
              "      <td>510</td>\n",
              "      <td>5805</td>\n",
              "      <td>172</td>\n",
              "      <td>12128</td>\n",
              "    </tr>\n",
              "    <tr>\n",
              "      <th>28</th>\n",
              "      <td>29</td>\n",
              "      <td>Rajasthan</td>\n",
              "      <td>2463</td>\n",
              "      <td>579</td>\n",
              "      <td>64.0</td>\n",
              "      <td>33</td>\n",
              "      <td>3139</td>\n",
              "      <td>51844</td>\n",
              "      <td>602</td>\n",
              "      <td>21088</td>\n",
              "      <td>150</td>\n",
              "      <td>10760</td>\n",
              "    </tr>\n",
              "    <tr>\n",
              "      <th>29</th>\n",
              "      <td>30</td>\n",
              "      <td>Sikkim</td>\n",
              "      <td>25</td>\n",
              "      <td>2</td>\n",
              "      <td>1.0</td>\n",
              "      <td>4</td>\n",
              "      <td>32</td>\n",
              "      <td>1145</td>\n",
              "      <td>24</td>\n",
              "      <td>260</td>\n",
              "      <td>9</td>\n",
              "      <td>1300</td>\n",
              "    </tr>\n",
              "    <tr>\n",
              "      <th>30</th>\n",
              "      <td>31</td>\n",
              "      <td>Tamil Nadu</td>\n",
              "      <td>1854</td>\n",
              "      <td>385</td>\n",
              "      <td>310.0</td>\n",
              "      <td>32</td>\n",
              "      <td>2581</td>\n",
              "      <td>72616</td>\n",
              "      <td>692</td>\n",
              "      <td>40179</td>\n",
              "      <td>525</td>\n",
              "      <td>37353</td>\n",
              "    </tr>\n",
              "    <tr>\n",
              "      <th>31</th>\n",
              "      <td>32</td>\n",
              "      <td>Telangana</td>\n",
              "      <td>788</td>\n",
              "      <td>82</td>\n",
              "      <td>47.0</td>\n",
              "      <td>15</td>\n",
              "      <td>932</td>\n",
              "      <td>17358</td>\n",
              "      <td>802</td>\n",
              "      <td>7668</td>\n",
              "      <td>61</td>\n",
              "      <td>13315</td>\n",
              "    </tr>\n",
              "    <tr>\n",
              "      <th>32</th>\n",
              "      <td>33</td>\n",
              "      <td>Tripura</td>\n",
              "      <td>114</td>\n",
              "      <td>22</td>\n",
              "      <td>12.0</td>\n",
              "      <td>9</td>\n",
              "      <td>157</td>\n",
              "      <td>4895</td>\n",
              "      <td>99</td>\n",
              "      <td>1140</td>\n",
              "      <td>56</td>\n",
              "      <td>3277</td>\n",
              "    </tr>\n",
              "    <tr>\n",
              "      <th>33</th>\n",
              "      <td>34</td>\n",
              "      <td>Uttar Pradesh</td>\n",
              "      <td>3277</td>\n",
              "      <td>671</td>\n",
              "      <td>0.0</td>\n",
              "      <td>174</td>\n",
              "      <td>4122</td>\n",
              "      <td>58310</td>\n",
              "      <td>4442</td>\n",
              "      <td>39104</td>\n",
              "      <td>193</td>\n",
              "      <td>37156</td>\n",
              "    </tr>\n",
              "    <tr>\n",
              "      <th>34</th>\n",
              "      <td>35</td>\n",
              "      <td>Uttarakhand</td>\n",
              "      <td>275</td>\n",
              "      <td>69</td>\n",
              "      <td>19.0</td>\n",
              "      <td>20</td>\n",
              "      <td>383</td>\n",
              "      <td>6660</td>\n",
              "      <td>410</td>\n",
              "      <td>3284</td>\n",
              "      <td>50</td>\n",
              "      <td>5228</td>\n",
              "    </tr>\n",
              "    <tr>\n",
              "      <th>35</th>\n",
              "      <td>36</td>\n",
              "      <td>West Bengal</td>\n",
              "      <td>1374</td>\n",
              "      <td>406</td>\n",
              "      <td>70.0</td>\n",
              "      <td>55</td>\n",
              "      <td>1905</td>\n",
              "      <td>51163</td>\n",
              "      <td>1272</td>\n",
              "      <td>19684</td>\n",
              "      <td>294</td>\n",
              "      <td>58882</td>\n",
              "    </tr>\n",
              "    <tr>\n",
              "      <th>36</th>\n",
              "      <td>37</td>\n",
              "      <td>All India</td>\n",
              "      <td>29,899</td>\n",
              "      <td>5568</td>\n",
              "      <td>1255.0</td>\n",
              "      <td>1003</td>\n",
              "      <td>37725</td>\n",
              "      <td>739024</td>\n",
              "      <td>19810</td>\n",
              "      <td>279588</td>\n",
              "      <td>3772</td>\n",
              "      <td>431173</td>\n",
              "    </tr>\n",
              "  </tbody>\n",
              "</table>\n",
              "</div>"
            ],
            "text/plain": [
              "    Sno       State/UT  ... NumUrbanHospitals_NHP18  NumUrbanBeds_NHP18\n",
              "27   28         Punjab  ...                     172               12128\n",
              "28   29      Rajasthan  ...                     150               10760\n",
              "29   30         Sikkim  ...                       9                1300\n",
              "30   31     Tamil Nadu  ...                     525               37353\n",
              "31   32      Telangana  ...                      61               13315\n",
              "32   33        Tripura  ...                      56                3277\n",
              "33   34  Uttar Pradesh  ...                     193               37156\n",
              "34   35    Uttarakhand  ...                      50                5228\n",
              "35   36    West Bengal  ...                     294               58882\n",
              "36   37      All India  ...                    3772              431173\n",
              "\n",
              "[10 rows x 12 columns]"
            ]
          },
          "metadata": {
            "tags": []
          },
          "execution_count": 27
        }
      ]
    },
    {
      "cell_type": "code",
      "metadata": {
        "id": "KAkpeS6Vtldr"
      },
      "source": [
        "temp = beds[[\"NumPublicBeds_HMIS\",\"NumRuralBeds_NHP18\",\"NumUrbanBeds_NHP18\"]]"
      ],
      "execution_count": 28,
      "outputs": []
    },
    {
      "cell_type": "code",
      "metadata": {
        "id": "_9VFEwQktoCV",
        "outputId": "df2c2544-e614-47b3-d0be-37ee606dd7b7",
        "colab": {
          "base_uri": "https://localhost:8080/",
          "height": 220
        }
      },
      "source": [
        "beds[\"Total beds\"] = temp.sum(axis=1)\n",
        "beds = beds[[\"State/UT\",\"Total beds\"]]\n",
        "beds = beds.drop(index = 36,axis=0)\n",
        "beds.head(6)"
      ],
      "execution_count": 29,
      "outputs": [
        {
          "output_type": "execute_result",
          "data": {
            "text/html": [
              "<div>\n",
              "<style scoped>\n",
              "    .dataframe tbody tr th:only-of-type {\n",
              "        vertical-align: middle;\n",
              "    }\n",
              "\n",
              "    .dataframe tbody tr th {\n",
              "        vertical-align: top;\n",
              "    }\n",
              "\n",
              "    .dataframe thead th {\n",
              "        text-align: right;\n",
              "    }\n",
              "</style>\n",
              "<table border=\"1\" class=\"dataframe\">\n",
              "  <thead>\n",
              "    <tr style=\"text-align: right;\">\n",
              "      <th></th>\n",
              "      <th>State/UT</th>\n",
              "      <th>Total beds</th>\n",
              "    </tr>\n",
              "  </thead>\n",
              "  <tbody>\n",
              "    <tr>\n",
              "      <th>0</th>\n",
              "      <td>Andaman &amp; Nicobar Islands</td>\n",
              "      <td>2321</td>\n",
              "    </tr>\n",
              "    <tr>\n",
              "      <th>1</th>\n",
              "      <td>Andhra Pradesh</td>\n",
              "      <td>83937</td>\n",
              "    </tr>\n",
              "    <tr>\n",
              "      <th>2</th>\n",
              "      <td>Arunachal Pradesh</td>\n",
              "      <td>4724</td>\n",
              "    </tr>\n",
              "    <tr>\n",
              "      <th>3</th>\n",
              "      <td>Assam</td>\n",
              "      <td>36257</td>\n",
              "    </tr>\n",
              "    <tr>\n",
              "      <th>4</th>\n",
              "      <td>Bihar</td>\n",
              "      <td>29815</td>\n",
              "    </tr>\n",
              "    <tr>\n",
              "      <th>5</th>\n",
              "      <td>Chandigarh</td>\n",
              "      <td>4534</td>\n",
              "    </tr>\n",
              "  </tbody>\n",
              "</table>\n",
              "</div>"
            ],
            "text/plain": [
              "                    State/UT  Total beds\n",
              "0  Andaman & Nicobar Islands        2321\n",
              "1             Andhra Pradesh       83937\n",
              "2          Arunachal Pradesh        4724\n",
              "3                      Assam       36257\n",
              "4                      Bihar       29815\n",
              "5                 Chandigarh        4534"
            ]
          },
          "metadata": {
            "tags": []
          },
          "execution_count": 29
        }
      ]
    },
    {
      "cell_type": "code",
      "metadata": {
        "id": "cJlX_ruutqli",
        "outputId": "19e2c7b4-d93f-4f72-bc94-1d0f86b11037",
        "colab": {
          "base_uri": "https://localhost:8080/",
          "height": 750
        }
      },
      "source": [
        "beds.plot(x=\"State/UT\", y=\"Total beds\", kind=\"bar\", title = \".\",figsize = (14,10))\n",
        "plt.tick_params(axis='x', which='major', labelsize=10)"
      ],
      "execution_count": 30,
      "outputs": [
        {
          "output_type": "display_data",
          "data": {
            "image/png": "[encoded data removed]",
            "text/plain": [
              "<Figure size 1008x720 with 1 Axes>"
            ]
          },
          "metadata": {
            "tags": [],
            "needs_background": "light"
          }
        }
      ]
    },
    {
      "cell_type": "markdown",
      "metadata": {
        "id": "W_unszhVtswP"
      },
      "source": [
        "**Total number of hospital beds available in states and UTs in India**\n",
        "\n",
        "---\n",
        "Tamil Nadu holds maximum hospitals in India\n"
      ]
    },
    {
      "cell_type": "code",
      "metadata": {
        "id": "_tHiY7dnt8du",
        "outputId": "2e4c7bb3-b0a1-4c22-9a8c-b25eb98e7258",
        "colab": {
          "base_uri": "https://localhost:8080/",
          "height": 191
        }
      },
      "source": [
        "population.head()"
      ],
      "execution_count": 31,
      "outputs": [
        {
          "output_type": "execute_result",
          "data": {
            "text/html": [
              "<div>\n",
              "<style scoped>\n",
              "    .dataframe tbody tr th:only-of-type {\n",
              "        vertical-align: middle;\n",
              "    }\n",
              "\n",
              "    .dataframe tbody tr th {\n",
              "        vertical-align: top;\n",
              "    }\n",
              "\n",
              "    .dataframe thead th {\n",
              "        text-align: right;\n",
              "    }\n",
              "</style>\n",
              "<table border=\"1\" class=\"dataframe\">\n",
              "  <thead>\n",
              "    <tr style=\"text-align: right;\">\n",
              "      <th></th>\n",
              "      <th>Sno</th>\n",
              "      <th>State / Union Territory</th>\n",
              "      <th>Population</th>\n",
              "      <th>Rural population</th>\n",
              "      <th>Urban population</th>\n",
              "      <th>Area</th>\n",
              "      <th>Density</th>\n",
              "      <th>Gender Ratio</th>\n",
              "    </tr>\n",
              "  </thead>\n",
              "  <tbody>\n",
              "    <tr>\n",
              "      <th>0</th>\n",
              "      <td>1</td>\n",
              "      <td>Uttar Pradesh</td>\n",
              "      <td>199812341</td>\n",
              "      <td>155317278</td>\n",
              "      <td>44495063</td>\n",
              "      <td>240,928 km2 (93,023 sq mi)</td>\n",
              "      <td>828.0</td>\n",
              "      <td>912</td>\n",
              "    </tr>\n",
              "    <tr>\n",
              "      <th>1</th>\n",
              "      <td>2</td>\n",
              "      <td>Maharashtra</td>\n",
              "      <td>112374333</td>\n",
              "      <td>61556074</td>\n",
              "      <td>50818259</td>\n",
              "      <td>307,713 km2 (118,809 sq mi)</td>\n",
              "      <td>365.0</td>\n",
              "      <td>929</td>\n",
              "    </tr>\n",
              "    <tr>\n",
              "      <th>2</th>\n",
              "      <td>3</td>\n",
              "      <td>Bihar</td>\n",
              "      <td>104099452</td>\n",
              "      <td>92341436</td>\n",
              "      <td>11758016</td>\n",
              "      <td>94,163 km2 (36,357 sq mi)</td>\n",
              "      <td>1102.0</td>\n",
              "      <td>918</td>\n",
              "    </tr>\n",
              "    <tr>\n",
              "      <th>3</th>\n",
              "      <td>4</td>\n",
              "      <td>West Bengal</td>\n",
              "      <td>91276115</td>\n",
              "      <td>62183113</td>\n",
              "      <td>29093002</td>\n",
              "      <td>88,752 km2 (34,267 sq mi)</td>\n",
              "      <td>1029.0</td>\n",
              "      <td>953</td>\n",
              "    </tr>\n",
              "    <tr>\n",
              "      <th>4</th>\n",
              "      <td>5</td>\n",
              "      <td>Madhya Pradesh</td>\n",
              "      <td>72626809</td>\n",
              "      <td>52557404</td>\n",
              "      <td>20069405</td>\n",
              "      <td>308,245 km2 (119,014 sq mi)</td>\n",
              "      <td>236.0</td>\n",
              "      <td>931</td>\n",
              "    </tr>\n",
              "  </tbody>\n",
              "</table>\n",
              "</div>"
            ],
            "text/plain": [
              "   Sno State / Union Territory  ...  Density  Gender Ratio\n",
              "0    1           Uttar Pradesh  ...    828.0           912\n",
              "1    2             Maharashtra  ...    365.0           929\n",
              "2    3                   Bihar  ...   1102.0           918\n",
              "3    4             West Bengal  ...   1029.0           953\n",
              "4    5          Madhya Pradesh  ...    236.0           931\n",
              "\n",
              "[5 rows x 8 columns]"
            ]
          },
          "metadata": {
            "tags": []
          },
          "execution_count": 31
        }
      ]
    },
    {
      "cell_type": "code",
      "metadata": {
        "id": "eO5bzROVuBMC",
        "outputId": "d99bc2fb-d133-4b1c-ff23-57234703c92e",
        "colab": {
          "base_uri": "https://localhost:8080/",
          "height": 191
        }
      },
      "source": [
        "pop_density = population[[\"State / Union Territory\",\"Density\"]]\n",
        "pop_density.head()"
      ],
      "execution_count": 32,
      "outputs": [
        {
          "output_type": "execute_result",
          "data": {
            "text/html": [
              "<div>\n",
              "<style scoped>\n",
              "    .dataframe tbody tr th:only-of-type {\n",
              "        vertical-align: middle;\n",
              "    }\n",
              "\n",
              "    .dataframe tbody tr th {\n",
              "        vertical-align: top;\n",
              "    }\n",
              "\n",
              "    .dataframe thead th {\n",
              "        text-align: right;\n",
              "    }\n",
              "</style>\n",
              "<table border=\"1\" class=\"dataframe\">\n",
              "  <thead>\n",
              "    <tr style=\"text-align: right;\">\n",
              "      <th></th>\n",
              "      <th>State / Union Territory</th>\n",
              "      <th>Density</th>\n",
              "    </tr>\n",
              "  </thead>\n",
              "  <tbody>\n",
              "    <tr>\n",
              "      <th>0</th>\n",
              "      <td>Uttar Pradesh</td>\n",
              "      <td>828.0</td>\n",
              "    </tr>\n",
              "    <tr>\n",
              "      <th>1</th>\n",
              "      <td>Maharashtra</td>\n",
              "      <td>365.0</td>\n",
              "    </tr>\n",
              "    <tr>\n",
              "      <th>2</th>\n",
              "      <td>Bihar</td>\n",
              "      <td>1102.0</td>\n",
              "    </tr>\n",
              "    <tr>\n",
              "      <th>3</th>\n",
              "      <td>West Bengal</td>\n",
              "      <td>1029.0</td>\n",
              "    </tr>\n",
              "    <tr>\n",
              "      <th>4</th>\n",
              "      <td>Madhya Pradesh</td>\n",
              "      <td>236.0</td>\n",
              "    </tr>\n",
              "  </tbody>\n",
              "</table>\n",
              "</div>"
            ],
            "text/plain": [
              "  State / Union Territory  Density\n",
              "0           Uttar Pradesh    828.0\n",
              "1             Maharashtra    365.0\n",
              "2                   Bihar   1102.0\n",
              "3             West Bengal   1029.0\n",
              "4          Madhya Pradesh    236.0"
            ]
          },
          "metadata": {
            "tags": []
          },
          "execution_count": 32
        }
      ]
    },
    {
      "cell_type": "code",
      "metadata": {
        "id": "U4Qs2sdSuELX",
        "outputId": "18f01600-80b5-4731-e149-641769902165",
        "colab": {
          "base_uri": "https://localhost:8080/",
          "height": 66
        }
      },
      "source": [
        "states_data.count()\n",
        "beds.count()\n",
        "pop_density.count()"
      ],
      "execution_count": 33,
      "outputs": [
        {
          "output_type": "execute_result",
          "data": {
            "text/plain": [
              "State / Union Territory    36\n",
              "Density                    36\n",
              "dtype: int64"
            ]
          },
          "metadata": {
            "tags": []
          },
          "execution_count": 33
        }
      ]
    },
    {
      "cell_type": "code",
      "metadata": {
        "id": "pirh5-xouG8y"
      },
      "source": [
        "states_data = states_data.merge(beds, left_on='State/UnionTerritory', right_on='State/UT')\n",
        "states_data = states_data.merge(pop_density,left_on='State/UnionTerritory',right_on= 'State / Union Territory')"
      ],
      "execution_count": 34,
      "outputs": []
    },
    {
      "cell_type": "markdown",
      "metadata": {
        "id": "z--Zju_GuMVt"
      },
      "source": [
        "Merging all the data."
      ]
    },
    {
      "cell_type": "code",
      "metadata": {
        "id": "wqTXQtLauJFr",
        "outputId": "a5b0210d-2133-41a4-b433-56bbffaec385",
        "colab": {
          "base_uri": "https://localhost:8080/",
          "height": 910
        }
      },
      "source": [
        "states_data = states_data.drop([\"State/UT\",\"State / Union Territory\"],axis=1)\n",
        "states_data"
      ],
      "execution_count": 35,
      "outputs": [
        {
          "output_type": "execute_result",
          "data": {
            "text/html": [
              "<div>\n",
              "<style scoped>\n",
              "    .dataframe tbody tr th:only-of-type {\n",
              "        vertical-align: middle;\n",
              "    }\n",
              "\n",
              "    .dataframe tbody tr th {\n",
              "        vertical-align: top;\n",
              "    }\n",
              "\n",
              "    .dataframe thead th {\n",
              "        text-align: right;\n",
              "    }\n",
              "</style>\n",
              "<table border=\"1\" class=\"dataframe\">\n",
              "  <thead>\n",
              "    <tr style=\"text-align: right;\">\n",
              "      <th></th>\n",
              "      <th>State/UnionTerritory</th>\n",
              "      <th>Cured</th>\n",
              "      <th>Deaths</th>\n",
              "      <th>Confirmed</th>\n",
              "      <th>Total beds</th>\n",
              "      <th>Density</th>\n",
              "    </tr>\n",
              "  </thead>\n",
              "  <tbody>\n",
              "    <tr>\n",
              "      <th>0</th>\n",
              "      <td>Andhra Pradesh</td>\n",
              "      <td>114717</td>\n",
              "      <td>3774</td>\n",
              "      <td>225342</td>\n",
              "      <td>83937</td>\n",
              "      <td>303.0</td>\n",
              "    </tr>\n",
              "    <tr>\n",
              "      <th>1</th>\n",
              "      <td>Arunachal Pradesh</td>\n",
              "      <td>164</td>\n",
              "      <td>0</td>\n",
              "      <td>1711</td>\n",
              "      <td>4724</td>\n",
              "      <td>17.0</td>\n",
              "    </tr>\n",
              "    <tr>\n",
              "      <th>2</th>\n",
              "      <td>Assam</td>\n",
              "      <td>37254</td>\n",
              "      <td>240</td>\n",
              "      <td>85578</td>\n",
              "      <td>36257</td>\n",
              "      <td>397.0</td>\n",
              "    </tr>\n",
              "    <tr>\n",
              "      <th>3</th>\n",
              "      <td>Bihar</td>\n",
              "      <td>98190</td>\n",
              "      <td>1149</td>\n",
              "      <td>183404</td>\n",
              "      <td>29815</td>\n",
              "      <td>1102.0</td>\n",
              "    </tr>\n",
              "    <tr>\n",
              "      <th>4</th>\n",
              "      <td>Chandigarh</td>\n",
              "      <td>9004</td>\n",
              "      <td>194</td>\n",
              "      <td>14362</td>\n",
              "      <td>4534</td>\n",
              "      <td>9252.0</td>\n",
              "    </tr>\n",
              "    <tr>\n",
              "      <th>5</th>\n",
              "      <td>Chhattisgarh</td>\n",
              "      <td>17349</td>\n",
              "      <td>142</td>\n",
              "      <td>36797</td>\n",
              "      <td>23766</td>\n",
              "      <td>189.0</td>\n",
              "    </tr>\n",
              "    <tr>\n",
              "      <th>6</th>\n",
              "      <td>Delhi</td>\n",
              "      <td>498448</td>\n",
              "      <td>34200</td>\n",
              "      <td>1197684</td>\n",
              "      <td>44955</td>\n",
              "      <td>11297.0</td>\n",
              "    </tr>\n",
              "    <tr>\n",
              "      <th>7</th>\n",
              "      <td>Goa</td>\n",
              "      <td>2365</td>\n",
              "      <td>1</td>\n",
              "      <td>11123</td>\n",
              "      <td>5679</td>\n",
              "      <td>394.0</td>\n",
              "    </tr>\n",
              "    <tr>\n",
              "      <th>8</th>\n",
              "      <td>Gujarat</td>\n",
              "      <td>480107</td>\n",
              "      <td>52564</td>\n",
              "      <td>869412</td>\n",
              "      <td>73409</td>\n",
              "      <td>308.0</td>\n",
              "    </tr>\n",
              "    <tr>\n",
              "      <th>9</th>\n",
              "      <td>Haryana</td>\n",
              "      <td>85437</td>\n",
              "      <td>2164</td>\n",
              "      <td>177014</td>\n",
              "      <td>25081</td>\n",
              "      <td>573.0</td>\n",
              "    </tr>\n",
              "    <tr>\n",
              "      <th>10</th>\n",
              "      <td>Himachal Pradesh</td>\n",
              "      <td>8301</td>\n",
              "      <td>268</td>\n",
              "      <td>15711</td>\n",
              "      <td>21105</td>\n",
              "      <td>123.0</td>\n",
              "    </tr>\n",
              "    <tr>\n",
              "      <th>11</th>\n",
              "      <td>Jharkhand</td>\n",
              "      <td>20815</td>\n",
              "      <td>335</td>\n",
              "      <td>41465</td>\n",
              "      <td>18188</td>\n",
              "      <td>414.0</td>\n",
              "    </tr>\n",
              "    <tr>\n",
              "      <th>12</th>\n",
              "      <td>Karnataka</td>\n",
              "      <td>93739</td>\n",
              "      <td>3356</td>\n",
              "      <td>195776</td>\n",
              "      <td>126498</td>\n",
              "      <td>319.0</td>\n",
              "    </tr>\n",
              "    <tr>\n",
              "      <th>13</th>\n",
              "      <td>Kerala</td>\n",
              "      <td>45119</td>\n",
              "      <td>618</td>\n",
              "      <td>85302</td>\n",
              "      <td>77515</td>\n",
              "      <td>859.0</td>\n",
              "    </tr>\n",
              "    <tr>\n",
              "      <th>14</th>\n",
              "      <td>Madhya Pradesh</td>\n",
              "      <td>236781</td>\n",
              "      <td>19034</td>\n",
              "      <td>416570</td>\n",
              "      <td>66979</td>\n",
              "      <td>236.0</td>\n",
              "    </tr>\n",
              "    <tr>\n",
              "      <th>15</th>\n",
              "      <td>Maharashtra</td>\n",
              "      <td>1378156</td>\n",
              "      <td>132963</td>\n",
              "      <td>3401219</td>\n",
              "      <td>120444</td>\n",
              "      <td>365.0</td>\n",
              "    </tr>\n",
              "    <tr>\n",
              "      <th>16</th>\n",
              "      <td>Manipur</td>\n",
              "      <td>2542</td>\n",
              "      <td>0</td>\n",
              "      <td>9401</td>\n",
              "      <td>3989</td>\n",
              "      <td>122.0</td>\n",
              "    </tr>\n",
              "    <tr>\n",
              "      <th>17</th>\n",
              "      <td>Meghalaya</td>\n",
              "      <td>772</td>\n",
              "      <td>70</td>\n",
              "      <td>1521</td>\n",
              "      <td>9042</td>\n",
              "      <td>132.0</td>\n",
              "    </tr>\n",
              "    <tr>\n",
              "      <th>18</th>\n",
              "      <td>Mizoram</td>\n",
              "      <td>69</td>\n",
              "      <td>0</td>\n",
              "      <td>1883</td>\n",
              "      <td>4309</td>\n",
              "      <td>52.0</td>\n",
              "    </tr>\n",
              "    <tr>\n",
              "      <th>19</th>\n",
              "      <td>Nagaland</td>\n",
              "      <td>1218</td>\n",
              "      <td>0</td>\n",
              "      <td>3309</td>\n",
              "      <td>3824</td>\n",
              "      <td>119.0</td>\n",
              "    </tr>\n",
              "    <tr>\n",
              "      <th>20</th>\n",
              "      <td>Odisha</td>\n",
              "      <td>64578</td>\n",
              "      <td>371</td>\n",
              "      <td>106308</td>\n",
              "      <td>35016</td>\n",
              "      <td>269.0</td>\n",
              "    </tr>\n",
              "    <tr>\n",
              "      <th>21</th>\n",
              "      <td>Puducherry</td>\n",
              "      <td>1961</td>\n",
              "      <td>74</td>\n",
              "      <td>4849</td>\n",
              "      <td>8031</td>\n",
              "      <td>2598.0</td>\n",
              "    </tr>\n",
              "    <tr>\n",
              "      <th>22</th>\n",
              "      <td>Punjab</td>\n",
              "      <td>82957</td>\n",
              "      <td>2882</td>\n",
              "      <td>129659</td>\n",
              "      <td>31460</td>\n",
              "      <td>550.0</td>\n",
              "    </tr>\n",
              "    <tr>\n",
              "      <th>23</th>\n",
              "      <td>Rajasthan</td>\n",
              "      <td>296585</td>\n",
              "      <td>10532</td>\n",
              "      <td>464935</td>\n",
              "      <td>83692</td>\n",
              "      <td>201.0</td>\n",
              "    </tr>\n",
              "    <tr>\n",
              "      <th>24</th>\n",
              "      <td>Sikkim</td>\n",
              "      <td>113</td>\n",
              "      <td>0</td>\n",
              "      <td>847</td>\n",
              "      <td>2705</td>\n",
              "      <td>86.0</td>\n",
              "    </tr>\n",
              "    <tr>\n",
              "      <th>25</th>\n",
              "      <td>Tamil Nadu</td>\n",
              "      <td>653135</td>\n",
              "      <td>12064</td>\n",
              "      <td>1278975</td>\n",
              "      <td>150148</td>\n",
              "      <td>555.0</td>\n",
              "    </tr>\n",
              "    <tr>\n",
              "      <th>26</th>\n",
              "      <td>Tripura</td>\n",
              "      <td>10390</td>\n",
              "      <td>14</td>\n",
              "      <td>24825</td>\n",
              "      <td>9312</td>\n",
              "      <td>350.0</td>\n",
              "    </tr>\n",
              "    <tr>\n",
              "      <th>27</th>\n",
              "      <td>Uttar Pradesh</td>\n",
              "      <td>247334</td>\n",
              "      <td>11893</td>\n",
              "      <td>451639</td>\n",
              "      <td>134570</td>\n",
              "      <td>828.0</td>\n",
              "    </tr>\n",
              "    <tr>\n",
              "      <th>28</th>\n",
              "      <td>Uttarakhand</td>\n",
              "      <td>21716</td>\n",
              "      <td>454</td>\n",
              "      <td>44384</td>\n",
              "      <td>15172</td>\n",
              "      <td>189.0</td>\n",
              "    </tr>\n",
              "    <tr>\n",
              "      <th>29</th>\n",
              "      <td>West Bengal</td>\n",
              "      <td>135350</td>\n",
              "      <td>16697</td>\n",
              "      <td>315241</td>\n",
              "      <td>129729</td>\n",
              "      <td>1029.0</td>\n",
              "    </tr>\n",
              "  </tbody>\n",
              "</table>\n",
              "</div>"
            ],
            "text/plain": [
              "   State/UnionTerritory    Cured  Deaths  Confirmed  Total beds  Density\n",
              "0        Andhra Pradesh   114717    3774     225342       83937    303.0\n",
              "1     Arunachal Pradesh      164       0       1711        4724     17.0\n",
              "2                 Assam    37254     240      85578       36257    397.0\n",
              "3                 Bihar    98190    1149     183404       29815   1102.0\n",
              "4            Chandigarh     9004     194      14362        4534   9252.0\n",
              "5          Chhattisgarh    17349     142      36797       23766    189.0\n",
              "6                 Delhi   498448   34200    1197684       44955  11297.0\n",
              "7                   Goa     2365       1      11123        5679    394.0\n",
              "8               Gujarat   480107   52564     869412       73409    308.0\n",
              "9               Haryana    85437    2164     177014       25081    573.0\n",
              "10     Himachal Pradesh     8301     268      15711       21105    123.0\n",
              "11            Jharkhand    20815     335      41465       18188    414.0\n",
              "12            Karnataka    93739    3356     195776      126498    319.0\n",
              "13               Kerala    45119     618      85302       77515    859.0\n",
              "14       Madhya Pradesh   236781   19034     416570       66979    236.0\n",
              "15          Maharashtra  1378156  132963    3401219      120444    365.0\n",
              "16              Manipur     2542       0       9401        3989    122.0\n",
              "17            Meghalaya      772      70       1521        9042    132.0\n",
              "18              Mizoram       69       0       1883        4309     52.0\n",
              "19             Nagaland     1218       0       3309        3824    119.0\n",
              "20               Odisha    64578     371     106308       35016    269.0\n",
              "21           Puducherry     1961      74       4849        8031   2598.0\n",
              "22               Punjab    82957    2882     129659       31460    550.0\n",
              "23            Rajasthan   296585   10532     464935       83692    201.0\n",
              "24               Sikkim      113       0        847        2705     86.0\n",
              "25           Tamil Nadu   653135   12064    1278975      150148    555.0\n",
              "26              Tripura    10390      14      24825        9312    350.0\n",
              "27        Uttar Pradesh   247334   11893     451639      134570    828.0\n",
              "28          Uttarakhand    21716     454      44384       15172    189.0\n",
              "29          West Bengal   135350   16697     315241      129729   1029.0"
            ]
          },
          "metadata": {
            "tags": []
          },
          "execution_count": 35
        }
      ]
    },
    {
      "cell_type": "code",
      "metadata": {
        "id": "P4r8D_y_uLS4"
      },
      "source": [
        "states_data1 = states_data.drop([\"State/UnionTerritory\"],axis=1)"
      ],
      "execution_count": 36,
      "outputs": []
    },
    {
      "cell_type": "code",
      "metadata": {
        "id": "4aKMj_g7uXEv",
        "outputId": "68fcafec-b88c-43bb-b71a-0dd3fc0fdce3",
        "colab": {
          "base_uri": "https://localhost:8080/",
          "height": 115
        }
      },
      "source": [
        "corrMatrix = states_data1.corr()\n",
        "print (corrMatrix)"
      ],
      "execution_count": 37,
      "outputs": [
        {
          "output_type": "stream",
          "text": [
            "               Cured    Deaths  Confirmed  Total beds   Density\n",
            "Cured       1.000000  0.930876   0.991570    0.612981  0.113894\n",
            "Deaths      0.930876  1.000000   0.949274    0.456523  0.084071\n",
            "Confirmed   0.991570  0.949274   1.000000    0.561338  0.133143\n",
            "Total beds  0.612981  0.456523   0.561338    1.000000 -0.083458\n",
            "Density     0.113894  0.084071   0.133143   -0.083458  1.000000\n"
          ],
          "name": "stdout"
        }
      ]
    },
    {
      "cell_type": "markdown",
      "metadata": {
        "id": "1zFPYBamuYhZ"
      },
      "source": [
        "**This correlation matrix suggest a strong relation between Cured/Deaths and confirmed. While it also holds a good relation with the beds available. Another thing to notce is, Density (population density) don't holds good relation. This is because if the densly populated area has no or very less active cases, irrespective of population....the situation remain under control. No transmission of virus is observed.**"
      ]
    },
    {
      "cell_type": "code",
      "metadata": {
        "id": "EtDPNcdFvIef",
        "outputId": "5bd133f3-958c-4c02-f6e4-bdf51418cf53",
        "colab": {
          "base_uri": "https://localhost:8080/",
          "height": 940
        }
      },
      "source": [
        "\n",
        "\n",
        "f = plt.figure(figsize=(19, 15))\n",
        "plt.matshow(states_data1.corr(), fignum=f.number)\n",
        "plt.xticks(range(states_data1.shape[1]), states_data1.columns, fontsize=14, rotation=45)\n",
        "plt.yticks(range(states_data1.shape[1]), states_data1.columns, fontsize=14)\n",
        "cb = plt.colorbar()\n",
        "cb.ax.tick_params(labelsize=14)\n",
        "plt.title('Correlation Matrix', fontsize=16);"
      ],
      "execution_count": 38,
      "outputs": [
        {
          "output_type": "display_data",
          "data": {
            "image/png": "[encoded data removed]",
            "text/plain": [
              "<Figure size 1368x1080 with 2 Axes>"
            ]
          },
          "metadata": {
            "tags": [],
            "needs_background": "light"
          }
        }
      ]
    },
    {
      "cell_type": "code",
      "metadata": {
        "id": "xPyC8YGZvLlo"
      },
      "source": [
        "import seaborn as sns "
      ],
      "execution_count": 39,
      "outputs": []
    },
    {
      "cell_type": "code",
      "metadata": {
        "id": "sZWuIBlSvOeR",
        "outputId": "b0a70537-a171-40aa-af0a-23cfeabd0897",
        "colab": {
          "base_uri": "https://localhost:8080/",
          "height": 268
        }
      },
      "source": [
        "sns.heatmap(corrMatrix, annot=True)\n",
        "plt.show()"
      ],
      "execution_count": 40,
      "outputs": [
        {
          "output_type": "display_data",
          "data": {
            "image/png": "[encoded data removed]",
            "text/plain": [
              "<Figure size 432x288 with 2 Axes>"
            ]
          },
          "metadata": {
            "tags": [],
            "needs_background": "light"
          }
        }
      ]
    },
    {
      "cell_type": "code",
      "metadata": {
        "id": "kILmMgswvRj2",
        "outputId": "e6c0fcfa-247d-4b5d-fd2f-a4b579c1aedc",
        "colab": {
          "base_uri": "https://localhost:8080/",
          "height": 517
        }
      },
      "source": [
        "from pandas.plotting import scatter_matrix\n",
        "\n",
        "attributes = ['Cured', 'Deaths', 'Confirmed', 'Total beds', 'Density']\n",
        "scatter_matrix(states_data1[attributes], figsize=(12, 8))\n",
        "plt.show()"
      ],
      "execution_count": 41,
      "outputs": [
        {
          "output_type": "display_data",
          "data": {
            "image/png": "[encoded data removed]",
            "text/plain": [
              "<Figure size 864x576 with 25 Axes>"
            ]
          },
          "metadata": {
            "tags": [],
            "needs_background": "light"
          }
        }
      ]
    },
    {
      "cell_type": "markdown",
      "metadata": {
        "id": "8_16nGC_vV12"
      },
      "source": [
        "**These scatter plot verifies our assumption, done from the correlation matrix.**"
      ]
    },
    {
      "cell_type": "code",
      "metadata": {
        "id": "SnB-vDG7vhiD"
      },
      "source": [
        "date_wise[\"Date\"] = pd.to_datetime(date_wise[\"Date\"],dayfirst=True)\n",
        "date_wise = date_wise.sort_values(by=['Date'])\n"
      ],
      "execution_count": 42,
      "outputs": []
    },
    {
      "cell_type": "code",
      "metadata": {
        "id": "IHJXiwKevkh_",
        "outputId": "f486bb9c-57bb-491a-a576-e57205ec8833",
        "colab": {
          "base_uri": "https://localhost:8080/",
          "height": 33
        }
      },
      "source": [
        "date_wise.shape"
      ],
      "execution_count": 43,
      "outputs": [
        {
          "output_type": "execute_result",
          "data": {
            "text/plain": [
              "(145, 5)"
            ]
          },
          "metadata": {
            "tags": []
          },
          "execution_count": 43
        }
      ]
    },
    {
      "cell_type": "code",
      "metadata": {
        "id": "QNigfgnbw87p",
        "outputId": "614b4fde-5c64-4f8a-c890-5bc5b9ff128f",
        "colab": {
          "base_uri": "https://localhost:8080/",
          "height": 82
        }
      },
      "source": [
        "import statsmodels.formula.api as sm"
      ],
      "execution_count": 45,
      "outputs": [
        {
          "output_type": "stream",
          "text": [
            "/usr/local/lib/python3.6/dist-packages/statsmodels/tools/_testing.py:19: FutureWarning:\n",
            "\n",
            "pandas.util.testing is deprecated. Use the functions in the public API at pandas.testing instead.\n",
            "\n"
          ],
          "name": "stderr"
        }
      ]
    },
    {
      "cell_type": "code",
      "metadata": {
        "id": "R2TD97tQvnWE"
      },
      "source": [
        "model = sm.ols('Cured~Date', data=date_wise).fit()\n",
        "pred = model.predict(date_wise[\"Date\"])"
      ],
      "execution_count": 46,
      "outputs": []
    },
    {
      "cell_type": "code",
      "metadata": {
        "id": "3eSf3yYzwA24",
        "outputId": "1d6cd8f5-915d-456b-e6b6-564e692c4c73",
        "colab": {
          "base_uri": "https://localhost:8080/",
          "height": 2885
        }
      },
      "source": [
        "model.summary()"
      ],
      "execution_count": 49,
      "outputs": [
        {
          "output_type": "execute_result",
          "data": {
            "text/html": [
              "<table class=\"simpletable\">\n",
              "<caption>OLS Regression Results</caption>\n",
              "<tr>\n",
              "  <th>Dep. Variable:</th>          <td>Cured</td>      <th>  R-squared:         </th> <td>   1.000</td>\n",
              "</tr>\n",
              "<tr>\n",
              "  <th>Model:</th>                   <td>OLS</td>       <th>  Adj. R-squared:    </th> <td>     nan</td>\n",
              "</tr>\n",
              "<tr>\n",
              "  <th>Method:</th>             <td>Least Squares</td>  <th>  F-statistic:       </th> <td>   0.000</td>\n",
              "</tr>\n",
              "<tr>\n",
              "  <th>Date:</th>             <td>Fri, 09 Oct 2020</td> <th>  Prob (F-statistic):</th>  <td>   nan</td> \n",
              "</tr>\n",
              "<tr>\n",
              "  <th>Time:</th>                 <td>19:09:40</td>     <th>  Log-Likelihood:    </th> <td>  3031.6</td>\n",
              "</tr>\n",
              "<tr>\n",
              "  <th>No. Observations:</th>      <td>   145</td>      <th>  AIC:               </th> <td>  -5773.</td>\n",
              "</tr>\n",
              "<tr>\n",
              "  <th>Df Residuals:</th>          <td>     0</td>      <th>  BIC:               </th> <td>  -5342.</td>\n",
              "</tr>\n",
              "<tr>\n",
              "  <th>Df Model:</th>              <td>   144</td>      <th>                     </th>     <td> </td>   \n",
              "</tr>\n",
              "<tr>\n",
              "  <th>Covariance Type:</th>      <td>nonrobust</td>    <th>                     </th>     <td> </td>   \n",
              "</tr>\n",
              "</table>\n",
              "<table class=\"simpletable\">\n",
              "<tr>\n",
              "                      <td></td>                        <th>coef</th>     <th>std err</th>      <th>t</th>      <th>P>|t|</th>  <th>[0.025</th>    <th>0.975]</th>  \n",
              "</tr>\n",
              "<tr>\n",
              "  <th>Intercept</th>                                <td>-4.388e-11</td> <td>      inf</td> <td>       -0</td> <td>   nan</td> <td>      nan</td> <td>      nan</td>\n",
              "</tr>\n",
              "<tr>\n",
              "  <th>Date[T.Timestamp('2020-01-31 00:00:00')]</th> <td>  5.51e-10</td> <td>      inf</td> <td>        0</td> <td>   nan</td> <td>      nan</td> <td>      nan</td>\n",
              "</tr>\n",
              "<tr>\n",
              "  <th>Date[T.Timestamp('2020-02-01 00:00:00')]</th> <td>-5.844e-10</td> <td>      inf</td> <td>       -0</td> <td>   nan</td> <td>      nan</td> <td>      nan</td>\n",
              "</tr>\n",
              "<tr>\n",
              "  <th>Date[T.Timestamp('2020-02-02 00:00:00')]</th> <td>-7.082e-11</td> <td>      inf</td> <td>       -0</td> <td>   nan</td> <td>      nan</td> <td>      nan</td>\n",
              "</tr>\n",
              "<tr>\n",
              "  <th>Date[T.Timestamp('2020-02-03 00:00:00')]</th> <td> 3.384e-10</td> <td>      inf</td> <td>        0</td> <td>   nan</td> <td>      nan</td> <td>      nan</td>\n",
              "</tr>\n",
              "<tr>\n",
              "  <th>Date[T.Timestamp('2020-02-04 00:00:00')]</th> <td>-4.623e-10</td> <td>      inf</td> <td>       -0</td> <td>   nan</td> <td>      nan</td> <td>      nan</td>\n",
              "</tr>\n",
              "<tr>\n",
              "  <th>Date[T.Timestamp('2020-02-05 00:00:00')]</th> <td> 4.133e-10</td> <td>      inf</td> <td>        0</td> <td>   nan</td> <td>      nan</td> <td>      nan</td>\n",
              "</tr>\n",
              "<tr>\n",
              "  <th>Date[T.Timestamp('2020-02-06 00:00:00')]</th> <td> 2.121e-10</td> <td>      inf</td> <td>        0</td> <td>   nan</td> <td>      nan</td> <td>      nan</td>\n",
              "</tr>\n",
              "<tr>\n",
              "  <th>Date[T.Timestamp('2020-02-07 00:00:00')]</th> <td>-2.515e-10</td> <td>      inf</td> <td>       -0</td> <td>   nan</td> <td>      nan</td> <td>      nan</td>\n",
              "</tr>\n",
              "<tr>\n",
              "  <th>Date[T.Timestamp('2020-02-08 00:00:00')]</th> <td>-4.857e-10</td> <td>      inf</td> <td>       -0</td> <td>   nan</td> <td>      nan</td> <td>      nan</td>\n",
              "</tr>\n",
              "<tr>\n",
              "  <th>Date[T.Timestamp('2020-02-09 00:00:00')]</th> <td> 4.631e-11</td> <td>      inf</td> <td>        0</td> <td>   nan</td> <td>      nan</td> <td>      nan</td>\n",
              "</tr>\n",
              "<tr>\n",
              "  <th>Date[T.Timestamp('2020-02-10 00:00:00')]</th> <td>-3.681e-10</td> <td>      inf</td> <td>       -0</td> <td>   nan</td> <td>      nan</td> <td>      nan</td>\n",
              "</tr>\n",
              "<tr>\n",
              "  <th>Date[T.Timestamp('2020-02-11 00:00:00')]</th> <td>-1.738e-10</td> <td>      inf</td> <td>       -0</td> <td>   nan</td> <td>      nan</td> <td>      nan</td>\n",
              "</tr>\n",
              "<tr>\n",
              "  <th>Date[T.Timestamp('2020-02-12 00:00:00')]</th> <td> 5.592e-10</td> <td>      inf</td> <td>        0</td> <td>   nan</td> <td>      nan</td> <td>      nan</td>\n",
              "</tr>\n",
              "<tr>\n",
              "  <th>Date[T.Timestamp('2020-02-13 00:00:00')]</th> <td>-8.323e-10</td> <td>      inf</td> <td>       -0</td> <td>   nan</td> <td>      nan</td> <td>      nan</td>\n",
              "</tr>\n",
              "<tr>\n",
              "  <th>Date[T.Timestamp('2020-02-14 00:00:00')]</th> <td> 3.116e-10</td> <td>      inf</td> <td>        0</td> <td>   nan</td> <td>      nan</td> <td>      nan</td>\n",
              "</tr>\n",
              "<tr>\n",
              "  <th>Date[T.Timestamp('2020-02-15 00:00:00')]</th> <td> 6.915e-10</td> <td>      inf</td> <td>        0</td> <td>   nan</td> <td>      nan</td> <td>      nan</td>\n",
              "</tr>\n",
              "<tr>\n",
              "  <th>Date[T.Timestamp('2020-02-16 00:00:00')]</th> <td>-1.321e-10</td> <td>      inf</td> <td>       -0</td> <td>   nan</td> <td>      nan</td> <td>      nan</td>\n",
              "</tr>\n",
              "<tr>\n",
              "  <th>Date[T.Timestamp('2020-02-17 00:00:00')]</th> <td>-3.892e-10</td> <td>      inf</td> <td>       -0</td> <td>   nan</td> <td>      nan</td> <td>      nan</td>\n",
              "</tr>\n",
              "<tr>\n",
              "  <th>Date[T.Timestamp('2020-02-18 00:00:00')]</th> <td> 1.959e-10</td> <td>      inf</td> <td>        0</td> <td>   nan</td> <td>      nan</td> <td>      nan</td>\n",
              "</tr>\n",
              "<tr>\n",
              "  <th>Date[T.Timestamp('2020-02-19 00:00:00')]</th> <td>-1.009e-10</td> <td>      inf</td> <td>       -0</td> <td>   nan</td> <td>      nan</td> <td>      nan</td>\n",
              "</tr>\n",
              "<tr>\n",
              "  <th>Date[T.Timestamp('2020-02-20 00:00:00')]</th> <td> 9.556e-11</td> <td>      inf</td> <td>        0</td> <td>   nan</td> <td>      nan</td> <td>      nan</td>\n",
              "</tr>\n",
              "<tr>\n",
              "  <th>Date[T.Timestamp('2020-02-21 00:00:00')]</th> <td> 4.839e-11</td> <td>      inf</td> <td>        0</td> <td>   nan</td> <td>      nan</td> <td>      nan</td>\n",
              "</tr>\n",
              "<tr>\n",
              "  <th>Date[T.Timestamp('2020-02-22 00:00:00')]</th> <td> 8.834e-11</td> <td>      inf</td> <td>        0</td> <td>   nan</td> <td>      nan</td> <td>      nan</td>\n",
              "</tr>\n",
              "<tr>\n",
              "  <th>Date[T.Timestamp('2020-02-23 00:00:00')]</th> <td> 3.314e-10</td> <td>      inf</td> <td>        0</td> <td>   nan</td> <td>      nan</td> <td>      nan</td>\n",
              "</tr>\n",
              "<tr>\n",
              "  <th>Date[T.Timestamp('2020-02-24 00:00:00')]</th> <td> 8.654e-11</td> <td>      inf</td> <td>        0</td> <td>   nan</td> <td>      nan</td> <td>      nan</td>\n",
              "</tr>\n",
              "<tr>\n",
              "  <th>Date[T.Timestamp('2020-02-25 00:00:00')]</th> <td>  5.06e-11</td> <td>      inf</td> <td>        0</td> <td>   nan</td> <td>      nan</td> <td>      nan</td>\n",
              "</tr>\n",
              "<tr>\n",
              "  <th>Date[T.Timestamp('2020-02-26 00:00:00')]</th> <td>-5.036e-10</td> <td>      inf</td> <td>       -0</td> <td>   nan</td> <td>      nan</td> <td>      nan</td>\n",
              "</tr>\n",
              "<tr>\n",
              "  <th>Date[T.Timestamp('2020-02-27 00:00:00')]</th> <td> 8.967e-10</td> <td>      inf</td> <td>        0</td> <td>   nan</td> <td>      nan</td> <td>      nan</td>\n",
              "</tr>\n",
              "<tr>\n",
              "  <th>Date[T.Timestamp('2020-02-28 00:00:00')]</th> <td>-5.588e-10</td> <td>      inf</td> <td>       -0</td> <td>   nan</td> <td>      nan</td> <td>      nan</td>\n",
              "</tr>\n",
              "<tr>\n",
              "  <th>Date[T.Timestamp('2020-02-29 00:00:00')]</th> <td> 1.251e-10</td> <td>      inf</td> <td>        0</td> <td>   nan</td> <td>      nan</td> <td>      nan</td>\n",
              "</tr>\n",
              "<tr>\n",
              "  <th>Date[T.Timestamp('2020-03-01 00:00:00')]</th> <td>-1.103e-10</td> <td>      inf</td> <td>       -0</td> <td>   nan</td> <td>      nan</td> <td>      nan</td>\n",
              "</tr>\n",
              "<tr>\n",
              "  <th>Date[T.Timestamp('2020-03-02 00:00:00')]</th> <td> 5.396e-10</td> <td>      inf</td> <td>        0</td> <td>   nan</td> <td>      nan</td> <td>      nan</td>\n",
              "</tr>\n",
              "<tr>\n",
              "  <th>Date[T.Timestamp('2020-03-03 00:00:00')]</th> <td>    3.0000</td> <td>      inf</td> <td>        0</td> <td>   nan</td> <td>      nan</td> <td>      nan</td>\n",
              "</tr>\n",
              "<tr>\n",
              "  <th>Date[T.Timestamp('2020-03-04 00:00:00')]</th> <td>    3.0000</td> <td>      inf</td> <td>        0</td> <td>   nan</td> <td>      nan</td> <td>      nan</td>\n",
              "</tr>\n",
              "<tr>\n",
              "  <th>Date[T.Timestamp('2020-03-05 00:00:00')]</th> <td>    3.0000</td> <td>      inf</td> <td>        0</td> <td>   nan</td> <td>      nan</td> <td>      nan</td>\n",
              "</tr>\n",
              "<tr>\n",
              "  <th>Date[T.Timestamp('2020-03-06 00:00:00')]</th> <td>    3.0000</td> <td>      inf</td> <td>        0</td> <td>   nan</td> <td>      nan</td> <td>      nan</td>\n",
              "</tr>\n",
              "<tr>\n",
              "  <th>Date[T.Timestamp('2020-03-07 00:00:00')]</th> <td>    3.0000</td> <td>      inf</td> <td>        0</td> <td>   nan</td> <td>      nan</td> <td>      nan</td>\n",
              "</tr>\n",
              "<tr>\n",
              "  <th>Date[T.Timestamp('2020-03-08 00:00:00')]</th> <td>    3.0000</td> <td>      inf</td> <td>        0</td> <td>   nan</td> <td>      nan</td> <td>      nan</td>\n",
              "</tr>\n",
              "<tr>\n",
              "  <th>Date[T.Timestamp('2020-03-09 00:00:00')]</th> <td>    3.0000</td> <td>      inf</td> <td>        0</td> <td>   nan</td> <td>      nan</td> <td>      nan</td>\n",
              "</tr>\n",
              "<tr>\n",
              "  <th>Date[T.Timestamp('2020-03-10 00:00:00')]</th> <td>    3.0000</td> <td>      inf</td> <td>        0</td> <td>   nan</td> <td>      nan</td> <td>      nan</td>\n",
              "</tr>\n",
              "<tr>\n",
              "  <th>Date[T.Timestamp('2020-03-11 00:00:00')]</th> <td>    3.0000</td> <td>      inf</td> <td>        0</td> <td>   nan</td> <td>      nan</td> <td>      nan</td>\n",
              "</tr>\n",
              "<tr>\n",
              "  <th>Date[T.Timestamp('2020-03-12 00:00:00')]</th> <td>    3.0000</td> <td>      inf</td> <td>        0</td> <td>   nan</td> <td>      nan</td> <td>      nan</td>\n",
              "</tr>\n",
              "<tr>\n",
              "  <th>Date[T.Timestamp('2020-03-13 00:00:00')]</th> <td>    3.0000</td> <td>      inf</td> <td>        0</td> <td>   nan</td> <td>      nan</td> <td>      nan</td>\n",
              "</tr>\n",
              "<tr>\n",
              "  <th>Date[T.Timestamp('2020-03-14 00:00:00')]</th> <td>   10.0000</td> <td>      inf</td> <td>        0</td> <td>   nan</td> <td>      nan</td> <td>      nan</td>\n",
              "</tr>\n",
              "<tr>\n",
              "  <th>Date[T.Timestamp('2020-03-15 00:00:00')]</th> <td>   13.0000</td> <td>      inf</td> <td>        0</td> <td>   nan</td> <td>      nan</td> <td>      nan</td>\n",
              "</tr>\n",
              "<tr>\n",
              "  <th>Date[T.Timestamp('2020-03-16 00:00:00')]</th> <td>   13.0000</td> <td>      inf</td> <td>        0</td> <td>   nan</td> <td>      nan</td> <td>      nan</td>\n",
              "</tr>\n",
              "<tr>\n",
              "  <th>Date[T.Timestamp('2020-03-17 00:00:00')]</th> <td>   14.0000</td> <td>      inf</td> <td>        0</td> <td>   nan</td> <td>      nan</td> <td>      nan</td>\n",
              "</tr>\n",
              "<tr>\n",
              "  <th>Date[T.Timestamp('2020-03-18 00:00:00')]</th> <td>   14.0000</td> <td>      inf</td> <td>        0</td> <td>   nan</td> <td>      nan</td> <td>      nan</td>\n",
              "</tr>\n",
              "<tr>\n",
              "  <th>Date[T.Timestamp('2020-03-19 00:00:00')]</th> <td>   20.0000</td> <td>      inf</td> <td>        0</td> <td>   nan</td> <td>      nan</td> <td>      nan</td>\n",
              "</tr>\n",
              "<tr>\n",
              "  <th>Date[T.Timestamp('2020-03-20 00:00:00')]</th> <td>   23.0000</td> <td>      inf</td> <td>        0</td> <td>   nan</td> <td>      nan</td> <td>      nan</td>\n",
              "</tr>\n",
              "<tr>\n",
              "  <th>Date[T.Timestamp('2020-03-21 00:00:00')]</th> <td>   23.0000</td> <td>      inf</td> <td>        0</td> <td>   nan</td> <td>      nan</td> <td>      nan</td>\n",
              "</tr>\n",
              "<tr>\n",
              "  <th>Date[T.Timestamp('2020-03-22 00:00:00')]</th> <td>   24.0000</td> <td>      inf</td> <td>        0</td> <td>   nan</td> <td>      nan</td> <td>      nan</td>\n",
              "</tr>\n",
              "<tr>\n",
              "  <th>Date[T.Timestamp('2020-03-23 00:00:00')]</th> <td>   24.0000</td> <td>      inf</td> <td>        0</td> <td>   nan</td> <td>      nan</td> <td>      nan</td>\n",
              "</tr>\n",
              "<tr>\n",
              "  <th>Date[T.Timestamp('2020-03-24 00:00:00')]</th> <td>   40.0000</td> <td>      inf</td> <td>        0</td> <td>   nan</td> <td>      nan</td> <td>      nan</td>\n",
              "</tr>\n",
              "<tr>\n",
              "  <th>Date[T.Timestamp('2020-03-25 00:00:00')]</th> <td>   43.0000</td> <td>      inf</td> <td>        0</td> <td>   nan</td> <td>      nan</td> <td>      nan</td>\n",
              "</tr>\n",
              "<tr>\n",
              "  <th>Date[T.Timestamp('2020-03-26 00:00:00')]</th> <td>   45.0000</td> <td>      inf</td> <td>        0</td> <td>   nan</td> <td>      nan</td> <td>      nan</td>\n",
              "</tr>\n",
              "<tr>\n",
              "  <th>Date[T.Timestamp('2020-03-27 00:00:00')]</th> <td>   67.0000</td> <td>      inf</td> <td>        0</td> <td>   nan</td> <td>      nan</td> <td>      nan</td>\n",
              "</tr>\n",
              "<tr>\n",
              "  <th>Date[T.Timestamp('2020-03-28 00:00:00')]</th> <td>   80.0000</td> <td>      inf</td> <td>        0</td> <td>   nan</td> <td>      nan</td> <td>      nan</td>\n",
              "</tr>\n",
              "<tr>\n",
              "  <th>Date[T.Timestamp('2020-03-29 00:00:00')]</th> <td>   96.0000</td> <td>      inf</td> <td>        0</td> <td>   nan</td> <td>      nan</td> <td>      nan</td>\n",
              "</tr>\n",
              "<tr>\n",
              "  <th>Date[T.Timestamp('2020-03-30 00:00:00')]</th> <td>  102.0000</td> <td>      inf</td> <td>        0</td> <td>   nan</td> <td>      nan</td> <td>      nan</td>\n",
              "</tr>\n",
              "<tr>\n",
              "  <th>Date[T.Timestamp('2020-03-31 00:00:00')]</th> <td>  124.0000</td> <td>      inf</td> <td>        0</td> <td>   nan</td> <td>      nan</td> <td>      nan</td>\n",
              "</tr>\n",
              "<tr>\n",
              "  <th>Date[T.Timestamp('2020-04-01 00:00:00')]</th> <td>  144.0000</td> <td>      inf</td> <td>        0</td> <td>   nan</td> <td>      nan</td> <td>      nan</td>\n",
              "</tr>\n",
              "<tr>\n",
              "  <th>Date[T.Timestamp('2020-04-02 00:00:00')]</th> <td>  156.0000</td> <td>      inf</td> <td>        0</td> <td>   nan</td> <td>      nan</td> <td>      nan</td>\n",
              "</tr>\n",
              "<tr>\n",
              "  <th>Date[T.Timestamp('2020-04-03 00:00:00')]</th> <td>  163.0000</td> <td>      inf</td> <td>        0</td> <td>   nan</td> <td>      nan</td> <td>      nan</td>\n",
              "</tr>\n",
              "<tr>\n",
              "  <th>Date[T.Timestamp('2020-04-04 00:00:00')]</th> <td>  213.0000</td> <td>      inf</td> <td>        0</td> <td>   nan</td> <td>      nan</td> <td>      nan</td>\n",
              "</tr>\n",
              "<tr>\n",
              "  <th>Date[T.Timestamp('2020-04-05 00:00:00')]</th> <td>  275.0000</td> <td>      inf</td> <td>        0</td> <td>   nan</td> <td>      nan</td> <td>      nan</td>\n",
              "</tr>\n",
              "<tr>\n",
              "  <th>Date[T.Timestamp('2020-04-06 00:00:00')]</th> <td>  319.0000</td> <td>      inf</td> <td>        0</td> <td>   nan</td> <td>      nan</td> <td>      nan</td>\n",
              "</tr>\n",
              "<tr>\n",
              "  <th>Date[T.Timestamp('2020-04-07 00:00:00')]</th> <td>  353.0000</td> <td>      inf</td> <td>        0</td> <td>   nan</td> <td>      nan</td> <td>      nan</td>\n",
              "</tr>\n",
              "<tr>\n",
              "  <th>Date[T.Timestamp('2020-04-08 00:00:00')]</th> <td>  411.0000</td> <td>      inf</td> <td>        0</td> <td>   nan</td> <td>      nan</td> <td>      nan</td>\n",
              "</tr>\n",
              "<tr>\n",
              "  <th>Date[T.Timestamp('2020-04-09 00:00:00')]</th> <td>  478.0000</td> <td>      inf</td> <td>        0</td> <td>   nan</td> <td>      nan</td> <td>      nan</td>\n",
              "</tr>\n",
              "<tr>\n",
              "  <th>Date[T.Timestamp('2020-04-10 00:00:00')]</th> <td>  516.0000</td> <td>      inf</td> <td>        0</td> <td>   nan</td> <td>      nan</td> <td>      nan</td>\n",
              "</tr>\n",
              "<tr>\n",
              "  <th>Date[T.Timestamp('2020-04-11 00:00:00')]</th> <td>  653.0000</td> <td>      inf</td> <td>        0</td> <td>   nan</td> <td>      nan</td> <td>      nan</td>\n",
              "</tr>\n",
              "<tr>\n",
              "  <th>Date[T.Timestamp('2020-04-12 00:00:00')]</th> <td>  765.0000</td> <td>      inf</td> <td>        0</td> <td>   nan</td> <td>      nan</td> <td>      nan</td>\n",
              "</tr>\n",
              "<tr>\n",
              "  <th>Date[T.Timestamp('2020-04-13 00:00:00')]</th> <td>  980.0000</td> <td>      inf</td> <td>        0</td> <td>   nan</td> <td>      nan</td> <td>      nan</td>\n",
              "</tr>\n",
              "<tr>\n",
              "  <th>Date[T.Timestamp('2020-04-14 00:00:00')]</th> <td> 1190.0000</td> <td>      inf</td> <td>        0</td> <td>   nan</td> <td>      nan</td> <td>      nan</td>\n",
              "</tr>\n",
              "<tr>\n",
              "  <th>Date[T.Timestamp('2020-04-15 00:00:00')]</th> <td> 1344.0000</td> <td>      inf</td> <td>        0</td> <td>   nan</td> <td>      nan</td> <td>      nan</td>\n",
              "</tr>\n",
              "<tr>\n",
              "  <th>Date[T.Timestamp('2020-04-16 00:00:00')]</th> <td> 1515.0000</td> <td>      inf</td> <td>        0</td> <td>   nan</td> <td>      nan</td> <td>      nan</td>\n",
              "</tr>\n",
              "<tr>\n",
              "  <th>Date[T.Timestamp('2020-04-17 00:00:00')]</th> <td> 1767.0000</td> <td>      inf</td> <td>        0</td> <td>   nan</td> <td>      nan</td> <td>      nan</td>\n",
              "</tr>\n",
              "<tr>\n",
              "  <th>Date[T.Timestamp('2020-04-18 00:00:00')]</th> <td> 2015.0000</td> <td>      inf</td> <td>        0</td> <td>   nan</td> <td>      nan</td> <td>      nan</td>\n",
              "</tr>\n",
              "<tr>\n",
              "  <th>Date[T.Timestamp('2020-04-19 00:00:00')]</th> <td> 2302.0000</td> <td>      inf</td> <td>        0</td> <td>   nan</td> <td>      nan</td> <td>      nan</td>\n",
              "</tr>\n",
              "<tr>\n",
              "  <th>Date[T.Timestamp('2020-04-20 00:00:00')]</th> <td> 2842.0000</td> <td>      inf</td> <td>        0</td> <td>   nan</td> <td>      nan</td> <td>      nan</td>\n",
              "</tr>\n",
              "<tr>\n",
              "  <th>Date[T.Timestamp('2020-04-21 00:00:00')]</th> <td> 3260.0000</td> <td>      inf</td> <td>        0</td> <td>   nan</td> <td>      nan</td> <td>      nan</td>\n",
              "</tr>\n",
              "<tr>\n",
              "  <th>Date[T.Timestamp('2020-04-22 00:00:00')]</th> <td> 3960.0000</td> <td>      inf</td> <td>        0</td> <td>   nan</td> <td>      nan</td> <td>      nan</td>\n",
              "</tr>\n",
              "<tr>\n",
              "  <th>Date[T.Timestamp('2020-04-23 00:00:00')]</th> <td> 4325.0000</td> <td>      inf</td> <td>        0</td> <td>   nan</td> <td>      nan</td> <td>      nan</td>\n",
              "</tr>\n",
              "<tr>\n",
              "  <th>Date[T.Timestamp('2020-04-24 00:00:00')]</th> <td> 4814.0000</td> <td>      inf</td> <td>        0</td> <td>   nan</td> <td>      nan</td> <td>      nan</td>\n",
              "</tr>\n",
              "<tr>\n",
              "  <th>Date[T.Timestamp('2020-04-25 00:00:00')]</th> <td> 5210.0000</td> <td>      inf</td> <td>        0</td> <td>   nan</td> <td>      nan</td> <td>      nan</td>\n",
              "</tr>\n",
              "<tr>\n",
              "  <th>Date[T.Timestamp('2020-04-26 00:00:00')]</th> <td> 5914.0000</td> <td>      inf</td> <td>        0</td> <td>   nan</td> <td>      nan</td> <td>      nan</td>\n",
              "</tr>\n",
              "<tr>\n",
              "  <th>Date[T.Timestamp('2020-04-27 00:00:00')]</th> <td> 6362.0000</td> <td>      inf</td> <td>        0</td> <td>   nan</td> <td>      nan</td> <td>      nan</td>\n",
              "</tr>\n",
              "<tr>\n",
              "  <th>Date[T.Timestamp('2020-04-28 00:00:00')]</th> <td> 7027.0000</td> <td>      inf</td> <td>        0</td> <td>   nan</td> <td>      nan</td> <td>      nan</td>\n",
              "</tr>\n",
              "<tr>\n",
              "  <th>Date[T.Timestamp('2020-04-29 00:00:00')]</th> <td> 7797.0000</td> <td>      inf</td> <td>        0</td> <td>   nan</td> <td>      nan</td> <td>      nan</td>\n",
              "</tr>\n",
              "<tr>\n",
              "  <th>Date[T.Timestamp('2020-04-30 00:00:00')]</th> <td> 8373.0000</td> <td>      inf</td> <td>        0</td> <td>   nan</td> <td>      nan</td> <td>      nan</td>\n",
              "</tr>\n",
              "<tr>\n",
              "  <th>Date[T.Timestamp('2020-05-01 00:00:00')]</th> <td> 9065.0000</td> <td>      inf</td> <td>        0</td> <td>   nan</td> <td>      nan</td> <td>      nan</td>\n",
              "</tr>\n",
              "<tr>\n",
              "  <th>Date[T.Timestamp('2020-05-02 00:00:00')]</th> <td> 9951.0000</td> <td>      inf</td> <td>        0</td> <td>   nan</td> <td>      nan</td> <td>      nan</td>\n",
              "</tr>\n",
              "<tr>\n",
              "  <th>Date[T.Timestamp('2020-05-03 00:00:00')]</th> <td> 1.089e+04</td> <td>      inf</td> <td>        0</td> <td>   nan</td> <td>      nan</td> <td>      nan</td>\n",
              "</tr>\n",
              "<tr>\n",
              "  <th>Date[T.Timestamp('2020-05-04 00:00:00')]</th> <td> 1.176e+04</td> <td>      inf</td> <td>        0</td> <td>   nan</td> <td>      nan</td> <td>      nan</td>\n",
              "</tr>\n",
              "<tr>\n",
              "  <th>Date[T.Timestamp('2020-05-05 00:00:00')]</th> <td> 1.316e+04</td> <td>      inf</td> <td>        0</td> <td>   nan</td> <td>      nan</td> <td>      nan</td>\n",
              "</tr>\n",
              "<tr>\n",
              "  <th>Date[T.Timestamp('2020-05-06 00:00:00')]</th> <td> 1.418e+04</td> <td>      inf</td> <td>        0</td> <td>   nan</td> <td>      nan</td> <td>      nan</td>\n",
              "</tr>\n",
              "<tr>\n",
              "  <th>Date[T.Timestamp('2020-05-07 00:00:00')]</th> <td> 1.527e+04</td> <td>      inf</td> <td>        0</td> <td>   nan</td> <td>      nan</td> <td>      nan</td>\n",
              "</tr>\n",
              "<tr>\n",
              "  <th>Date[T.Timestamp('2020-05-08 00:00:00')]</th> <td> 1.654e+04</td> <td>      inf</td> <td>        0</td> <td>   nan</td> <td>      nan</td> <td>      nan</td>\n",
              "</tr>\n",
              "<tr>\n",
              "  <th>Date[T.Timestamp('2020-05-09 00:00:00')]</th> <td> 1.785e+04</td> <td>      inf</td> <td>        0</td> <td>   nan</td> <td>      nan</td> <td>      nan</td>\n",
              "</tr>\n",
              "<tr>\n",
              "  <th>Date[T.Timestamp('2020-05-10 00:00:00')]</th> <td> 1.936e+04</td> <td>      inf</td> <td>        0</td> <td>   nan</td> <td>      nan</td> <td>      nan</td>\n",
              "</tr>\n",
              "<tr>\n",
              "  <th>Date[T.Timestamp('2020-05-11 00:00:00')]</th> <td> 2.092e+04</td> <td>      inf</td> <td>        0</td> <td>   nan</td> <td>      nan</td> <td>      nan</td>\n",
              "</tr>\n",
              "<tr>\n",
              "  <th>Date[T.Timestamp('2020-05-12 00:00:00')]</th> <td> 2.245e+04</td> <td>      inf</td> <td>        0</td> <td>   nan</td> <td>      nan</td> <td>      nan</td>\n",
              "</tr>\n",
              "<tr>\n",
              "  <th>Date[T.Timestamp('2020-05-13 00:00:00')]</th> <td> 2.439e+04</td> <td>      inf</td> <td>        0</td> <td>   nan</td> <td>      nan</td> <td>      nan</td>\n",
              "</tr>\n",
              "<tr>\n",
              "  <th>Date[T.Timestamp('2020-05-14 00:00:00')]</th> <td> 2.624e+04</td> <td>      inf</td> <td>        0</td> <td>   nan</td> <td>      nan</td> <td>      nan</td>\n",
              "</tr>\n",
              "<tr>\n",
              "  <th>Date[T.Timestamp('2020-05-15 00:00:00')]</th> <td> 2.792e+04</td> <td>      inf</td> <td>        0</td> <td>   nan</td> <td>      nan</td> <td>      nan</td>\n",
              "</tr>\n",
              "<tr>\n",
              "  <th>Date[T.Timestamp('2020-05-16 00:00:00')]</th> <td> 3.015e+04</td> <td>      inf</td> <td>        0</td> <td>   nan</td> <td>      nan</td> <td>      nan</td>\n",
              "</tr>\n",
              "<tr>\n",
              "  <th>Date[T.Timestamp('2020-05-17 00:00:00')]</th> <td> 3.411e+04</td> <td>      inf</td> <td>        0</td> <td>   nan</td> <td>      nan</td> <td>      nan</td>\n",
              "</tr>\n",
              "<tr>\n",
              "  <th>Date[T.Timestamp('2020-05-18 00:00:00')]</th> <td> 3.682e+04</td> <td>      inf</td> <td>        0</td> <td>   nan</td> <td>      nan</td> <td>      nan</td>\n",
              "</tr>\n",
              "<tr>\n",
              "  <th>Date[T.Timestamp('2020-05-19 00:00:00')]</th> <td> 3.917e+04</td> <td>      inf</td> <td>        0</td> <td>   nan</td> <td>      nan</td> <td>      nan</td>\n",
              "</tr>\n",
              "<tr>\n",
              "  <th>Date[T.Timestamp('2020-05-20 00:00:00')]</th> <td>  4.23e+04</td> <td>      inf</td> <td>        0</td> <td>   nan</td> <td>      nan</td> <td>      nan</td>\n",
              "</tr>\n",
              "<tr>\n",
              "  <th>Date[T.Timestamp('2020-05-21 00:00:00')]</th> <td>  4.53e+04</td> <td>      inf</td> <td>        0</td> <td>   nan</td> <td>      nan</td> <td>      nan</td>\n",
              "</tr>\n",
              "<tr>\n",
              "  <th>Date[T.Timestamp('2020-05-22 00:00:00')]</th> <td> 4.853e+04</td> <td>      inf</td> <td>        0</td> <td>   nan</td> <td>      nan</td> <td>      nan</td>\n",
              "</tr>\n",
              "<tr>\n",
              "  <th>Date[T.Timestamp('2020-05-23 00:00:00')]</th> <td> 5.178e+04</td> <td>      inf</td> <td>        0</td> <td>   nan</td> <td>      nan</td> <td>      nan</td>\n",
              "</tr>\n",
              "<tr>\n",
              "  <th>Date[T.Timestamp('2020-05-24 00:00:00')]</th> <td> 5.444e+04</td> <td>      inf</td> <td>        0</td> <td>   nan</td> <td>      nan</td> <td>      nan</td>\n",
              "</tr>\n",
              "<tr>\n",
              "  <th>Date[T.Timestamp('2020-05-25 00:00:00')]</th> <td> 5.772e+04</td> <td>      inf</td> <td>        0</td> <td>   nan</td> <td>      nan</td> <td>      nan</td>\n",
              "</tr>\n",
              "<tr>\n",
              "  <th>Date[T.Timestamp('2020-05-26 00:00:00')]</th> <td> 6.049e+04</td> <td>      inf</td> <td>        0</td> <td>   nan</td> <td>      nan</td> <td>      nan</td>\n",
              "</tr>\n",
              "<tr>\n",
              "  <th>Date[T.Timestamp('2020-05-27 00:00:00')]</th> <td> 6.443e+04</td> <td>      inf</td> <td>        0</td> <td>   nan</td> <td>      nan</td> <td>      nan</td>\n",
              "</tr>\n",
              "<tr>\n",
              "  <th>Date[T.Timestamp('2020-05-28 00:00:00')]</th> <td> 6.769e+04</td> <td>      inf</td> <td>        0</td> <td>   nan</td> <td>      nan</td> <td>      nan</td>\n",
              "</tr>\n",
              "<tr>\n",
              "  <th>Date[T.Timestamp('2020-05-29 00:00:00')]</th> <td> 7.111e+04</td> <td>      inf</td> <td>        0</td> <td>   nan</td> <td>      nan</td> <td>      nan</td>\n",
              "</tr>\n",
              "<tr>\n",
              "  <th>Date[T.Timestamp('2020-05-30 00:00:00')]</th> <td> 8.237e+04</td> <td>      inf</td> <td>        0</td> <td>   nan</td> <td>      nan</td> <td>      nan</td>\n",
              "</tr>\n",
              "<tr>\n",
              "  <th>Date[T.Timestamp('2020-05-31 00:00:00')]</th> <td> 8.698e+04</td> <td>      inf</td> <td>        0</td> <td>   nan</td> <td>      nan</td> <td>      nan</td>\n",
              "</tr>\n",
              "<tr>\n",
              "  <th>Date[T.Timestamp('2020-06-01 00:00:00')]</th> <td> 9.182e+04</td> <td>      inf</td> <td>        0</td> <td>   nan</td> <td>      nan</td> <td>      nan</td>\n",
              "</tr>\n",
              "<tr>\n",
              "  <th>Date[T.Timestamp('2020-06-02 00:00:00')]</th> <td> 9.553e+04</td> <td>      inf</td> <td>        0</td> <td>   nan</td> <td>      nan</td> <td>      nan</td>\n",
              "</tr>\n",
              "<tr>\n",
              "  <th>Date[T.Timestamp('2020-06-03 00:00:00')]</th> <td> 1.003e+05</td> <td>      inf</td> <td>        0</td> <td>   nan</td> <td>      nan</td> <td>      nan</td>\n",
              "</tr>\n",
              "<tr>\n",
              "  <th>Date[T.Timestamp('2020-06-04 00:00:00')]</th> <td> 1.041e+05</td> <td>      inf</td> <td>        0</td> <td>   nan</td> <td>      nan</td> <td>      nan</td>\n",
              "</tr>\n",
              "<tr>\n",
              "  <th>Date[T.Timestamp('2020-06-05 00:00:00')]</th> <td> 1.095e+05</td> <td>      inf</td> <td>        0</td> <td>   nan</td> <td>      nan</td> <td>      nan</td>\n",
              "</tr>\n",
              "<tr>\n",
              "  <th>Date[T.Timestamp('2020-06-06 00:00:00')]</th> <td> 1.141e+05</td> <td>      inf</td> <td>        0</td> <td>   nan</td> <td>      nan</td> <td>      nan</td>\n",
              "</tr>\n",
              "<tr>\n",
              "  <th>Date[T.Timestamp('2020-06-07 00:00:00')]</th> <td> 1.193e+05</td> <td>      inf</td> <td>        0</td> <td>   nan</td> <td>      nan</td> <td>      nan</td>\n",
              "</tr>\n",
              "<tr>\n",
              "  <th>Date[T.Timestamp('2020-06-08 00:00:00')]</th> <td> 1.241e+05</td> <td>      inf</td> <td>        0</td> <td>   nan</td> <td>      nan</td> <td>      nan</td>\n",
              "</tr>\n",
              "<tr>\n",
              "  <th>Date[T.Timestamp('2020-06-09 00:00:00')]</th> <td> 1.292e+05</td> <td>      inf</td> <td>        0</td> <td>   nan</td> <td>      nan</td> <td>      nan</td>\n",
              "</tr>\n",
              "<tr>\n",
              "  <th>Date[T.Timestamp('2020-06-10 00:00:00')]</th> <td> 1.352e+05</td> <td>      inf</td> <td>        0</td> <td>   nan</td> <td>      nan</td> <td>      nan</td>\n",
              "</tr>\n",
              "<tr>\n",
              "  <th>Date[T.Timestamp('2020-06-11 00:00:00')]</th> <td>  1.41e+05</td> <td>      inf</td> <td>        0</td> <td>   nan</td> <td>      nan</td> <td>      nan</td>\n",
              "</tr>\n",
              "<tr>\n",
              "  <th>Date[T.Timestamp('2020-06-12 00:00:00')]</th> <td> 1.472e+05</td> <td>      inf</td> <td>        0</td> <td>   nan</td> <td>      nan</td> <td>      nan</td>\n",
              "</tr>\n",
              "<tr>\n",
              "  <th>Date[T.Timestamp('2020-06-13 00:00:00')]</th> <td> 1.543e+05</td> <td>      inf</td> <td>        0</td> <td>   nan</td> <td>      nan</td> <td>      nan</td>\n",
              "</tr>\n",
              "<tr>\n",
              "  <th>Date[T.Timestamp('2020-06-14 00:00:00')]</th> <td> 1.624e+05</td> <td>      inf</td> <td>        0</td> <td>   nan</td> <td>      nan</td> <td>      nan</td>\n",
              "</tr>\n",
              "<tr>\n",
              "  <th>Date[T.Timestamp('2020-06-15 00:00:00')]</th> <td> 1.698e+05</td> <td>      inf</td> <td>        0</td> <td>   nan</td> <td>      nan</td> <td>      nan</td>\n",
              "</tr>\n",
              "<tr>\n",
              "  <th>Date[T.Timestamp('2020-06-16 00:00:00')]</th> <td>   1.8e+05</td> <td>      inf</td> <td>        0</td> <td>   nan</td> <td>      nan</td> <td>      nan</td>\n",
              "</tr>\n",
              "<tr>\n",
              "  <th>Date[T.Timestamp('2020-06-17 00:00:00')]</th> <td> 1.869e+05</td> <td>      inf</td> <td>        0</td> <td>   nan</td> <td>      nan</td> <td>      nan</td>\n",
              "</tr>\n",
              "<tr>\n",
              "  <th>Date[T.Timestamp('2020-06-18 00:00:00')]</th> <td> 1.943e+05</td> <td>      inf</td> <td>        0</td> <td>   nan</td> <td>      nan</td> <td>      nan</td>\n",
              "</tr>\n",
              "<tr>\n",
              "  <th>Date[T.Timestamp('2020-06-19 00:00:00')]</th> <td> 2.047e+05</td> <td>      inf</td> <td>        0</td> <td>   nan</td> <td>      nan</td> <td>      nan</td>\n",
              "</tr>\n",
              "<tr>\n",
              "  <th>Date[T.Timestamp('2020-06-20 00:00:00')]</th> <td> 2.138e+05</td> <td>      inf</td> <td>        0</td> <td>   nan</td> <td>      nan</td> <td>      nan</td>\n",
              "</tr>\n",
              "<tr>\n",
              "  <th>Date[T.Timestamp('2020-06-21 00:00:00')]</th> <td>  4.65e+05</td> <td>      inf</td> <td>        0</td> <td>   nan</td> <td>      nan</td> <td>      nan</td>\n",
              "</tr>\n",
              "<tr>\n",
              "  <th>Date[T.Timestamp('2020-06-22 00:00:00')]</th> <td> 2.482e+05</td> <td>      inf</td> <td>        0</td> <td>   nan</td> <td>      nan</td> <td>      nan</td>\n",
              "</tr>\n",
              "</table>\n",
              "<table class=\"simpletable\">\n",
              "<tr>\n",
              "  <th>Omnibus:</th>       <td>30.126</td> <th>  Durbin-Watson:     </th> <td>   2.758</td>\n",
              "</tr>\n",
              "<tr>\n",
              "  <th>Prob(Omnibus):</th> <td> 0.000</td> <th>  Jarque-Bera (JB):  </th> <td> 229.061</td>\n",
              "</tr>\n",
              "<tr>\n",
              "  <th>Skew:</th>          <td> 0.315</td> <th>  Prob(JB):          </th> <td>1.82e-50</td>\n",
              "</tr>\n",
              "<tr>\n",
              "  <th>Kurtosis:</th>      <td> 9.125</td> <th>  Cond. No.          </th> <td>    146.</td>\n",
              "</tr>\n",
              "</table><br/><br/>Warnings:<br/>[1] Standard Errors assume that the covariance matrix of the errors is correctly specified."
            ],
            "text/plain": [
              "<class 'statsmodels.iolib.summary.Summary'>\n",
              "\"\"\"\n",
              "                            OLS Regression Results                            \n",
              "==============================================================================\n",
              "Dep. Variable:                  Cured   R-squared:                       1.000\n",
              "Model:                            OLS   Adj. R-squared:                    nan\n",
              "Method:                 Least Squares   F-statistic:                     0.000\n",
              "Date:                Fri, 09 Oct 2020   Prob (F-statistic):                nan\n",
              "Time:                        19:09:40   Log-Likelihood:                 3031.6\n",
              "No. Observations:                 145   AIC:                            -5773.\n",
              "Df Residuals:                       0   BIC:                            -5342.\n",
              "Df Model:                         144                                         \n",
              "Covariance Type:            nonrobust                                         \n",
              "============================================================================================================\n",
              "                                               coef    std err          t      P>|t|      [0.025      0.975]\n",
              "------------------------------------------------------------------------------------------------------------\n",
              "Intercept                                -4.388e-11        inf         -0        nan         nan         nan\n",
              "Date[T.Timestamp('2020-01-31 00:00:00')]   5.51e-10        inf          0        nan         nan         nan\n",
              "Date[T.Timestamp('2020-02-01 00:00:00')] -5.844e-10        inf         -0        nan         nan         nan\n",
              "Date[T.Timestamp('2020-02-02 00:00:00')] -7.082e-11        inf         -0        nan         nan         nan\n",
              "Date[T.Timestamp('2020-02-03 00:00:00')]  3.384e-10        inf          0        nan         nan         nan\n",
              "Date[T.Timestamp('2020-02-04 00:00:00')] -4.623e-10        inf         -0        nan         nan         nan\n",
              "Date[T.Timestamp('2020-02-05 00:00:00')]  4.133e-10        inf          0        nan         nan         nan\n",
              "Date[T.Timestamp('2020-02-06 00:00:00')]  2.121e-10        inf          0        nan         nan         nan\n",
              "Date[T.Timestamp('2020-02-07 00:00:00')] -2.515e-10        inf         -0        nan         nan         nan\n",
              "Date[T.Timestamp('2020-02-08 00:00:00')] -4.857e-10        inf         -0        nan         nan         nan\n",
              "Date[T.Timestamp('2020-02-09 00:00:00')]  4.631e-11        inf          0        nan         nan         nan\n",
              "Date[T.Timestamp('2020-02-10 00:00:00')] -3.681e-10        inf         -0        nan         nan         nan\n",
              "Date[T.Timestamp('2020-02-11 00:00:00')] -1.738e-10        inf         -0        nan         nan         nan\n",
              "Date[T.Timestamp('2020-02-12 00:00:00')]  5.592e-10        inf          0        nan         nan         nan\n",
              "Date[T.Timestamp('2020-02-13 00:00:00')] -8.323e-10        inf         -0        nan         nan         nan\n",
              "Date[T.Timestamp('2020-02-14 00:00:00')]  3.116e-10        inf          0        nan         nan         nan\n",
              "Date[T.Timestamp('2020-02-15 00:00:00')]  6.915e-10        inf          0        nan         nan         nan\n",
              "Date[T.Timestamp('2020-02-16 00:00:00')] -1.321e-10        inf         -0        nan         nan         nan\n",
              "Date[T.Timestamp('2020-02-17 00:00:00')] -3.892e-10        inf         -0        nan         nan         nan\n",
              "Date[T.Timestamp('2020-02-18 00:00:00')]  1.959e-10        inf          0        nan         nan         nan\n",
              "Date[T.Timestamp('2020-02-19 00:00:00')] -1.009e-10        inf         -0        nan         nan         nan\n",
              "Date[T.Timestamp('2020-02-20 00:00:00')]  9.556e-11        inf          0        nan         nan         nan\n",
              "Date[T.Timestamp('2020-02-21 00:00:00')]  4.839e-11        inf          0        nan         nan         nan\n",
              "Date[T.Timestamp('2020-02-22 00:00:00')]  8.834e-11        inf          0        nan         nan         nan\n",
              "Date[T.Timestamp('2020-02-23 00:00:00')]  3.314e-10        inf          0        nan         nan         nan\n",
              "Date[T.Timestamp('2020-02-24 00:00:00')]  8.654e-11        inf          0        nan         nan         nan\n",
              "Date[T.Timestamp('2020-02-25 00:00:00')]   5.06e-11        inf          0        nan         nan         nan\n",
              "Date[T.Timestamp('2020-02-26 00:00:00')] -5.036e-10        inf         -0        nan         nan         nan\n",
              "Date[T.Timestamp('2020-02-27 00:00:00')]  8.967e-10        inf          0        nan         nan         nan\n",
              "Date[T.Timestamp('2020-02-28 00:00:00')] -5.588e-10        inf         -0        nan         nan         nan\n",
              "Date[T.Timestamp('2020-02-29 00:00:00')]  1.251e-10        inf          0        nan         nan         nan\n",
              "Date[T.Timestamp('2020-03-01 00:00:00')] -1.103e-10        inf         -0        nan         nan         nan\n",
              "Date[T.Timestamp('2020-03-02 00:00:00')]  5.396e-10        inf          0        nan         nan         nan\n",
              "Date[T.Timestamp('2020-03-03 00:00:00')]     3.0000        inf          0        nan         nan         nan\n",
              "Date[T.Timestamp('2020-03-04 00:00:00')]     3.0000        inf          0        nan         nan         nan\n",
              "Date[T.Timestamp('2020-03-05 00:00:00')]     3.0000        inf          0        nan         nan         nan\n",
              "Date[T.Timestamp('2020-03-06 00:00:00')]     3.0000        inf          0        nan         nan         nan\n",
              "Date[T.Timestamp('2020-03-07 00:00:00')]     3.0000        inf          0        nan         nan         nan\n",
              "Date[T.Timestamp('2020-03-08 00:00:00')]     3.0000        inf          0        nan         nan         nan\n",
              "Date[T.Timestamp('2020-03-09 00:00:00')]     3.0000        inf          0        nan         nan         nan\n",
              "Date[T.Timestamp('2020-03-10 00:00:00')]     3.0000        inf          0        nan         nan         nan\n",
              "Date[T.Timestamp('2020-03-11 00:00:00')]     3.0000        inf          0        nan         nan         nan\n",
              "Date[T.Timestamp('2020-03-12 00:00:00')]     3.0000        inf          0        nan         nan         nan\n",
              "Date[T.Timestamp('2020-03-13 00:00:00')]     3.0000        inf          0        nan         nan         nan\n",
              "Date[T.Timestamp('2020-03-14 00:00:00')]    10.0000        inf          0        nan         nan         nan\n",
              "Date[T.Timestamp('2020-03-15 00:00:00')]    13.0000        inf          0        nan         nan         nan\n",
              "Date[T.Timestamp('2020-03-16 00:00:00')]    13.0000        inf          0        nan         nan         nan\n",
              "Date[T.Timestamp('2020-03-17 00:00:00')]    14.0000        inf          0        nan         nan         nan\n",
              "Date[T.Timestamp('2020-03-18 00:00:00')]    14.0000        inf          0        nan         nan         nan\n",
              "Date[T.Timestamp('2020-03-19 00:00:00')]    20.0000        inf          0        nan         nan         nan\n",
              "Date[T.Timestamp('2020-03-20 00:00:00')]    23.0000        inf          0        nan         nan         nan\n",
              "Date[T.Timestamp('2020-03-21 00:00:00')]    23.0000        inf          0        nan         nan         nan\n",
              "Date[T.Timestamp('2020-03-22 00:00:00')]    24.0000        inf          0        nan         nan         nan\n",
              "Date[T.Timestamp('2020-03-23 00:00:00')]    24.0000        inf          0        nan         nan         nan\n",
              "Date[T.Timestamp('2020-03-24 00:00:00')]    40.0000        inf          0        nan         nan         nan\n",
              "Date[T.Timestamp('2020-03-25 00:00:00')]    43.0000        inf          0        nan         nan         nan\n",
              "Date[T.Timestamp('2020-03-26 00:00:00')]    45.0000        inf          0        nan         nan         nan\n",
              "Date[T.Timestamp('2020-03-27 00:00:00')]    67.0000        inf          0        nan         nan         nan\n",
              "Date[T.Timestamp('2020-03-28 00:00:00')]    80.0000        inf          0        nan         nan         nan\n",
              "Date[T.Timestamp('2020-03-29 00:00:00')]    96.0000        inf          0        nan         nan         nan\n",
              "Date[T.Timestamp('2020-03-30 00:00:00')]   102.0000        inf          0        nan         nan         nan\n",
              "Date[T.Timestamp('2020-03-31 00:00:00')]   124.0000        inf          0        nan         nan         nan\n",
              "Date[T.Timestamp('2020-04-01 00:00:00')]   144.0000        inf          0        nan         nan         nan\n",
              "Date[T.Timestamp('2020-04-02 00:00:00')]   156.0000        inf          0        nan         nan         nan\n",
              "Date[T.Timestamp('2020-04-03 00:00:00')]   163.0000        inf          0        nan         nan         nan\n",
              "Date[T.Timestamp('2020-04-04 00:00:00')]   213.0000        inf          0        nan         nan         nan\n",
              "Date[T.Timestamp('2020-04-05 00:00:00')]   275.0000        inf          0        nan         nan         nan\n",
              "Date[T.Timestamp('2020-04-06 00:00:00')]   319.0000        inf          0        nan         nan         nan\n",
              "Date[T.Timestamp('2020-04-07 00:00:00')]   353.0000        inf          0        nan         nan         nan\n",
              "Date[T.Timestamp('2020-04-08 00:00:00')]   411.0000        inf          0        nan         nan         nan\n",
              "Date[T.Timestamp('2020-04-09 00:00:00')]   478.0000        inf          0        nan         nan         nan\n",
              "Date[T.Timestamp('2020-04-10 00:00:00')]   516.0000        inf          0        nan         nan         nan\n",
              "Date[T.Timestamp('2020-04-11 00:00:00')]   653.0000        inf          0        nan         nan         nan\n",
              "Date[T.Timestamp('2020-04-12 00:00:00')]   765.0000        inf          0        nan         nan         nan\n",
              "Date[T.Timestamp('2020-04-13 00:00:00')]   980.0000        inf          0        nan         nan         nan\n",
              "Date[T.Timestamp('2020-04-14 00:00:00')]  1190.0000        inf          0        nan         nan         nan\n",
              "Date[T.Timestamp('2020-04-15 00:00:00')]  1344.0000        inf          0        nan         nan         nan\n",
              "Date[T.Timestamp('2020-04-16 00:00:00')]  1515.0000        inf          0        nan         nan         nan\n",
              "Date[T.Timestamp('2020-04-17 00:00:00')]  1767.0000        inf          0        nan         nan         nan\n",
              "Date[T.Timestamp('2020-04-18 00:00:00')]  2015.0000        inf          0        nan         nan         nan\n",
              "Date[T.Timestamp('2020-04-19 00:00:00')]  2302.0000        inf          0        nan         nan         nan\n",
              "Date[T.Timestamp('2020-04-20 00:00:00')]  2842.0000        inf          0        nan         nan         nan\n",
              "Date[T.Timestamp('2020-04-21 00:00:00')]  3260.0000        inf          0        nan         nan         nan\n",
              "Date[T.Timestamp('2020-04-22 00:00:00')]  3960.0000        inf          0        nan         nan         nan\n",
              "Date[T.Timestamp('2020-04-23 00:00:00')]  4325.0000        inf          0        nan         nan         nan\n",
              "Date[T.Timestamp('2020-04-24 00:00:00')]  4814.0000        inf          0        nan         nan         nan\n",
              "Date[T.Timestamp('2020-04-25 00:00:00')]  5210.0000        inf          0        nan         nan         nan\n",
              "Date[T.Timestamp('2020-04-26 00:00:00')]  5914.0000        inf          0        nan         nan         nan\n",
              "Date[T.Timestamp('2020-04-27 00:00:00')]  6362.0000        inf          0        nan         nan         nan\n",
              "Date[T.Timestamp('2020-04-28 00:00:00')]  7027.0000        inf          0        nan         nan         nan\n",
              "Date[T.Timestamp('2020-04-29 00:00:00')]  7797.0000        inf          0        nan         nan         nan\n",
              "Date[T.Timestamp('2020-04-30 00:00:00')]  8373.0000        inf          0        nan         nan         nan\n",
              "Date[T.Timestamp('2020-05-01 00:00:00')]  9065.0000        inf          0        nan         nan         nan\n",
              "Date[T.Timestamp('2020-05-02 00:00:00')]  9951.0000        inf          0        nan         nan         nan\n",
              "Date[T.Timestamp('2020-05-03 00:00:00')]  1.089e+04        inf          0        nan         nan         nan\n",
              "Date[T.Timestamp('2020-05-04 00:00:00')]  1.176e+04        inf          0        nan         nan         nan\n",
              "Date[T.Timestamp('2020-05-05 00:00:00')]  1.316e+04        inf          0        nan         nan         nan\n",
              "Date[T.Timestamp('2020-05-06 00:00:00')]  1.418e+04        inf          0        nan         nan         nan\n",
              "Date[T.Timestamp('2020-05-07 00:00:00')]  1.527e+04        inf          0        nan         nan         nan\n",
              "Date[T.Timestamp('2020-05-08 00:00:00')]  1.654e+04        inf          0        nan         nan         nan\n",
              "Date[T.Timestamp('2020-05-09 00:00:00')]  1.785e+04        inf          0        nan         nan         nan\n",
              "Date[T.Timestamp('2020-05-10 00:00:00')]  1.936e+04        inf          0        nan         nan         nan\n",
              "Date[T.Timestamp('2020-05-11 00:00:00')]  2.092e+04        inf          0        nan         nan         nan\n",
              "Date[T.Timestamp('2020-05-12 00:00:00')]  2.245e+04        inf          0        nan         nan         nan\n",
              "Date[T.Timestamp('2020-05-13 00:00:00')]  2.439e+04        inf          0        nan         nan         nan\n",
              "Date[T.Timestamp('2020-05-14 00:00:00')]  2.624e+04        inf          0        nan         nan         nan\n",
              "Date[T.Timestamp('2020-05-15 00:00:00')]  2.792e+04        inf          0        nan         nan         nan\n",
              "Date[T.Timestamp('2020-05-16 00:00:00')]  3.015e+04        inf          0        nan         nan         nan\n",
              "Date[T.Timestamp('2020-05-17 00:00:00')]  3.411e+04        inf          0        nan         nan         nan\n",
              "Date[T.Timestamp('2020-05-18 00:00:00')]  3.682e+04        inf          0        nan         nan         nan\n",
              "Date[T.Timestamp('2020-05-19 00:00:00')]  3.917e+04        inf          0        nan         nan         nan\n",
              "Date[T.Timestamp('2020-05-20 00:00:00')]   4.23e+04        inf          0        nan         nan         nan\n",
              "Date[T.Timestamp('2020-05-21 00:00:00')]   4.53e+04        inf          0        nan         nan         nan\n",
              "Date[T.Timestamp('2020-05-22 00:00:00')]  4.853e+04        inf          0        nan         nan         nan\n",
              "Date[T.Timestamp('2020-05-23 00:00:00')]  5.178e+04        inf          0        nan         nan         nan\n",
              "Date[T.Timestamp('2020-05-24 00:00:00')]  5.444e+04        inf          0        nan         nan         nan\n",
              "Date[T.Timestamp('2020-05-25 00:00:00')]  5.772e+04        inf          0        nan         nan         nan\n",
              "Date[T.Timestamp('2020-05-26 00:00:00')]  6.049e+04        inf          0        nan         nan         nan\n",
              "Date[T.Timestamp('2020-05-27 00:00:00')]  6.443e+04        inf          0        nan         nan         nan\n",
              "Date[T.Timestamp('2020-05-28 00:00:00')]  6.769e+04        inf          0        nan         nan         nan\n",
              "Date[T.Timestamp('2020-05-29 00:00:00')]  7.111e+04        inf          0        nan         nan         nan\n",
              "Date[T.Timestamp('2020-05-30 00:00:00')]  8.237e+04        inf          0        nan         nan         nan\n",
              "Date[T.Timestamp('2020-05-31 00:00:00')]  8.698e+04        inf          0        nan         nan         nan\n",
              "Date[T.Timestamp('2020-06-01 00:00:00')]  9.182e+04        inf          0        nan         nan         nan\n",
              "Date[T.Timestamp('2020-06-02 00:00:00')]  9.553e+04        inf          0        nan         nan         nan\n",
              "Date[T.Timestamp('2020-06-03 00:00:00')]  1.003e+05        inf          0        nan         nan         nan\n",
              "Date[T.Timestamp('2020-06-04 00:00:00')]  1.041e+05        inf          0        nan         nan         nan\n",
              "Date[T.Timestamp('2020-06-05 00:00:00')]  1.095e+05        inf          0        nan         nan         nan\n",
              "Date[T.Timestamp('2020-06-06 00:00:00')]  1.141e+05        inf          0        nan         nan         nan\n",
              "Date[T.Timestamp('2020-06-07 00:00:00')]  1.193e+05        inf          0        nan         nan         nan\n",
              "Date[T.Timestamp('2020-06-08 00:00:00')]  1.241e+05        inf          0        nan         nan         nan\n",
              "Date[T.Timestamp('2020-06-09 00:00:00')]  1.292e+05        inf          0        nan         nan         nan\n",
              "Date[T.Timestamp('2020-06-10 00:00:00')]  1.352e+05        inf          0        nan         nan         nan\n",
              "Date[T.Timestamp('2020-06-11 00:00:00')]   1.41e+05        inf          0        nan         nan         nan\n",
              "Date[T.Timestamp('2020-06-12 00:00:00')]  1.472e+05        inf          0        nan         nan         nan\n",
              "Date[T.Timestamp('2020-06-13 00:00:00')]  1.543e+05        inf          0        nan         nan         nan\n",
              "Date[T.Timestamp('2020-06-14 00:00:00')]  1.624e+05        inf          0        nan         nan         nan\n",
              "Date[T.Timestamp('2020-06-15 00:00:00')]  1.698e+05        inf          0        nan         nan         nan\n",
              "Date[T.Timestamp('2020-06-16 00:00:00')]    1.8e+05        inf          0        nan         nan         nan\n",
              "Date[T.Timestamp('2020-06-17 00:00:00')]  1.869e+05        inf          0        nan         nan         nan\n",
              "Date[T.Timestamp('2020-06-18 00:00:00')]  1.943e+05        inf          0        nan         nan         nan\n",
              "Date[T.Timestamp('2020-06-19 00:00:00')]  2.047e+05        inf          0        nan         nan         nan\n",
              "Date[T.Timestamp('2020-06-20 00:00:00')]  2.138e+05        inf          0        nan         nan         nan\n",
              "Date[T.Timestamp('2020-06-21 00:00:00')]   4.65e+05        inf          0        nan         nan         nan\n",
              "Date[T.Timestamp('2020-06-22 00:00:00')]  2.482e+05        inf          0        nan         nan         nan\n",
              "==============================================================================\n",
              "Omnibus:                       30.126   Durbin-Watson:                   2.758\n",
              "Prob(Omnibus):                  0.000   Jarque-Bera (JB):              229.061\n",
              "Skew:                           0.315   Prob(JB):                     1.82e-50\n",
              "Kurtosis:                       9.125   Cond. No.                         146.\n",
              "==============================================================================\n",
              "\n",
              "Warnings:\n",
              "[1] Standard Errors assume that the covariance matrix of the errors is correctly specified.\n",
              "\"\"\""
            ]
          },
          "metadata": {
            "tags": []
          },
          "execution_count": 49
        }
      ]
    },
    {
      "cell_type": "markdown",
      "metadata": {
        "id": "a-_7ru8_xJDL"
      },
      "source": [
        "Here The R-sqaure value is turned out to aprox 1"
      ]
    },
    {
      "cell_type": "code",
      "metadata": {
        "id": "zyfzxLOcN6t2"
      },
      "source": [
        "import numpy as np\n",
        "import matplotlib.pyplot as plt\n",
        "from scipy.integrate import odeint\n",
        "import matplotlib.colors as mcolors\n",
        "import pandas as pd \n",
        "import random\n",
        "import math\n",
        "import time\n",
        "import requests\n",
        "import bs4\n",
        "import lxml.etree as xml\n",
        "from bs4 import BeautifulSoup\n",
        "import csv, json, requests, sys\n",
        "from pandas.io.html import read_html\n",
        "from matplotlib.ticker import ScalarFormatter"
      ],
      "execution_count": null,
      "outputs": []
    },
    {
      "cell_type": "code",
      "metadata": {
        "id": "GmjfjNBqRHat",
        "outputId": "ee2deda4-5e29-4b14-99f2-399d49596098",
        "colab": {
          "base_uri": "https://localhost:8080/",
          "height": 375
        }
      },
      "source": [
        "!pip install lmfit"
      ],
      "execution_count": null,
      "outputs": [
        {
          "output_type": "stream",
          "text": [
            "Collecting lmfit\n",
            "\u001b[?25l  Downloading https://files.pythonhosted.org/packages/d1/2e/9e4cdcebf93603ce57bc7577707ad56ed1282ae306f611e525612b9cfeea/lmfit-1.0.1.tar.gz (258kB)\n",
            "\u001b[K     |████████████████████████████████| 266kB 2.8MB/s \n",
            "\u001b[?25hCollecting asteval>=0.9.16\n",
            "\u001b[?25l  Downloading https://files.pythonhosted.org/packages/4d/35/140edd280047b77aef487a8840c0f60372ab15210eb8064e5de9b832730c/asteval-0.9.19.tar.gz (207kB)\n",
            "\u001b[K     |████████████████████████████████| 215kB 8.9MB/s \n",
            "\u001b[?25hRequirement already satisfied: numpy>=1.16 in /usr/local/lib/python3.6/dist-packages (from lmfit) (1.18.5)\n",
            "Requirement already satisfied: scipy>=1.2 in /usr/local/lib/python3.6/dist-packages (from lmfit) (1.4.1)\n",
            "Collecting uncertainties>=3.0.1\n",
            "\u001b[?25l  Downloading https://files.pythonhosted.org/packages/b0/e0/fc200da8190729dcb685ae4877ed6936d31d64aeccb8cc355d9ec982681d/uncertainties-3.1.4-py2.py3-none-any.whl (246kB)\n",
            "\u001b[K     |████████████████████████████████| 256kB 11.4MB/s \n",
            "\u001b[?25hRequirement already satisfied: future in /usr/local/lib/python3.6/dist-packages (from uncertainties>=3.0.1->lmfit) (0.16.0)\n",
            "Building wheels for collected packages: lmfit, asteval\n",
            "  Building wheel for lmfit (setup.py) ... \u001b[?25l\u001b[?25hdone\n",
            "  Created wheel for lmfit: filename=lmfit-1.0.1-cp36-none-any.whl size=81991 sha256=07aaf1fce80b05028806f0c37a4b97670d0304b989109b265c24e86f39615792\n",
            "  Stored in directory: /root/.cache/pip/wheels/ef/22/8d/6cd9c0af36f501cfb248673b05dad5d2c27504951d55519acb\n",
            "  Building wheel for asteval (setup.py) ... \u001b[?25l\u001b[?25hdone\n",
            "  Created wheel for asteval: filename=asteval-0.9.19-cp36-none-any.whl size=17486 sha256=9486826f2cc0799ceada94543bd388e80011dc9583908d8c1ac4938df9a6b2fc\n",
            "  Stored in directory: /root/.cache/pip/wheels/59/da/bf/62853db4291f1c5f91326e32e4d1766b8cfcccd1c0e6eaf53f\n",
            "Successfully built lmfit asteval\n",
            "Installing collected packages: asteval, uncertainties, lmfit\n",
            "Successfully installed asteval-0.9.19 lmfit-1.0.1 uncertainties-3.1.4\n"
          ],
          "name": "stdout"
        }
      ]
    },
    {
      "cell_type": "code",
      "metadata": {
        "id": "Ow6XMU8yRRUU"
      },
      "source": [
        "from scipy.integrate import odeint\n",
        "import seaborn as sns\n",
        "import matplotlib.dates as mdates\n",
        "from matplotlib import dates\n",
        "from sklearn.metrics import mean_squared_error, r2_score\n",
        "from datetime import datetime\n",
        "from lmfit import minimize, Parameters, Parameter, report_fit"
      ],
      "execution_count": null,
      "outputs": []
    },
    {
      "cell_type": "code",
      "metadata": {
        "id": "cadFgGFZJzpQ"
      },
      "source": [
        "from sklearn.metrics import r2_score"
      ],
      "execution_count": null,
      "outputs": []
    },
    {
      "cell_type": "markdown",
      "metadata": {
        "id": "tk9K3Y6ClqUV"
      },
      "source": [
        "In general function to plot graphs"
      ]
    },
    {
      "cell_type": "code",
      "metadata": {
        "id": "SbRD7ZyIXL70"
      },
      "source": [
        "def line_plot(df, title, xlabel=None, ylabel=\"Cases\", h=None, v=None,\n",
        "              xlim=(None, None), ylim=(0, None), math_scale=True, y_logscale=False, y_integer=False):\n",
        "\n",
        "    ax = df.plot()\n",
        "    if math_scale:\n",
        "        ax.yaxis.set_major_formatter(ScalarFormatter(useMathText=True))\n",
        "        ax.ticklabel_format(style=\"sci\",  axis=\"y\",scilimits=(0, 0))\n",
        "    if y_logscale:\n",
        "        ax.set_yscale(\"log\")\n",
        "    if y_integer:\n",
        "        fmt = matplotlib.ticker.ScalarFormatter(useOffset=False)\n",
        "        fmt.set_scientific(False)\n",
        "        ax.yaxis.set_major_formatter(fmt)\n",
        "    ax.set_title(title)\n",
        "    ax.set_xlabel(xlabel)\n",
        "    ax.set_ylabel(ylabel)\n",
        "    ax.set_xlim(*xlim)\n",
        "    ax.set_ylim(*ylim)\n",
        "    ax.legend(bbox_to_anchor=(1.02, 0), loc=\"lower left\", borderaxespad=0)\n",
        "    if h is not None:\n",
        "        ax.axhline(y=h, color=\"black\", linestyle=\"--\")\n",
        "    if v is not None:\n",
        "        if not isinstance(v, list):\n",
        "            v = [v]\n",
        "        for value in v:\n",
        "            ax.axvline(x=value, color=\"black\", linestyle=\"--\")\n",
        "    plt.tight_layout()\n",
        "    plt.show()"
      ],
      "execution_count": null,
      "outputs": []
    },
    {
      "cell_type": "markdown",
      "metadata": {
        "id": "PQ784KvFlxWl"
      },
      "source": [
        "Data Scrapping from Wikipedia"
      ]
    },
    {
      "cell_type": "code",
      "metadata": {
        "id": "_o5NjO7HOCCL",
        "outputId": "6365f3b1-72ea-417a-9d74-4d8a9a4a1c25",
        "colab": {
          "base_uri": "https://localhost:8080/",
          "height": 345
        }
      },
      "source": [
        "url  ='https://en.wikipedia.org/wiki/2020_coronavirus_pandemic_in_India'\n",
        "content = requests.get(url)\n",
        "soup = BeautifulSoup(content.content, 'lxml')\n",
        "record = read_html(url,  attrs={\"class\":\"wikitable mw-collapsible\"})\n",
        "main = pd.DataFrame(record[0])"
      ],
      "execution_count": null,
      "outputs": [
        {
          "output_type": "error",
          "ename": "ValueError",
          "evalue": "ignored",
          "traceback": [
            "\u001b[0;31m---------------------------------------------------------------------------\u001b[0m",
            "\u001b[0;31mValueError\u001b[0m                                Traceback (most recent call last)",
            "\u001b[0;32m<ipython-input-6-dbaf44a6a4e0>\u001b[0m in \u001b[0;36m<module>\u001b[0;34m()\u001b[0m\n\u001b[1;32m      2\u001b[0m \u001b[0mcontent\u001b[0m \u001b[0;34m=\u001b[0m \u001b[0mrequests\u001b[0m\u001b[0;34m.\u001b[0m\u001b[0mget\u001b[0m\u001b[0;34m(\u001b[0m\u001b[0murl\u001b[0m\u001b[0;34m)\u001b[0m\u001b[0;34m\u001b[0m\u001b[0;34m\u001b[0m\u001b[0m\n\u001b[1;32m      3\u001b[0m \u001b[0msoup\u001b[0m \u001b[0;34m=\u001b[0m \u001b[0mBeautifulSoup\u001b[0m\u001b[0;34m(\u001b[0m\u001b[0mcontent\u001b[0m\u001b[0;34m.\u001b[0m\u001b[0mcontent\u001b[0m\u001b[0;34m,\u001b[0m \u001b[0;34m'lxml'\u001b[0m\u001b[0;34m)\u001b[0m\u001b[0;34m\u001b[0m\u001b[0;34m\u001b[0m\u001b[0m\n\u001b[0;32m----> 4\u001b[0;31m \u001b[0mrecord\u001b[0m \u001b[0;34m=\u001b[0m \u001b[0mread_html\u001b[0m\u001b[0;34m(\u001b[0m\u001b[0murl\u001b[0m\u001b[0;34m,\u001b[0m  \u001b[0mattrs\u001b[0m\u001b[0;34m=\u001b[0m\u001b[0;34m{\u001b[0m\u001b[0;34m\"class\"\u001b[0m\u001b[0;34m:\u001b[0m\u001b[0;34m\"wikitable mw-collapsible\"\u001b[0m\u001b[0;34m}\u001b[0m\u001b[0;34m)\u001b[0m\u001b[0;34m\u001b[0m\u001b[0;34m\u001b[0m\u001b[0m\n\u001b[0m\u001b[1;32m      5\u001b[0m \u001b[0mmain\u001b[0m \u001b[0;34m=\u001b[0m \u001b[0mpd\u001b[0m\u001b[0;34m.\u001b[0m\u001b[0mDataFrame\u001b[0m\u001b[0;34m(\u001b[0m\u001b[0mrecord\u001b[0m\u001b[0;34m[\u001b[0m\u001b[0;36m0\u001b[0m\u001b[0;34m]\u001b[0m\u001b[0;34m)\u001b[0m\u001b[0;34m\u001b[0m\u001b[0;34m\u001b[0m\u001b[0m\n",
            "\u001b[0;32m/usr/local/lib/python3.6/dist-packages/pandas/util/_decorators.py\u001b[0m in \u001b[0;36mwrapper\u001b[0;34m(*args, **kwargs)\u001b[0m\n\u001b[1;32m    294\u001b[0m                 )\n\u001b[1;32m    295\u001b[0m                 \u001b[0mwarnings\u001b[0m\u001b[0;34m.\u001b[0m\u001b[0mwarn\u001b[0m\u001b[0;34m(\u001b[0m\u001b[0mmsg\u001b[0m\u001b[0;34m,\u001b[0m \u001b[0mFutureWarning\u001b[0m\u001b[0;34m,\u001b[0m \u001b[0mstacklevel\u001b[0m\u001b[0;34m=\u001b[0m\u001b[0mstacklevel\u001b[0m\u001b[0;34m)\u001b[0m\u001b[0;34m\u001b[0m\u001b[0;34m\u001b[0m\u001b[0m\n\u001b[0;32m--> 296\u001b[0;31m             \u001b[0;32mreturn\u001b[0m \u001b[0mfunc\u001b[0m\u001b[0;34m(\u001b[0m\u001b[0;34m*\u001b[0m\u001b[0margs\u001b[0m\u001b[0;34m,\u001b[0m \u001b[0;34m**\u001b[0m\u001b[0mkwargs\u001b[0m\u001b[0;34m)\u001b[0m\u001b[0;34m\u001b[0m\u001b[0;34m\u001b[0m\u001b[0m\n\u001b[0m\u001b[1;32m    297\u001b[0m \u001b[0;34m\u001b[0m\u001b[0m\n\u001b[1;32m    298\u001b[0m         \u001b[0;32mreturn\u001b[0m \u001b[0mwrapper\u001b[0m\u001b[0;34m\u001b[0m\u001b[0;34m\u001b[0m\u001b[0m\n",
            "\u001b[0;32m/usr/local/lib/python3.6/dist-packages/pandas/io/html.py\u001b[0m in \u001b[0;36mread_html\u001b[0;34m(io, match, flavor, header, index_col, skiprows, attrs, parse_dates, thousands, encoding, decimal, converters, na_values, keep_default_na, displayed_only)\u001b[0m\n\u001b[1;32m   1099\u001b[0m         \u001b[0mna_values\u001b[0m\u001b[0;34m=\u001b[0m\u001b[0mna_values\u001b[0m\u001b[0;34m,\u001b[0m\u001b[0;34m\u001b[0m\u001b[0;34m\u001b[0m\u001b[0m\n\u001b[1;32m   1100\u001b[0m         \u001b[0mkeep_default_na\u001b[0m\u001b[0;34m=\u001b[0m\u001b[0mkeep_default_na\u001b[0m\u001b[0;34m,\u001b[0m\u001b[0;34m\u001b[0m\u001b[0;34m\u001b[0m\u001b[0m\n\u001b[0;32m-> 1101\u001b[0;31m         \u001b[0mdisplayed_only\u001b[0m\u001b[0;34m=\u001b[0m\u001b[0mdisplayed_only\u001b[0m\u001b[0;34m,\u001b[0m\u001b[0;34m\u001b[0m\u001b[0;34m\u001b[0m\u001b[0m\n\u001b[0m\u001b[1;32m   1102\u001b[0m     )\n",
            "\u001b[0;32m/usr/local/lib/python3.6/dist-packages/pandas/io/html.py\u001b[0m in \u001b[0;36m_parse\u001b[0;34m(flavor, io, match, attrs, encoding, displayed_only, **kwargs)\u001b[0m\n\u001b[1;32m    915\u001b[0m             \u001b[0;32mbreak\u001b[0m\u001b[0;34m\u001b[0m\u001b[0;34m\u001b[0m\u001b[0m\n\u001b[1;32m    916\u001b[0m     \u001b[0;32melse\u001b[0m\u001b[0;34m:\u001b[0m\u001b[0;34m\u001b[0m\u001b[0;34m\u001b[0m\u001b[0m\n\u001b[0;32m--> 917\u001b[0;31m         \u001b[0;32mraise\u001b[0m \u001b[0mretained\u001b[0m\u001b[0;34m\u001b[0m\u001b[0;34m\u001b[0m\u001b[0m\n\u001b[0m\u001b[1;32m    918\u001b[0m \u001b[0;34m\u001b[0m\u001b[0m\n\u001b[1;32m    919\u001b[0m     \u001b[0mret\u001b[0m \u001b[0;34m=\u001b[0m \u001b[0;34m[\u001b[0m\u001b[0;34m]\u001b[0m\u001b[0;34m\u001b[0m\u001b[0;34m\u001b[0m\u001b[0m\n",
            "\u001b[0;32m/usr/local/lib/python3.6/dist-packages/pandas/io/html.py\u001b[0m in \u001b[0;36m_parse\u001b[0;34m(flavor, io, match, attrs, encoding, displayed_only, **kwargs)\u001b[0m\n\u001b[1;32m    896\u001b[0m \u001b[0;34m\u001b[0m\u001b[0m\n\u001b[1;32m    897\u001b[0m         \u001b[0;32mtry\u001b[0m\u001b[0;34m:\u001b[0m\u001b[0;34m\u001b[0m\u001b[0;34m\u001b[0m\u001b[0m\n\u001b[0;32m--> 898\u001b[0;31m             \u001b[0mtables\u001b[0m \u001b[0;34m=\u001b[0m \u001b[0mp\u001b[0m\u001b[0;34m.\u001b[0m\u001b[0mparse_tables\u001b[0m\u001b[0;34m(\u001b[0m\u001b[0;34m)\u001b[0m\u001b[0;34m\u001b[0m\u001b[0;34m\u001b[0m\u001b[0m\n\u001b[0m\u001b[1;32m    899\u001b[0m         \u001b[0;32mexcept\u001b[0m \u001b[0mValueError\u001b[0m \u001b[0;32mas\u001b[0m \u001b[0mcaught\u001b[0m\u001b[0;34m:\u001b[0m\u001b[0;34m\u001b[0m\u001b[0;34m\u001b[0m\u001b[0m\n\u001b[1;32m    900\u001b[0m             \u001b[0;31m# if `io` is an io-like object, check if it's seekable\u001b[0m\u001b[0;34m\u001b[0m\u001b[0;34m\u001b[0m\u001b[0;34m\u001b[0m\u001b[0m\n",
            "\u001b[0;32m/usr/local/lib/python3.6/dist-packages/pandas/io/html.py\u001b[0m in \u001b[0;36mparse_tables\u001b[0;34m(self)\u001b[0m\n\u001b[1;32m    215\u001b[0m         \u001b[0mlist\u001b[0m \u001b[0mof\u001b[0m \u001b[0mparsed\u001b[0m \u001b[0;34m(\u001b[0m\u001b[0mheader\u001b[0m\u001b[0;34m,\u001b[0m \u001b[0mbody\u001b[0m\u001b[0;34m,\u001b[0m \u001b[0mfooter\u001b[0m\u001b[0;34m)\u001b[0m \u001b[0mtuples\u001b[0m \u001b[0;32mfrom\u001b[0m \u001b[0mtables\u001b[0m\u001b[0;34m.\u001b[0m\u001b[0;34m\u001b[0m\u001b[0;34m\u001b[0m\u001b[0m\n\u001b[1;32m    216\u001b[0m         \"\"\"\n\u001b[0;32m--> 217\u001b[0;31m         \u001b[0mtables\u001b[0m \u001b[0;34m=\u001b[0m \u001b[0mself\u001b[0m\u001b[0;34m.\u001b[0m\u001b[0m_parse_tables\u001b[0m\u001b[0;34m(\u001b[0m\u001b[0mself\u001b[0m\u001b[0;34m.\u001b[0m\u001b[0m_build_doc\u001b[0m\u001b[0;34m(\u001b[0m\u001b[0;34m)\u001b[0m\u001b[0;34m,\u001b[0m \u001b[0mself\u001b[0m\u001b[0;34m.\u001b[0m\u001b[0mmatch\u001b[0m\u001b[0;34m,\u001b[0m \u001b[0mself\u001b[0m\u001b[0;34m.\u001b[0m\u001b[0mattrs\u001b[0m\u001b[0;34m)\u001b[0m\u001b[0;34m\u001b[0m\u001b[0;34m\u001b[0m\u001b[0m\n\u001b[0m\u001b[1;32m    218\u001b[0m         \u001b[0;32mreturn\u001b[0m \u001b[0;34m(\u001b[0m\u001b[0mself\u001b[0m\u001b[0;34m.\u001b[0m\u001b[0m_parse_thead_tbody_tfoot\u001b[0m\u001b[0;34m(\u001b[0m\u001b[0mtable\u001b[0m\u001b[0;34m)\u001b[0m \u001b[0;32mfor\u001b[0m \u001b[0mtable\u001b[0m \u001b[0;32min\u001b[0m \u001b[0mtables\u001b[0m\u001b[0;34m)\u001b[0m\u001b[0;34m\u001b[0m\u001b[0;34m\u001b[0m\u001b[0m\n\u001b[1;32m    219\u001b[0m \u001b[0;34m\u001b[0m\u001b[0m\n",
            "\u001b[0;32m/usr/local/lib/python3.6/dist-packages/pandas/io/html.py\u001b[0m in \u001b[0;36m_parse_tables\u001b[0;34m(self, doc, match, attrs)\u001b[0m\n\u001b[1;32m    545\u001b[0m \u001b[0;34m\u001b[0m\u001b[0m\n\u001b[1;32m    546\u001b[0m         \u001b[0;32mif\u001b[0m \u001b[0;32mnot\u001b[0m \u001b[0mtables\u001b[0m\u001b[0;34m:\u001b[0m\u001b[0;34m\u001b[0m\u001b[0;34m\u001b[0m\u001b[0m\n\u001b[0;32m--> 547\u001b[0;31m             \u001b[0;32mraise\u001b[0m \u001b[0mValueError\u001b[0m\u001b[0;34m(\u001b[0m\u001b[0;34m\"No tables found\"\u001b[0m\u001b[0;34m)\u001b[0m\u001b[0;34m\u001b[0m\u001b[0;34m\u001b[0m\u001b[0m\n\u001b[0m\u001b[1;32m    548\u001b[0m \u001b[0;34m\u001b[0m\u001b[0m\n\u001b[1;32m    549\u001b[0m         \u001b[0mresult\u001b[0m \u001b[0;34m=\u001b[0m \u001b[0;34m[\u001b[0m\u001b[0;34m]\u001b[0m\u001b[0;34m\u001b[0m\u001b[0;34m\u001b[0m\u001b[0m\n",
            "\u001b[0;31mValueError\u001b[0m: No tables found"
          ]
        }
      ]
    },
    {
      "cell_type": "code",
      "metadata": {
        "id": "nzTXzqP_P5KQ",
        "outputId": "01013fe8-e6a0-4ce2-82f2-67225edaf91f",
        "colab": {
          "base_uri": "https://localhost:8080/",
          "height": 305
        }
      },
      "source": [
        "main.head()"
      ],
      "execution_count": null,
      "outputs": [
        {
          "output_type": "execute_result",
          "data": {
            "text/html": [
              "<div>\n",
              "<style scoped>\n",
              "    .dataframe tbody tr th:only-of-type {\n",
              "        vertical-align: middle;\n",
              "    }\n",
              "\n",
              "    .dataframe tbody tr th {\n",
              "        vertical-align: top;\n",
              "    }\n",
              "\n",
              "    .dataframe thead tr th {\n",
              "        text-align: left;\n",
              "    }\n",
              "</style>\n",
              "<table border=\"1\" class=\"dataframe\">\n",
              "  <thead>\n",
              "    <tr>\n",
              "      <th></th>\n",
              "      <th>Date (2020)</th>\n",
              "      <th colspan=\"33\" halign=\"left\">State/Union Territory</th>\n",
              "      <th colspan=\"2\" halign=\"left\">Cases[a]</th>\n",
              "      <th>Diff.</th>\n",
              "      <th colspan=\"2\" halign=\"left\">Deaths</th>\n",
              "      <th>Source(s)</th>\n",
              "    </tr>\n",
              "    <tr>\n",
              "      <th></th>\n",
              "      <th>Date (2020)</th>\n",
              "      <th>Andaman and Nicobar Islands</th>\n",
              "      <th>Andhra Pradesh</th>\n",
              "      <th>Arunachal Pradesh</th>\n",
              "      <th>Assam</th>\n",
              "      <th>Bihar</th>\n",
              "      <th>Chandigarh</th>\n",
              "      <th>Chhattisgarh</th>\n",
              "      <th>Delhi</th>\n",
              "      <th>Goa</th>\n",
              "      <th>Gujarat</th>\n",
              "      <th>Haryana</th>\n",
              "      <th>Himachal Pradesh</th>\n",
              "      <th>Jammu and Kashmir</th>\n",
              "      <th>Jharkhand</th>\n",
              "      <th>Karnataka</th>\n",
              "      <th>Kerala</th>\n",
              "      <th>Ladakh</th>\n",
              "      <th>Madhya Pradesh</th>\n",
              "      <th>Maharashtra</th>\n",
              "      <th>Manipur</th>\n",
              "      <th>Meghalaya</th>\n",
              "      <th>Mizoram</th>\n",
              "      <th>Nagaland</th>\n",
              "      <th>Odisha</th>\n",
              "      <th>Puducherry</th>\n",
              "      <th>Punjab</th>\n",
              "      <th>Rajasthan</th>\n",
              "      <th>Tamil Nadu</th>\n",
              "      <th>Telangana</th>\n",
              "      <th>Tripura</th>\n",
              "      <th>Uttarakhand</th>\n",
              "      <th>Uttar Pradesh</th>\n",
              "      <th>West Bengal</th>\n",
              "      <th>New</th>\n",
              "      <th>Total</th>\n",
              "      <th>Diff.</th>\n",
              "      <th>New</th>\n",
              "      <th>Total</th>\n",
              "      <th>Source(s)</th>\n",
              "    </tr>\n",
              "  </thead>\n",
              "  <tbody>\n",
              "    <tr>\n",
              "      <th>0</th>\n",
              "      <td>Jan-30</td>\n",
              "      <td>NaN</td>\n",
              "      <td>NaN</td>\n",
              "      <td>NaN</td>\n",
              "      <td>NaN</td>\n",
              "      <td>NaN</td>\n",
              "      <td>NaN</td>\n",
              "      <td>NaN</td>\n",
              "      <td>NaN</td>\n",
              "      <td>NaN</td>\n",
              "      <td>NaN</td>\n",
              "      <td>NaN</td>\n",
              "      <td>NaN</td>\n",
              "      <td>NaN</td>\n",
              "      <td>NaN</td>\n",
              "      <td>NaN</td>\n",
              "      <td>1</td>\n",
              "      <td>NaN</td>\n",
              "      <td>NaN</td>\n",
              "      <td>NaN</td>\n",
              "      <td>NaN</td>\n",
              "      <td>NaN</td>\n",
              "      <td>NaN</td>\n",
              "      <td>NaN</td>\n",
              "      <td>NaN</td>\n",
              "      <td>NaN</td>\n",
              "      <td>NaN</td>\n",
              "      <td>NaN</td>\n",
              "      <td>NaN</td>\n",
              "      <td>NaN</td>\n",
              "      <td>NaN</td>\n",
              "      <td>NaN</td>\n",
              "      <td>NaN</td>\n",
              "      <td>NaN</td>\n",
              "      <td>1</td>\n",
              "      <td>1</td>\n",
              "      <td>—</td>\n",
              "      <td>NaN</td>\n",
              "      <td>NaN</td>\n",
              "      <td>NaN</td>\n",
              "    </tr>\n",
              "    <tr>\n",
              "      <th>1</th>\n",
              "      <td>Feb-02</td>\n",
              "      <td>NaN</td>\n",
              "      <td>NaN</td>\n",
              "      <td>NaN</td>\n",
              "      <td>NaN</td>\n",
              "      <td>NaN</td>\n",
              "      <td>NaN</td>\n",
              "      <td>NaN</td>\n",
              "      <td>NaN</td>\n",
              "      <td>NaN</td>\n",
              "      <td>NaN</td>\n",
              "      <td>NaN</td>\n",
              "      <td>NaN</td>\n",
              "      <td>NaN</td>\n",
              "      <td>NaN</td>\n",
              "      <td>NaN</td>\n",
              "      <td>1</td>\n",
              "      <td>NaN</td>\n",
              "      <td>NaN</td>\n",
              "      <td>NaN</td>\n",
              "      <td>NaN</td>\n",
              "      <td>NaN</td>\n",
              "      <td>NaN</td>\n",
              "      <td>NaN</td>\n",
              "      <td>NaN</td>\n",
              "      <td>NaN</td>\n",
              "      <td>NaN</td>\n",
              "      <td>NaN</td>\n",
              "      <td>NaN</td>\n",
              "      <td>NaN</td>\n",
              "      <td>NaN</td>\n",
              "      <td>NaN</td>\n",
              "      <td>NaN</td>\n",
              "      <td>NaN</td>\n",
              "      <td>1</td>\n",
              "      <td>2</td>\n",
              "      <td>+100%</td>\n",
              "      <td>NaN</td>\n",
              "      <td>NaN</td>\n",
              "      <td>NaN</td>\n",
              "    </tr>\n",
              "    <tr>\n",
              "      <th>2</th>\n",
              "      <td>Feb-03</td>\n",
              "      <td>NaN</td>\n",
              "      <td>NaN</td>\n",
              "      <td>NaN</td>\n",
              "      <td>NaN</td>\n",
              "      <td>NaN</td>\n",
              "      <td>NaN</td>\n",
              "      <td>NaN</td>\n",
              "      <td>NaN</td>\n",
              "      <td>NaN</td>\n",
              "      <td>NaN</td>\n",
              "      <td>NaN</td>\n",
              "      <td>NaN</td>\n",
              "      <td>NaN</td>\n",
              "      <td>NaN</td>\n",
              "      <td>NaN</td>\n",
              "      <td>1</td>\n",
              "      <td>NaN</td>\n",
              "      <td>NaN</td>\n",
              "      <td>NaN</td>\n",
              "      <td>NaN</td>\n",
              "      <td>NaN</td>\n",
              "      <td>NaN</td>\n",
              "      <td>NaN</td>\n",
              "      <td>NaN</td>\n",
              "      <td>NaN</td>\n",
              "      <td>NaN</td>\n",
              "      <td>NaN</td>\n",
              "      <td>NaN</td>\n",
              "      <td>NaN</td>\n",
              "      <td>NaN</td>\n",
              "      <td>NaN</td>\n",
              "      <td>NaN</td>\n",
              "      <td>NaN</td>\n",
              "      <td>1</td>\n",
              "      <td>3</td>\n",
              "      <td>+50%</td>\n",
              "      <td>NaN</td>\n",
              "      <td>NaN</td>\n",
              "      <td>NaN</td>\n",
              "    </tr>\n",
              "    <tr>\n",
              "      <th>3</th>\n",
              "      <td>Mar-02</td>\n",
              "      <td>NaN</td>\n",
              "      <td>NaN</td>\n",
              "      <td>NaN</td>\n",
              "      <td>NaN</td>\n",
              "      <td>NaN</td>\n",
              "      <td>NaN</td>\n",
              "      <td>NaN</td>\n",
              "      <td>1</td>\n",
              "      <td>NaN</td>\n",
              "      <td>NaN</td>\n",
              "      <td>NaN</td>\n",
              "      <td>NaN</td>\n",
              "      <td>NaN</td>\n",
              "      <td>NaN</td>\n",
              "      <td>NaN</td>\n",
              "      <td>NaN</td>\n",
              "      <td>NaN</td>\n",
              "      <td>NaN</td>\n",
              "      <td>NaN</td>\n",
              "      <td>NaN</td>\n",
              "      <td>NaN</td>\n",
              "      <td>NaN</td>\n",
              "      <td>NaN</td>\n",
              "      <td>NaN</td>\n",
              "      <td>NaN</td>\n",
              "      <td>NaN</td>\n",
              "      <td>NaN</td>\n",
              "      <td>NaN</td>\n",
              "      <td>1</td>\n",
              "      <td>NaN</td>\n",
              "      <td>NaN</td>\n",
              "      <td>NaN</td>\n",
              "      <td>NaN</td>\n",
              "      <td>2</td>\n",
              "      <td>5</td>\n",
              "      <td>+67%</td>\n",
              "      <td>NaN</td>\n",
              "      <td>NaN</td>\n",
              "      <td>[474]</td>\n",
              "    </tr>\n",
              "    <tr>\n",
              "      <th>4</th>\n",
              "      <td>Mar-03</td>\n",
              "      <td>NaN</td>\n",
              "      <td>NaN</td>\n",
              "      <td>NaN</td>\n",
              "      <td>NaN</td>\n",
              "      <td>NaN</td>\n",
              "      <td>NaN</td>\n",
              "      <td>NaN</td>\n",
              "      <td>NaN</td>\n",
              "      <td>NaN</td>\n",
              "      <td>NaN</td>\n",
              "      <td>NaN</td>\n",
              "      <td>NaN</td>\n",
              "      <td>NaN</td>\n",
              "      <td>NaN</td>\n",
              "      <td>NaN</td>\n",
              "      <td>NaN</td>\n",
              "      <td>NaN</td>\n",
              "      <td>NaN</td>\n",
              "      <td>NaN</td>\n",
              "      <td>NaN</td>\n",
              "      <td>NaN</td>\n",
              "      <td>NaN</td>\n",
              "      <td>NaN</td>\n",
              "      <td>NaN</td>\n",
              "      <td>NaN</td>\n",
              "      <td>NaN</td>\n",
              "      <td>1</td>\n",
              "      <td>NaN</td>\n",
              "      <td>NaN</td>\n",
              "      <td>NaN</td>\n",
              "      <td>NaN</td>\n",
              "      <td>NaN</td>\n",
              "      <td>NaN</td>\n",
              "      <td>1</td>\n",
              "      <td>6</td>\n",
              "      <td>+20%</td>\n",
              "      <td>NaN</td>\n",
              "      <td>NaN</td>\n",
              "      <td>[475]</td>\n",
              "    </tr>\n",
              "  </tbody>\n",
              "</table>\n",
              "</div>"
            ],
            "text/plain": [
              "  Date (2020)       State/Union Territory                 ... Deaths       Source(s)\n",
              "  Date (2020) Andaman and Nicobar Islands Andhra Pradesh  ...    New Total Source(s)\n",
              "0      Jan-30                         NaN            NaN  ...    NaN   NaN       NaN\n",
              "1      Feb-02                         NaN            NaN  ...    NaN   NaN       NaN\n",
              "2      Feb-03                         NaN            NaN  ...    NaN   NaN       NaN\n",
              "3      Mar-02                         NaN            NaN  ...    NaN   NaN     [474]\n",
              "4      Mar-03                         NaN            NaN  ...    NaN   NaN     [475]\n",
              "\n",
              "[5 rows x 40 columns]"
            ]
          },
          "metadata": {
            "tags": []
          },
          "execution_count": 60
        }
      ]
    },
    {
      "cell_type": "markdown",
      "metadata": {
        "id": "RlxerleYl2xG"
      },
      "source": [
        "Data processing"
      ]
    },
    {
      "cell_type": "code",
      "metadata": {
        "id": "GU92DGjfOFjJ"
      },
      "source": [
        "cases_india=np.array(main['Cases[a]'])\n",
        "dates_india=np.array(main['Date (2020)'])\n",
        "deaths_india=np.array(main['Deaths'])\n",
        "cases_india = np.delete(cases_india, 0, 1)"
      ],
      "execution_count": null,
      "outputs": []
    },
    {
      "cell_type": "code",
      "metadata": {
        "id": "lxOAaLw0WNxj",
        "outputId": "77ca9604-aeec-4c51-f2b7-1089b66535c0",
        "colab": {
          "base_uri": "https://localhost:8080/",
          "height": 277
        }
      },
      "source": [
        "raw = pd.read_csv(\"covid_19_data.csv\")\n",
        "raw.describe()"
      ],
      "execution_count": null,
      "outputs": [
        {
          "output_type": "execute_result",
          "data": {
            "text/html": [
              "<div>\n",
              "<style scoped>\n",
              "    .dataframe tbody tr th:only-of-type {\n",
              "        vertical-align: middle;\n",
              "    }\n",
              "\n",
              "    .dataframe tbody tr th {\n",
              "        vertical-align: top;\n",
              "    }\n",
              "\n",
              "    .dataframe thead th {\n",
              "        text-align: right;\n",
              "    }\n",
              "</style>\n",
              "<table border=\"1\" class=\"dataframe\">\n",
              "  <thead>\n",
              "    <tr style=\"text-align: right;\">\n",
              "      <th></th>\n",
              "      <th>SNo</th>\n",
              "      <th>Confirmed</th>\n",
              "      <th>Deaths</th>\n",
              "      <th>Recovered</th>\n",
              "    </tr>\n",
              "  </thead>\n",
              "  <tbody>\n",
              "    <tr>\n",
              "      <th>count</th>\n",
              "      <td>14171.000000</td>\n",
              "      <td>14171.000000</td>\n",
              "      <td>14171.000000</td>\n",
              "      <td>14171.000000</td>\n",
              "    </tr>\n",
              "    <tr>\n",
              "      <th>mean</th>\n",
              "      <td>7086.000000</td>\n",
              "      <td>1796.447675</td>\n",
              "      <td>90.167949</td>\n",
              "      <td>441.899372</td>\n",
              "    </tr>\n",
              "    <tr>\n",
              "      <th>std</th>\n",
              "      <td>4090.959667</td>\n",
              "      <td>10017.978360</td>\n",
              "      <td>790.707358</td>\n",
              "      <td>3765.685067</td>\n",
              "    </tr>\n",
              "    <tr>\n",
              "      <th>min</th>\n",
              "      <td>1.000000</td>\n",
              "      <td>0.000000</td>\n",
              "      <td>0.000000</td>\n",
              "      <td>0.000000</td>\n",
              "    </tr>\n",
              "    <tr>\n",
              "      <th>25%</th>\n",
              "      <td>3543.500000</td>\n",
              "      <td>6.000000</td>\n",
              "      <td>0.000000</td>\n",
              "      <td>0.000000</td>\n",
              "    </tr>\n",
              "    <tr>\n",
              "      <th>50%</th>\n",
              "      <td>7086.000000</td>\n",
              "      <td>62.000000</td>\n",
              "      <td>0.000000</td>\n",
              "      <td>1.000000</td>\n",
              "    </tr>\n",
              "    <tr>\n",
              "      <th>75%</th>\n",
              "      <td>10628.500000</td>\n",
              "      <td>412.500000</td>\n",
              "      <td>4.000000</td>\n",
              "      <td>30.000000</td>\n",
              "    </tr>\n",
              "    <tr>\n",
              "      <th>max</th>\n",
              "      <td>14171.000000</td>\n",
              "      <td>181026.000000</td>\n",
              "      <td>19468.000000</td>\n",
              "      <td>64264.000000</td>\n",
              "    </tr>\n",
              "  </tbody>\n",
              "</table>\n",
              "</div>"
            ],
            "text/plain": [
              "                SNo      Confirmed        Deaths     Recovered\n",
              "count  14171.000000   14171.000000  14171.000000  14171.000000\n",
              "mean    7086.000000    1796.447675     90.167949    441.899372\n",
              "std     4090.959667   10017.978360    790.707358   3765.685067\n",
              "min        1.000000       0.000000      0.000000      0.000000\n",
              "25%     3543.500000       6.000000      0.000000      0.000000\n",
              "50%     7086.000000      62.000000      0.000000      1.000000\n",
              "75%    10628.500000     412.500000      4.000000     30.000000\n",
              "max    14171.000000  181026.000000  19468.000000  64264.000000"
            ]
          },
          "metadata": {
            "tags": []
          },
          "execution_count": 62
        }
      ]
    },
    {
      "cell_type": "markdown",
      "metadata": {
        "id": "wNU2lzSql6uV"
      },
      "source": [
        "Adding few more columns"
      ]
    },
    {
      "cell_type": "code",
      "metadata": {
        "id": "swdKccXSOH2L",
        "outputId": "60e638b6-c12f-465e-e4b2-817c87adb7c1",
        "colab": {
          "base_uri": "https://localhost:8080/",
          "height": 98
        }
      },
      "source": [
        "a=cases_india.size\n",
        "infected = [None]*(a-4)\n",
        "dates_india_final = [None]*(a-4)\n",
        "for i in range ((a)-4):\n",
        "  infected[i]=cases_india[i][0]\n",
        "  dates_india_final[i] = dates_india[i][0]\n",
        "infected = np.asarray(infected, dtype=np.int64)\n",
        "infected.astype(int)\n",
        "print(infected)"
      ],
      "execution_count": null,
      "outputs": [
        {
          "output_type": "stream",
          "text": [
            "[    1     2     3     5     6    28    30    31    34    39    44    50\n",
            "    60    73    81    97   107   118   137   151   173   223   283   360\n",
            "   434   519   606   694   834   918  1024  1251  1397  1834  2069  2547\n",
            "  3072  3577  4281  4789  5274  5865  6761  7529  8447  9352 10815 11933\n",
            " 12759 13835 14792 16116 17656 18985 20471 21700 23452 24942 26917]\n"
          ],
          "name": "stdout"
        }
      ]
    },
    {
      "cell_type": "markdown",
      "metadata": {
        "id": "4sl5rX-KmAMI"
      },
      "source": [
        "Growth rate of the infected cases in India."
      ]
    },
    {
      "cell_type": "code",
      "metadata": {
        "id": "gEcapWSnM452",
        "outputId": "c2d8f4d4-ba8b-4cc7-d2d3-f832c11e3ed6",
        "colab": {
          "base_uri": "https://localhost:8080/",
          "height": 297
        }
      },
      "source": [
        "dates_india_final = dates_india_final[:-1]\n",
        "a = infected.size\n",
        "rate_infection = [None]*(a-1)\n",
        "for i in range (a-1):\n",
        "  rate_infection[i] = infected[i+1] - infected[i]\n",
        "rate_infections = pd.DataFrame(rate_infection, index=dates_india_final, columns =['Growth rate'])\n",
        "line_plot(rate_infections,\"Growth Rate of infection India\")"
      ],
      "execution_count": null,
      "outputs": [
        {
          "output_type": "display_data",
          "data": {
            "image/png": "[encoded data removed]",
            "text/plain": [
              "<Figure size 432x288 with 1 Axes>"
            ]
          },
          "metadata": {
            "tags": [],
            "needs_background": "light"
          }
        }
      ]
    },
    {
      "cell_type": "markdown",
      "metadata": {
        "id": "ANSf1C-QnPIs"
      },
      "source": [
        "**From day 1 the cases are increasing, but the growth rate (i.e. the rate of increasing) too is increasing day by day.\n",
        "\n",
        "---\n",
        "It is said the time when growth rate start reducing we can think that the infection rate is coming to halt.\n",
        "And when it comes to -ve, it is said that the pendamic is going under control. ** \n",
        "\n"
      ]
    },
    {
      "cell_type": "code",
      "metadata": {
        "id": "cOyY10YCOKVE",
        "outputId": "83c1cfff-f11f-42b2-dbf0-55a801f015ae",
        "colab": {
          "base_uri": "https://localhost:8080/",
          "height": 82
        }
      },
      "source": [
        "df = pd.DataFrame(deaths_india, columns =['Tag', 'number'])  \n",
        "df1 = df.drop(len(df)-1)\n",
        "df1 = df1.drop(len(df1)-1)\n",
        "df1 = df1.drop(len(df1)-1)\n",
        "df1 = df1.drop(len(df1)-1)\n",
        "df1 = df1.drop(['Tag'],axis = 1)\n",
        "df1=df1.replace(to_replace = np.nan, value = 0) \n",
        "deaths = df1.to_numpy()\n",
        "deaths = np.asarray(deaths, dtype=np.int64)\n",
        "deaths = deaths.astype(int)\n",
        "deaths1 = deaths.flatten()\n",
        "print(deaths1) "
      ],
      "execution_count": null,
      "outputs": [
        {
          "output_type": "stream",
          "text": [
            "[  0   0   0   0   0   0   0   0   0   0   0   0   0   1   1   2   2   2\n",
            "   3   3   4   4   4   7   9   9  12  16  18  20  27  32  35  41  53  62\n",
            "  75  83 111 124 149 169 206 242 273 324 353 392 420 452 488 519 559 603\n",
            " 652 686 723 779 826]\n"
          ],
          "name": "stdout"
        }
      ]
    },
    {
      "cell_type": "markdown",
      "metadata": {
        "id": "y31128VGmLhs"
      },
      "source": [
        "Growth rate of the deaths cases in India."
      ]
    },
    {
      "cell_type": "code",
      "metadata": {
        "id": "OFafsE96PBht",
        "outputId": "a206425e-d4ba-4523-ce9b-89cafe615158",
        "colab": {
          "base_uri": "https://localhost:8080/",
          "height": 297
        }
      },
      "source": [
        "a = deaths1.size\n",
        "rate_death = [None]*(a-1)\n",
        "for i in range (a-1):\n",
        "  rate_death[i] = deaths1[i+1] - deaths1[i]\n",
        "rate_deaths = pd.DataFrame(rate_death, index=dates_india_final, columns =['Growth rate'])\n",
        "line_plot(rate_deaths,\"Growth Rate of deaths in India\")"
      ],
      "execution_count": null,
      "outputs": [
        {
          "output_type": "display_data",
          "data": {
            "image/png": "[encoded data removed]",
            "text/plain": [
              "<Figure size 432x288 with 1 Axes>"
            ]
          },
          "metadata": {
            "tags": [],
            "needs_background": "light"
          }
        }
      ]
    },
    {
      "cell_type": "code",
      "metadata": {
        "id": "RNfqxwsm4QcK"
      },
      "source": [
        "a = len(rate_infection)\n",
        "del dates_india_final[0]\n",
        "growth_rate_infection = [None]*(a-1)\n",
        "growth_factor_death = [None]*(a-1)\n",
        "for i in range (a-1):\n",
        "  if rate_infection[i]==0:\n",
        "    growth_rate_infection[i] =0\n",
        "  else:  \n",
        "    growth_rate_infection[i] = rate_infection[i+1]/rate_infection[i]\n",
        "  if rate_death[i]==0:\n",
        "    growth_factor_death[i] =0\n",
        "  else:  \n",
        "    growth_factor_death[i] = rate_death[i+1]/rate_death[i]\n"
      ],
      "execution_count": null,
      "outputs": []
    },
    {
      "cell_type": "markdown",
      "metadata": {
        "id": "kl-L34mpmRbh"
      },
      "source": [
        "Growth factor of the infacted cases in India.\n",
        "\n",
        "---\n",
        "\n",
        "\n",
        "Where growth factor is the rate by which the growth rate is increasing.\n",
        "\n",
        "\n"
      ]
    },
    {
      "cell_type": "code",
      "metadata": {
        "id": "pNcxT8dA4RUP",
        "outputId": "e5f9eb04-c547-4cec-8182-fcd7b60992cc",
        "colab": {
          "base_uri": "https://localhost:8080/",
          "height": 577
        }
      },
      "source": [
        "growth_factor_infection_india = pd.DataFrame(growth_rate_infection, index=dates_india_final, columns =['Growth factor infection'])\n",
        "line_plot(growth_factor_infection_india,\"Growth factor of infection India\")\n",
        "growth_factor_death_india = pd.DataFrame(growth_factor_death, index=dates_india_final, columns =['Growth factor death'])\n",
        "line_plot(growth_factor_death_india,\"Growth factor of death India\")"
      ],
      "execution_count": null,
      "outputs": [
        {
          "output_type": "display_data",
          "data": {
            "image/png": "[encoded data removed]",
            "text/plain": [
              "<Figure size 432x288 with 1 Axes>"
            ]
          },
          "metadata": {
            "tags": [],
            "needs_background": "light"
          }
        },
        {
          "output_type": "display_data",
          "data": {
            "image/png": "[encoded data removed]",
            "text/plain": [
              "<Figure size 432x288 with 1 Axes>"
            ]
          },
          "metadata": {
            "tags": [],
            "needs_background": "light"
          }
        }
      ]
    },
    {
      "cell_type": "code",
      "metadata": {
        "id": "S_14kgmen8Y2"
      },
      "source": [
        ""
      ],
      "execution_count": null,
      "outputs": []
    },
    {
      "cell_type": "markdown",
      "metadata": {
        "id": "RL0ebwQgn7Hd"
      },
      "source": [
        "**Growth factor can be defined as rate of increase or decrease of the rate of cases. Or double derivative in mathematical terms.**\n",
        "\n",
        "---\n",
        "In India it is not strictly increasing, which is pretty good news. But pandemic would be said to be in control once it goes to negative.\n"
      ]
    },
    {
      "cell_type": "code",
      "metadata": {
        "id": "nUf9DAStOlAr"
      },
      "source": [
        "days_since_start = np.array([i for i in range(len(infected))]).reshape(-1, 1)"
      ],
      "execution_count": null,
      "outputs": []
    },
    {
      "cell_type": "markdown",
      "metadata": {
        "id": "4cXoeq6Gmlly"
      },
      "source": [
        "Taking population into account."
      ]
    },
    {
      "cell_type": "code",
      "metadata": {
        "id": "-Rr0mlAiOqlV"
      },
      "source": [
        "population_dict ={'Global': 7454412229, 'China': 1376807262, 'India': 1339000000, 'US': 327200000, 'Italy': 60480000}"
      ],
      "execution_count": null,
      "outputs": []
    },
    {
      "cell_type": "code",
      "metadata": {
        "id": "QuCAzyl5PyU-"
      },
      "source": [
        "us_data = pd.read_excel('USA.xlsx')\n",
        "#us_data.head()"
      ],
      "execution_count": null,
      "outputs": []
    },
    {
      "cell_type": "code",
      "metadata": {
        "id": "3npcZiQ4PRdq",
        "outputId": "4a023d06-12a0-4a1d-e97e-bf32b709e724",
        "colab": {
          "base_uri": "https://localhost:8080/",
          "height": 53
        }
      },
      "source": [
        "pd.DataFrame(raw.isnull().sum()).T\n",
        "\", \".join(raw[\"Country/Region\"].unique().tolist())"
      ],
      "execution_count": null,
      "outputs": [
        {
          "output_type": "execute_result",
          "data": {
            "text/plain": [
              "\"Mainland China, Hong Kong, Macau, Taiwan, US, Japan, Thailand, South Korea, Singapore, Philippines, Malaysia, Vietnam, Australia, Mexico, Brazil, Colombia, France, Nepal, Canada, Cambodia, Sri Lanka, Ivory Coast, Germany, Finland, United Arab Emirates, India, Italy, UK, Russia, Sweden, Spain, Belgium, Others, Egypt, Iran, Israel, Lebanon, Iraq, Oman, Afghanistan, Bahrain, Kuwait, Austria, Algeria, Croatia, Switzerland, Pakistan, Georgia, Greece, North Macedonia, Norway, Romania, Denmark, Estonia, Netherlands, San Marino,  Azerbaijan, Belarus, Iceland, Lithuania, New Zealand, Nigeria, North Ireland, Ireland, Luxembourg, Monaco, Qatar, Ecuador, Azerbaijan, Czech Republic, Armenia, Dominican Republic, Indonesia, Portugal, Andorra, Latvia, Morocco, Saudi Arabia, Senegal, Argentina, Chile, Jordan, Ukraine, Saint Barthelemy, Hungary, Faroe Islands, Gibraltar, Liechtenstein, Poland, Tunisia, Palestine, Bosnia and Herzegovina, Slovenia, South Africa, Bhutan, Cameroon, Costa Rica, Peru, Serbia, Slovakia, Togo, Vatican City, French Guiana, Malta, Martinique, Republic of Ireland, Bulgaria, Maldives, Bangladesh, Moldova, Paraguay, Albania, Cyprus, St. Martin, Brunei, occupied Palestinian territory, ('St. Martin',), Burkina Faso, Channel Islands, Holy See, Mongolia, Panama, Bolivia, Honduras, Congo (Kinshasa), Jamaica, Reunion, Turkey, Cuba, Guyana, Kazakhstan, Cayman Islands, Guadeloupe, Ethiopia, Sudan, Guinea, Antigua and Barbuda, Aruba, Kenya, Uruguay, Ghana, Jersey, Namibia, Seychelles, Trinidad and Tobago, Venezuela, Curacao, Eswatini, Gabon, Guatemala, Guernsey, Mauritania, Rwanda, Saint Lucia, Saint Vincent and the Grenadines, Suriname, Kosovo, Central African Republic, Congo (Brazzaville), Equatorial Guinea, Uzbekistan, Guam, Puerto Rico, Benin, Greenland, Liberia, Mayotte, Republic of the Congo, Somalia, Tanzania, The Bahamas, Barbados, Montenegro, The Gambia, Kyrgyzstan, Mauritius, Zambia, Djibouti, Gambia, The, Bahamas, The, Chad, El Salvador, Fiji, Nicaragua, Madagascar, Haiti, Angola, Cabo Verde, Niger, Papua New Guinea, Zimbabwe, Cape Verde, East Timor, Eritrea, Uganda, Bahamas, Dominica, Gambia, Grenada, Mozambique, Syria, Timor-Leste, Belize, Laos, Libya, Diamond Princess, Guinea-Bissau, Mali, Saint Kitts and Nevis, West Bank and Gaza, Burma, MS Zaandam, Botswana, Burundi, Sierra Leone, Malawi, South Sudan, Western Sahara, Sao Tome and Principe, Yemen\""
            ]
          },
          "metadata": {
            "tags": []
          },
          "execution_count": 72
        }
      ]
    },
    {
      "cell_type": "code",
      "metadata": {
        "id": "3InBl-4mPSPA"
      },
      "source": [
        "data_cols = [\"Infected\", \"Deaths\", \"Recovered\"]\n",
        "data_cols_all = [\"Confirmed\", \"Infected\", \"Deaths\", \"Recovered\"]\n",
        "rate_cols = [\"Fatal per Confirmed\", \"Recovered per Confirmed\", \"Fatal per (Fatal or Recovered)\"]\n",
        "variable_dict = {\"Susceptible\": \"S\", \"Infected\": \"I\", \"Recovered\": \"R\", \"Deaths\": \"D\"}"
      ],
      "execution_count": null,
      "outputs": []
    },
    {
      "cell_type": "markdown",
      "metadata": {
        "id": "x249pDpFmrRk"
      },
      "source": [
        "Removing and replacing some countries and their enteries."
      ]
    },
    {
      "cell_type": "code",
      "metadata": {
        "id": "Rr02FPe1PU5F",
        "outputId": "ba136278-5bd7-4444-89c5-1dee003a96b4",
        "colab": {
          "base_uri": "https://localhost:8080/",
          "height": 53
        }
      },
      "source": [
        "df = raw.rename({\"ObservationDate\": \"Date\", \"Province/State\": \"Province\"}, axis=1)\n",
        "df[\"Date\"] = pd.to_datetime(df[\"Date\"])\n",
        "df[\"Country\"] = df[\"Country/Region\"].replace(\n",
        "    {\n",
        "        \"Mainland China\": \"China\",\n",
        "        \"Hong Kong SAR\": \"Hong Kong\",\n",
        "        \"Taipei and environs\": \"Taiwan\",\n",
        "        \"Iran (Islamic Republic of)\": \"Iran\",\n",
        "        \"Republic of Korea\": \"South Korea\",\n",
        "        \"Republic of Ireland\": \"Ireland\",\n",
        "        \"Macao SAR\": \"Macau\",\n",
        "        \"Russian Federation\": \"Russia\",\n",
        "        \"Republic of Moldova\": \"Moldova\",\n",
        "        \"Taiwan*\": \"Taiwan\",\n",
        "        \"Cruise Ship\": \"Others\",\n",
        "        \"United Kingdom\": \"UK\",\n",
        "        \"Viet Nam\": \"Vietnam\",\n",
        "        \"Czechia\": \"Czech Republic\",\n",
        "        \"St. Martin\": \"Saint Martin\",\n",
        "        \"Cote d'Ivoire\": \"Ivory Coast\",\n",
        "        \"('St. Martin',)\": \"Saint Martin\",\n",
        "        \"Congo (Kinshasa)\": \"Congo\",\n",
        "    }\n",
        ")\n",
        "df[\"Province\"] = df[\"Province\"].fillna(\"-\").replace(\n",
        "    {\n",
        "        \"Cruise Ship\": \"Diamond Princess\",\n",
        "        \"Diamond Princess cruise ship\": \"Diamond Princess\"\n",
        "    }\n",
        ")\n",
        "df.loc[df[\"Country\"] == \"Diamond Princess\", [\"Country\", \"Province\"]] = [\"Others\", \"Diamond Princess\"]\n",
        "df[\"Infected\"] = df[\"Confirmed\"] - df[\"Deaths\"] - df[\"Recovered\"]\n",
        "df[data_cols_all] = df[data_cols_all].astype(np.int64)\n",
        "ncov_df_ungrouped = df.loc[:, [\"Date\", \"Country\", \"Province\", *data_cols_all]]\n",
        "#print(ncov_df_ungrouped.tail())\n",
        "infected_indians = np.full(shape=73,fill_value=0.0,dtype=np.float)                                   \n",
        "absd = np.array([0.0749,0.0754,0.0761,0.0769,0.0779,0.0790,0.0802,0.0816,0.0830,0.0842,0.0853,0.0863,0.0873,0.0882,0.0891]) \n",
        "infected_indians = np.concatenate([infected_indians, absd])\n",
        "pd.DataFrame(ncov_df_ungrouped.isnull().sum()).T\n",
        "\", \".join(ncov_df_ungrouped[\"Country\"].unique().tolist())"
      ],
      "execution_count": null,
      "outputs": [
        {
          "output_type": "execute_result",
          "data": {
            "text/plain": [
              "'China, Hong Kong, Macau, Taiwan, US, Japan, Thailand, South Korea, Singapore, Philippines, Malaysia, Vietnam, Australia, Mexico, Brazil, Colombia, France, Nepal, Canada, Cambodia, Sri Lanka, Ivory Coast, Germany, Finland, United Arab Emirates, India, Italy, UK, Russia, Sweden, Spain, Belgium, Others, Egypt, Iran, Israel, Lebanon, Iraq, Oman, Afghanistan, Bahrain, Kuwait, Austria, Algeria, Croatia, Switzerland, Pakistan, Georgia, Greece, North Macedonia, Norway, Romania, Denmark, Estonia, Netherlands, San Marino,  Azerbaijan, Belarus, Iceland, Lithuania, New Zealand, Nigeria, North Ireland, Ireland, Luxembourg, Monaco, Qatar, Ecuador, Azerbaijan, Czech Republic, Armenia, Dominican Republic, Indonesia, Portugal, Andorra, Latvia, Morocco, Saudi Arabia, Senegal, Argentina, Chile, Jordan, Ukraine, Saint Barthelemy, Hungary, Faroe Islands, Gibraltar, Liechtenstein, Poland, Tunisia, Palestine, Bosnia and Herzegovina, Slovenia, South Africa, Bhutan, Cameroon, Costa Rica, Peru, Serbia, Slovakia, Togo, Vatican City, French Guiana, Malta, Martinique, Bulgaria, Maldives, Bangladesh, Moldova, Paraguay, Albania, Cyprus, Saint Martin, Brunei, occupied Palestinian territory, Burkina Faso, Channel Islands, Holy See, Mongolia, Panama, Bolivia, Honduras, Congo, Jamaica, Reunion, Turkey, Cuba, Guyana, Kazakhstan, Cayman Islands, Guadeloupe, Ethiopia, Sudan, Guinea, Antigua and Barbuda, Aruba, Kenya, Uruguay, Ghana, Jersey, Namibia, Seychelles, Trinidad and Tobago, Venezuela, Curacao, Eswatini, Gabon, Guatemala, Guernsey, Mauritania, Rwanda, Saint Lucia, Saint Vincent and the Grenadines, Suriname, Kosovo, Central African Republic, Congo (Brazzaville), Equatorial Guinea, Uzbekistan, Guam, Puerto Rico, Benin, Greenland, Liberia, Mayotte, Republic of the Congo, Somalia, Tanzania, The Bahamas, Barbados, Montenegro, The Gambia, Kyrgyzstan, Mauritius, Zambia, Djibouti, Gambia, The, Bahamas, The, Chad, El Salvador, Fiji, Nicaragua, Madagascar, Haiti, Angola, Cabo Verde, Niger, Papua New Guinea, Zimbabwe, Cape Verde, East Timor, Eritrea, Uganda, Bahamas, Dominica, Gambia, Grenada, Mozambique, Syria, Timor-Leste, Belize, Laos, Libya, Guinea-Bissau, Mali, Saint Kitts and Nevis, West Bank and Gaza, Burma, MS Zaandam, Botswana, Burundi, Sierra Leone, Malawi, South Sudan, Western Sahara, Sao Tome and Principe, Yemen'"
            ]
          },
          "metadata": {
            "tags": []
          },
          "execution_count": 74
        }
      ]
    },
    {
      "cell_type": "code",
      "metadata": {
        "id": "WMYV5iWhPY5F",
        "outputId": "f76b1979-49d9-49a8-95fc-306eac6196b6",
        "colab": {
          "base_uri": "https://localhost:8080/",
          "height": 220
        }
      },
      "source": [
        "total_df = ncov_df_ungrouped.groupby(\"Date\").sum()\n",
        "total_df[rate_cols[0]] = total_df[\"Deaths\"] / total_df[data_cols].sum(axis=1)\n",
        "total_df[rate_cols[1]] = total_df[\"Recovered\"] / total_df[data_cols].sum(axis=1)\n",
        "total_df[rate_cols[2]] = total_df[\"Deaths\"] / (total_df[\"Deaths\"] + total_df[\"Recovered\"])\n",
        "total_df.tail()"
      ],
      "execution_count": null,
      "outputs": [
        {
          "output_type": "execute_result",
          "data": {
            "text/html": [
              "<div>\n",
              "<style scoped>\n",
              "    .dataframe tbody tr th:only-of-type {\n",
              "        vertical-align: middle;\n",
              "    }\n",
              "\n",
              "    .dataframe tbody tr th {\n",
              "        vertical-align: top;\n",
              "    }\n",
              "\n",
              "    .dataframe thead th {\n",
              "        text-align: right;\n",
              "    }\n",
              "</style>\n",
              "<table border=\"1\" class=\"dataframe\">\n",
              "  <thead>\n",
              "    <tr style=\"text-align: right;\">\n",
              "      <th></th>\n",
              "      <th>Confirmed</th>\n",
              "      <th>Infected</th>\n",
              "      <th>Deaths</th>\n",
              "      <th>Recovered</th>\n",
              "      <th>Fatal per Confirmed</th>\n",
              "      <th>Recovered per Confirmed</th>\n",
              "      <th>Fatal per (Fatal or Recovered)</th>\n",
              "    </tr>\n",
              "    <tr>\n",
              "      <th>Date</th>\n",
              "      <th></th>\n",
              "      <th></th>\n",
              "      <th></th>\n",
              "      <th></th>\n",
              "      <th></th>\n",
              "      <th></th>\n",
              "      <th></th>\n",
              "    </tr>\n",
              "  </thead>\n",
              "  <tbody>\n",
              "    <tr>\n",
              "      <th>2020-04-07</th>\n",
              "      <td>1426096</td>\n",
              "      <td>1044177</td>\n",
              "      <td>81865</td>\n",
              "      <td>300054</td>\n",
              "      <td>0.057405</td>\n",
              "      <td>0.210402</td>\n",
              "      <td>0.214352</td>\n",
              "    </tr>\n",
              "    <tr>\n",
              "      <th>2020-04-08</th>\n",
              "      <td>1511104</td>\n",
              "      <td>1094105</td>\n",
              "      <td>88338</td>\n",
              "      <td>328661</td>\n",
              "      <td>0.058459</td>\n",
              "      <td>0.217497</td>\n",
              "      <td>0.211842</td>\n",
              "    </tr>\n",
              "    <tr>\n",
              "      <th>2020-04-09</th>\n",
              "      <td>1595350</td>\n",
              "      <td>1145920</td>\n",
              "      <td>95455</td>\n",
              "      <td>353975</td>\n",
              "      <td>0.059833</td>\n",
              "      <td>0.221879</td>\n",
              "      <td>0.212391</td>\n",
              "    </tr>\n",
              "    <tr>\n",
              "      <th>2020-04-10</th>\n",
              "      <td>1691719</td>\n",
              "      <td>1213098</td>\n",
              "      <td>102525</td>\n",
              "      <td>376096</td>\n",
              "      <td>0.060604</td>\n",
              "      <td>0.222316</td>\n",
              "      <td>0.214209</td>\n",
              "    </tr>\n",
              "    <tr>\n",
              "      <th>2020-04-11</th>\n",
              "      <td>1771514</td>\n",
              "      <td>1260901</td>\n",
              "      <td>108503</td>\n",
              "      <td>402110</td>\n",
              "      <td>0.061249</td>\n",
              "      <td>0.226987</td>\n",
              "      <td>0.212496</td>\n",
              "    </tr>\n",
              "  </tbody>\n",
              "</table>\n",
              "</div>"
            ],
            "text/plain": [
              "            Confirmed  ...  Fatal per (Fatal or Recovered)\n",
              "Date                   ...                                \n",
              "2020-04-07    1426096  ...                        0.214352\n",
              "2020-04-08    1511104  ...                        0.211842\n",
              "2020-04-09    1595350  ...                        0.212391\n",
              "2020-04-10    1691719  ...                        0.214209\n",
              "2020-04-11    1771514  ...                        0.212496\n",
              "\n",
              "[5 rows x 7 columns]"
            ]
          },
          "metadata": {
            "tags": []
          },
          "execution_count": 75
        }
      ]
    },
    {
      "cell_type": "markdown",
      "metadata": {
        "id": "VpCHoxu3m12_"
      },
      "source": [
        "Over time cases graph presenting\n",
        "\n",
        "\n",
        "1.   Infected\n",
        "2.   Deaths\n",
        "3.   Recovered\n",
        "\n",
        "\n"
      ]
    },
    {
      "cell_type": "code",
      "metadata": {
        "id": "BFuyftf_Pcm0",
        "outputId": "25747389-342b-4e79-c682-419ea858c2e1",
        "colab": {
          "base_uri": "https://localhost:8080/",
          "height": 297
        }
      },
      "source": [
        "line_plot(total_df[data_cols], \"Total number of cases over time\")"
      ],
      "execution_count": null,
      "outputs": [
        {
          "output_type": "display_data",
          "data": {
            "image/png": "[encoded data removed]",
            "text/plain": [
              "<Figure size 432x288 with 1 Axes>"
            ]
          },
          "metadata": {
            "tags": [],
            "needs_background": "light"
          }
        }
      ]
    },
    {
      "cell_type": "markdown",
      "metadata": {
        "id": "ke6v54IHnG6n"
      },
      "source": [
        "Growth rate for the global."
      ]
    },
    {
      "cell_type": "code",
      "metadata": {
        "id": "zEFQffloP-Is",
        "outputId": "b95cefc8-1c71-443c-9499-62b50d3bcce3",
        "colab": {
          "base_uri": "https://localhost:8080/",
          "height": 297
        }
      },
      "source": [
        "line_plot(total_df[rate_cols], \"Global rate over time\", ylabel=\"\", math_scale=False)"
      ],
      "execution_count": null,
      "outputs": [
        {
          "output_type": "display_data",
          "data": {
            "image/png": "[encoded data removed]",
            "text/plain": [
              "<Figure size 432x288 with 1 Axes>"
            ]
          },
          "metadata": {
            "tags": [],
            "needs_background": "light"
          }
        }
      ]
    },
    {
      "cell_type": "markdown",
      "metadata": {
        "id": "Qo9vXpX6oayr"
      },
      "source": [
        "\n",
        "**Fetal per infected is the most interesting curve in the above graph. It can be divided in 3 parts - \n",
        "1. It was at its peak in the starting because the illness was unknown, no cure was available.\n",
        "2. Doctors stated to figure out and slowly it started decreasing.\n",
        "3. After a certain time, when hospital beds were short of the pateints, it statred rising again.**\n",
        "---\n",
        "\n"
      ]
    },
    {
      "cell_type": "code",
      "metadata": {
        "id": "UUU60BYcQCXZ"
      },
      "source": [
        "#total_df[rate_cols].head(5)"
      ],
      "execution_count": null,
      "outputs": []
    },
    {
      "cell_type": "code",
      "metadata": {
        "id": "XyllS1jpQF8S",
        "outputId": "f52790a8-fa29-4ab3-c336-50be82f54a16",
        "colab": {
          "base_uri": "https://localhost:8080/",
          "height": 133
        }
      },
      "source": [
        "total_df[rate_cols].describe().T"
      ],
      "execution_count": null,
      "outputs": [
        {
          "output_type": "execute_result",
          "data": {
            "text/html": [
              "<div>\n",
              "<style scoped>\n",
              "    .dataframe tbody tr th:only-of-type {\n",
              "        vertical-align: middle;\n",
              "    }\n",
              "\n",
              "    .dataframe tbody tr th {\n",
              "        vertical-align: top;\n",
              "    }\n",
              "\n",
              "    .dataframe thead th {\n",
              "        text-align: right;\n",
              "    }\n",
              "</style>\n",
              "<table border=\"1\" class=\"dataframe\">\n",
              "  <thead>\n",
              "    <tr style=\"text-align: right;\">\n",
              "      <th></th>\n",
              "      <th>count</th>\n",
              "      <th>mean</th>\n",
              "      <th>std</th>\n",
              "      <th>min</th>\n",
              "      <th>25%</th>\n",
              "      <th>50%</th>\n",
              "      <th>75%</th>\n",
              "      <th>max</th>\n",
              "    </tr>\n",
              "  </thead>\n",
              "  <tbody>\n",
              "    <tr>\n",
              "      <th>Fatal per Confirmed</th>\n",
              "      <td>81.0</td>\n",
              "      <td>0.035452</td>\n",
              "      <td>0.011369</td>\n",
              "      <td>0.020408</td>\n",
              "      <td>0.025498</td>\n",
              "      <td>0.034036</td>\n",
              "      <td>0.043376</td>\n",
              "      <td>0.061249</td>\n",
              "    </tr>\n",
              "    <tr>\n",
              "      <th>Recovered per Confirmed</th>\n",
              "      <td>81.0</td>\n",
              "      <td>0.249411</td>\n",
              "      <td>0.172305</td>\n",
              "      <td>0.017365</td>\n",
              "      <td>0.104274</td>\n",
              "      <td>0.217497</td>\n",
              "      <td>0.387656</td>\n",
              "      <td>0.552602</td>\n",
              "    </tr>\n",
              "    <tr>\n",
              "      <th>Fatal per (Fatal or Recovered)</th>\n",
              "      <td>81.0</td>\n",
              "      <td>0.196325</td>\n",
              "      <td>0.142110</td>\n",
              "      <td>0.057464</td>\n",
              "      <td>0.088459</td>\n",
              "      <td>0.158960</td>\n",
              "      <td>0.214209</td>\n",
              "      <td>0.573427</td>\n",
              "    </tr>\n",
              "  </tbody>\n",
              "</table>\n",
              "</div>"
            ],
            "text/plain": [
              "                                count      mean  ...       75%       max\n",
              "Fatal per Confirmed              81.0  0.035452  ...  0.043376  0.061249\n",
              "Recovered per Confirmed          81.0  0.249411  ...  0.387656  0.552602\n",
              "Fatal per (Fatal or Recovered)   81.0  0.196325  ...  0.214209  0.573427\n",
              "\n",
              "[3 rows x 8 columns]"
            ]
          },
          "metadata": {
            "tags": []
          },
          "execution_count": 79
        }
      ]
    },
    {
      "cell_type": "code",
      "metadata": {
        "id": "mdMEoFUPQH_V"
      },
      "source": [
        "india = ncov_df_ungrouped[ncov_df_ungrouped['Country'] == 'India']\n",
        "india_data = india\n",
        "india = india.drop(columns= ['Country', 'Province'])\n",
        "india = india.set_index('Date') "
      ],
      "execution_count": null,
      "outputs": []
    },
    {
      "cell_type": "code",
      "metadata": {
        "id": "5dHXabupQKx5",
        "outputId": "1dc6ce2d-de74-4e95-b8b3-7a6cd9502b81",
        "colab": {
          "base_uri": "https://localhost:8080/",
          "height": 220
        }
      },
      "source": [
        "india.head()"
      ],
      "execution_count": null,
      "outputs": [
        {
          "output_type": "execute_result",
          "data": {
            "text/html": [
              "<div>\n",
              "<style scoped>\n",
              "    .dataframe tbody tr th:only-of-type {\n",
              "        vertical-align: middle;\n",
              "    }\n",
              "\n",
              "    .dataframe tbody tr th {\n",
              "        vertical-align: top;\n",
              "    }\n",
              "\n",
              "    .dataframe thead th {\n",
              "        text-align: right;\n",
              "    }\n",
              "</style>\n",
              "<table border=\"1\" class=\"dataframe\">\n",
              "  <thead>\n",
              "    <tr style=\"text-align: right;\">\n",
              "      <th></th>\n",
              "      <th>Confirmed</th>\n",
              "      <th>Infected</th>\n",
              "      <th>Deaths</th>\n",
              "      <th>Recovered</th>\n",
              "    </tr>\n",
              "    <tr>\n",
              "      <th>Date</th>\n",
              "      <th></th>\n",
              "      <th></th>\n",
              "      <th></th>\n",
              "      <th></th>\n",
              "    </tr>\n",
              "  </thead>\n",
              "  <tbody>\n",
              "    <tr>\n",
              "      <th>2020-01-30</th>\n",
              "      <td>1</td>\n",
              "      <td>1</td>\n",
              "      <td>0</td>\n",
              "      <td>0</td>\n",
              "    </tr>\n",
              "    <tr>\n",
              "      <th>2020-01-31</th>\n",
              "      <td>1</td>\n",
              "      <td>1</td>\n",
              "      <td>0</td>\n",
              "      <td>0</td>\n",
              "    </tr>\n",
              "    <tr>\n",
              "      <th>2020-02-01</th>\n",
              "      <td>1</td>\n",
              "      <td>1</td>\n",
              "      <td>0</td>\n",
              "      <td>0</td>\n",
              "    </tr>\n",
              "    <tr>\n",
              "      <th>2020-02-02</th>\n",
              "      <td>2</td>\n",
              "      <td>2</td>\n",
              "      <td>0</td>\n",
              "      <td>0</td>\n",
              "    </tr>\n",
              "    <tr>\n",
              "      <th>2020-02-03</th>\n",
              "      <td>3</td>\n",
              "      <td>3</td>\n",
              "      <td>0</td>\n",
              "      <td>0</td>\n",
              "    </tr>\n",
              "  </tbody>\n",
              "</table>\n",
              "</div>"
            ],
            "text/plain": [
              "            Confirmed  Infected  Deaths  Recovered\n",
              "Date                                              \n",
              "2020-01-30          1         1       0          0\n",
              "2020-01-31          1         1       0          0\n",
              "2020-02-01          1         1       0          0\n",
              "2020-02-02          2         2       0          0\n",
              "2020-02-03          3         3       0          0"
            ]
          },
          "metadata": {
            "tags": []
          },
          "execution_count": 81
        }
      ]
    },
    {
      "cell_type": "code",
      "metadata": {
        "id": "Ks365pyZQO0J"
      },
      "source": [
        "italy = ncov_df_ungrouped[ncov_df_ungrouped['Country'] == 'Italy']\n",
        "italy = italy.drop(columns= ['Country', 'Province'])\n",
        "italy = italy.set_index('Date') "
      ],
      "execution_count": null,
      "outputs": []
    },
    {
      "cell_type": "code",
      "metadata": {
        "id": "g9NBqUbZTREQ"
      },
      "source": [
        "us_data =us_data.set_index('Date')"
      ],
      "execution_count": null,
      "outputs": []
    },
    {
      "cell_type": "code",
      "metadata": {
        "id": "Gjw2s0pbQSM1",
        "outputId": "d0ae0098-15e0-45e7-b85c-06332e664140",
        "colab": {
          "base_uri": "https://localhost:8080/",
          "height": 220
        }
      },
      "source": [
        "#us_data.head() \n",
        "us_data = us_data.drop(['SNo'], axis=1) \n",
        "us_data.head()"
      ],
      "execution_count": null,
      "outputs": [
        {
          "output_type": "execute_result",
          "data": {
            "text/html": [
              "<div>\n",
              "<style scoped>\n",
              "    .dataframe tbody tr th:only-of-type {\n",
              "        vertical-align: middle;\n",
              "    }\n",
              "\n",
              "    .dataframe tbody tr th {\n",
              "        vertical-align: top;\n",
              "    }\n",
              "\n",
              "    .dataframe thead th {\n",
              "        text-align: right;\n",
              "    }\n",
              "</style>\n",
              "<table border=\"1\" class=\"dataframe\">\n",
              "  <thead>\n",
              "    <tr style=\"text-align: right;\">\n",
              "      <th></th>\n",
              "      <th>Confirmed</th>\n",
              "      <th>Deaths</th>\n",
              "      <th>Recovered</th>\n",
              "    </tr>\n",
              "    <tr>\n",
              "      <th>Date</th>\n",
              "      <th></th>\n",
              "      <th></th>\n",
              "      <th></th>\n",
              "    </tr>\n",
              "  </thead>\n",
              "  <tbody>\n",
              "    <tr>\n",
              "      <th>01/22/2020</th>\n",
              "      <td>1</td>\n",
              "      <td>0</td>\n",
              "      <td>0</td>\n",
              "    </tr>\n",
              "    <tr>\n",
              "      <th>01/23/2020</th>\n",
              "      <td>1</td>\n",
              "      <td>0</td>\n",
              "      <td>0</td>\n",
              "    </tr>\n",
              "    <tr>\n",
              "      <th>01/24/2020</th>\n",
              "      <td>2</td>\n",
              "      <td>0</td>\n",
              "      <td>0</td>\n",
              "    </tr>\n",
              "    <tr>\n",
              "      <th>01/25/2020</th>\n",
              "      <td>2</td>\n",
              "      <td>0</td>\n",
              "      <td>0</td>\n",
              "    </tr>\n",
              "    <tr>\n",
              "      <th>01/26/2020</th>\n",
              "      <td>5</td>\n",
              "      <td>0</td>\n",
              "      <td>0</td>\n",
              "    </tr>\n",
              "  </tbody>\n",
              "</table>\n",
              "</div>"
            ],
            "text/plain": [
              "            Confirmed  Deaths  Recovered\n",
              "Date                                    \n",
              "01/22/2020          1       0          0\n",
              "01/23/2020          1       0          0\n",
              "01/24/2020          2       0          0\n",
              "01/25/2020          2       0          0\n",
              "01/26/2020          5       0          0"
            ]
          },
          "metadata": {
            "tags": []
          },
          "execution_count": 84
        }
      ]
    },
    {
      "cell_type": "code",
      "metadata": {
        "id": "WBs5XtMoTVFV"
      },
      "source": [
        "usa = us_data"
      ],
      "execution_count": null,
      "outputs": []
    },
    {
      "cell_type": "code",
      "metadata": {
        "id": "xsIC_0CtS64C",
        "outputId": "c696905e-f8ca-44af-aafa-e9885341d8dc",
        "colab": {
          "base_uri": "https://localhost:8080/",
          "height": 220
        }
      },
      "source": [
        "india.head()"
      ],
      "execution_count": null,
      "outputs": [
        {
          "output_type": "execute_result",
          "data": {
            "text/html": [
              "<div>\n",
              "<style scoped>\n",
              "    .dataframe tbody tr th:only-of-type {\n",
              "        vertical-align: middle;\n",
              "    }\n",
              "\n",
              "    .dataframe tbody tr th {\n",
              "        vertical-align: top;\n",
              "    }\n",
              "\n",
              "    .dataframe thead th {\n",
              "        text-align: right;\n",
              "    }\n",
              "</style>\n",
              "<table border=\"1\" class=\"dataframe\">\n",
              "  <thead>\n",
              "    <tr style=\"text-align: right;\">\n",
              "      <th></th>\n",
              "      <th>Confirmed</th>\n",
              "      <th>Infected</th>\n",
              "      <th>Deaths</th>\n",
              "      <th>Recovered</th>\n",
              "    </tr>\n",
              "    <tr>\n",
              "      <th>Date</th>\n",
              "      <th></th>\n",
              "      <th></th>\n",
              "      <th></th>\n",
              "      <th></th>\n",
              "    </tr>\n",
              "  </thead>\n",
              "  <tbody>\n",
              "    <tr>\n",
              "      <th>2020-01-30</th>\n",
              "      <td>1</td>\n",
              "      <td>1</td>\n",
              "      <td>0</td>\n",
              "      <td>0</td>\n",
              "    </tr>\n",
              "    <tr>\n",
              "      <th>2020-01-31</th>\n",
              "      <td>1</td>\n",
              "      <td>1</td>\n",
              "      <td>0</td>\n",
              "      <td>0</td>\n",
              "    </tr>\n",
              "    <tr>\n",
              "      <th>2020-02-01</th>\n",
              "      <td>1</td>\n",
              "      <td>1</td>\n",
              "      <td>0</td>\n",
              "      <td>0</td>\n",
              "    </tr>\n",
              "    <tr>\n",
              "      <th>2020-02-02</th>\n",
              "      <td>2</td>\n",
              "      <td>2</td>\n",
              "      <td>0</td>\n",
              "      <td>0</td>\n",
              "    </tr>\n",
              "    <tr>\n",
              "      <th>2020-02-03</th>\n",
              "      <td>3</td>\n",
              "      <td>3</td>\n",
              "      <td>0</td>\n",
              "      <td>0</td>\n",
              "    </tr>\n",
              "  </tbody>\n",
              "</table>\n",
              "</div>"
            ],
            "text/plain": [
              "            Confirmed  Infected  Deaths  Recovered\n",
              "Date                                              \n",
              "2020-01-30          1         1       0          0\n",
              "2020-01-31          1         1       0          0\n",
              "2020-02-01          1         1       0          0\n",
              "2020-02-02          2         2       0          0\n",
              "2020-02-03          3         3       0          0"
            ]
          },
          "metadata": {
            "tags": []
          },
          "execution_count": 86
        }
      ]
    },
    {
      "cell_type": "code",
      "metadata": {
        "id": "_C20fcJzQTMu",
        "outputId": "ec58bb16-3340-4491-e56c-92109256313a",
        "colab": {
          "base_uri": "https://localhost:8080/",
          "height": 297
        }
      },
      "source": [
        "line_plot(india, \"Spread in India\")"
      ],
      "execution_count": null,
      "outputs": [
        {
          "output_type": "display_data",
          "data": {
            "image/png": "[encoded data removed]",
            "text/plain": [
              "<Figure size 432x288 with 1 Axes>"
            ]
          },
          "metadata": {
            "tags": [],
            "needs_background": "light"
          }
        }
      ]
    },
    {
      "cell_type": "code",
      "metadata": {
        "id": "nMOMcR1eQYrG",
        "outputId": "ec10b15d-2412-445f-e0d3-bf2f12372d1d",
        "colab": {
          "base_uri": "https://localhost:8080/",
          "height": 297
        }
      },
      "source": [
        "line_plot(italy, \"Spread in Italy\")"
      ],
      "execution_count": null,
      "outputs": [
        {
          "output_type": "display_data",
          "data": {
            "image/png": "[encoded data removed]",
            "text/plain": [
              "<Figure size 432x288 with 1 Axes>"
            ]
          },
          "metadata": {
            "tags": [],
            "needs_background": "light"
          }
        }
      ]
    },
    {
      "cell_type": "code",
      "metadata": {
        "id": "K8TXAGzVQbUt",
        "outputId": "4f7d6e31-ac89-4232-94b6-3be3e308839b",
        "colab": {
          "base_uri": "https://localhost:8080/",
          "height": 297
        }
      },
      "source": [
        "line_plot(usa, \"Spread in USA\")"
      ],
      "execution_count": null,
      "outputs": [
        {
          "output_type": "display_data",
          "data": {
            "image/png": "[encoded data removed]",
            "text/plain": [
              "<Figure size 432x288 with 1 Axes>"
            ]
          },
          "metadata": {
            "tags": [],
            "needs_background": "light"
          }
        }
      ]
    },
    {
      "cell_type": "markdown",
      "metadata": {
        "id": "NKWFSsUAph9A"
      },
      "source": [
        "**Graphs of 3 countries which were very badly hit by COVID-19 are present here**\n",
        "We can notice the concavity of the graphs, in India and USA the growth was bit steady, which could be said to be concave up. Bu Italy stood remarkably different, concave down. Which might be good but once it reaches the peak. ELse it signifies the situation to be more out of control!!"
      ]
    }
  ]
}